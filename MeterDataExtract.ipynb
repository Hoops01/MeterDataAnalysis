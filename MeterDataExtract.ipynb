{
 "cells": [
  {
   "cell_type": "code",
   "execution_count": 1,
   "metadata": {},
   "outputs": [
    {
     "name": "stderr",
     "output_type": "stream",
     "text": [
      "C:\\ProgramData\\Anaconda3\\lib\\site-packages\\statsmodels\\tools\\_testing.py:19: FutureWarning: pandas.util.testing is deprecated. Use the functions in the public API at pandas.testing instead.\n",
      "  import pandas.util.testing as tm\n"
     ]
    }
   ],
   "source": [
    "import numpy as np\n",
    "import os\n",
    "import pandas as pd\n",
    "import matplotlib.pyplot as plt\n",
    "import csv\n",
    "import seaborn as sns\n",
    "from matplotlib import cm\n",
    "from matplotlib.dates import MinuteLocator, DateFormatter\n",
    "from matplotlib.ticker import (MultipleLocator, AutoMinorLocator, NullFormatter)\n",
    "\n",
    "from datetime import timedelta\n",
    "\n",
    "# \n",
    "\n",
    "import datetime as dt\n",
    "from datetime import datetime\n",
    "\n",
    "sns.set(rc={'figure.figsize':(11, 4)})\n",
    "plt.rcParams[\"figure.figsize\"] = (11,4)\n",
    "\n",
    "# pd.set_option('notebook_repr_html',True)\n",
    "%matplotlib inline\n",
    "pd.set_option(\"display.max_rows\",10)"
   ]
  },
  {
   "cell_type": "code",
   "execution_count": 2,
   "metadata": {},
   "outputs": [
    {
     "data": {
      "text/plain": [
       "'Period_48'"
      ]
     },
     "execution_count": 2,
     "metadata": {},
     "output_type": "execute_result"
    }
   ],
   "source": [
    "a = pd.Timestamp('2021-04-19 00:00')\n",
    "a.minute\n",
    "\n",
    "def time_to_period(x):\n",
    "    return int(((2*(x.hour + x.minute/60)-1) % 48 )+ 1)\n",
    "\n",
    "\n",
    "time_to_period(a)\n",
    "\n",
    "def time_to_date(x):\n",
    "    return x.date()\n",
    "\n",
    "def time_to_periodstring(x):\n",
    "    return 'Period_{:02d}'.format(time_to_period(x))\n",
    "\n",
    "time_to_periodstring(a)"
   ]
  },
  {
   "cell_type": "markdown",
   "metadata": {},
   "source": [
    "## Import Data"
   ]
  },
  {
   "cell_type": "code",
   "execution_count": 3,
   "metadata": {
    "scrolled": false
   },
   "outputs": [],
   "source": [
    "\n",
    "def get_data(filename):\n",
    "    rows = []\n",
    "    with open(filename) as f_input:\n",
    "        reader = csv.reader(f_input)\n",
    "        for row in reader:\n",
    "            if row:\n",
    "                if row[0] == '300':\n",
    "                    rows.append(row[1:50])\n",
    "                    \n",
    "    df = pd.DataFrame(rows)\n",
    "    df.set_index(pd.to_datetime(df[0], format=\"%Y%m%d\"), inplace=True)\n",
    "\n",
    "    df.drop(columns=[0], inplace=True)\n",
    "    df.index.set_names('DATE', inplace=True)\n",
    "    df = df.astype('float')\n",
    "    return df"
   ]
  },
  {
   "cell_type": "code",
   "execution_count": 4,
   "metadata": {},
   "outputs": [],
   "source": [
    "def get_data(filename):\n",
    "    \n",
    "#     dateparse = lambda x: datetime.strptime(x, '%Y-%m-%d %H:%M:%S')\n",
    "\n",
    "\n",
    "    df = pd.read_csv(filename, parse_dates=[0], dayfirst=True)#, date_parser=dateparse)\n",
    "    df.datetime_utc = pd.to_datetime(df['datetime_utc'], errors='coerce', format='%Y-%m-%d %H:M')\n",
    "    df['datetime'] = df.datetime_utc + timedelta(hours=10)\n",
    "    df.drop(['datetime_utc', 'datetime_local','is_peak', 'cost_dollars'], axis=1, inplace=True, errors='ignore')\n",
    "    df = df.set_index('datetime')\n",
    "#     freq = pd.infer_freq(df.index)\n",
    "#     df = df.asfreq(freq)\n",
    "    return df"
   ]
  },
  {
   "cell_type": "markdown",
   "metadata": {},
   "source": [
    "## Get Powerpal Data\n"
   ]
  },
  {
   "cell_type": "code",
   "execution_count": 6,
   "metadata": {},
   "outputs": [
    {
     "data": {
      "text/html": [
       "<div>\n",
       "<style scoped>\n",
       "    .dataframe tbody tr th:only-of-type {\n",
       "        vertical-align: middle;\n",
       "    }\n",
       "\n",
       "    .dataframe tbody tr th {\n",
       "        vertical-align: top;\n",
       "    }\n",
       "\n",
       "    .dataframe thead th {\n",
       "        text-align: right;\n",
       "    }\n",
       "</style>\n",
       "<table border=\"1\" class=\"dataframe\">\n",
       "  <thead>\n",
       "    <tr style=\"text-align: right;\">\n",
       "      <th></th>\n",
       "      <th>watt_hours</th>\n",
       "    </tr>\n",
       "    <tr>\n",
       "      <th>datetime</th>\n",
       "      <th></th>\n",
       "    </tr>\n",
       "  </thead>\n",
       "  <tbody>\n",
       "    <tr>\n",
       "      <th>2021-04-15 14:36:00</th>\n",
       "      <td>1.0</td>\n",
       "    </tr>\n",
       "    <tr>\n",
       "      <th>2021-04-15 14:37:00</th>\n",
       "      <td>8.0</td>\n",
       "    </tr>\n",
       "    <tr>\n",
       "      <th>2021-04-15 14:38:00</th>\n",
       "      <td>8.0</td>\n",
       "    </tr>\n",
       "    <tr>\n",
       "      <th>2021-04-15 14:39:00</th>\n",
       "      <td>6.0</td>\n",
       "    </tr>\n",
       "    <tr>\n",
       "      <th>2021-04-15 14:40:00</th>\n",
       "      <td>6.0</td>\n",
       "    </tr>\n",
       "    <tr>\n",
       "      <th>...</th>\n",
       "      <td>...</td>\n",
       "    </tr>\n",
       "    <tr>\n",
       "      <th>2022-05-31 10:41:00</th>\n",
       "      <td>18.0</td>\n",
       "    </tr>\n",
       "    <tr>\n",
       "      <th>2022-05-31 10:42:00</th>\n",
       "      <td>18.0</td>\n",
       "    </tr>\n",
       "    <tr>\n",
       "      <th>2022-05-31 10:43:00</th>\n",
       "      <td>20.0</td>\n",
       "    </tr>\n",
       "    <tr>\n",
       "      <th>2022-05-31 10:44:00</th>\n",
       "      <td>18.0</td>\n",
       "    </tr>\n",
       "    <tr>\n",
       "      <th>2022-05-31 10:45:00</th>\n",
       "      <td>17.0</td>\n",
       "    </tr>\n",
       "  </tbody>\n",
       "</table>\n",
       "<p>591609 rows × 1 columns</p>\n",
       "</div>"
      ],
      "text/plain": [
       "                     watt_hours\n",
       "datetime                       \n",
       "2021-04-15 14:36:00         1.0\n",
       "2021-04-15 14:37:00         8.0\n",
       "2021-04-15 14:38:00         8.0\n",
       "2021-04-15 14:39:00         6.0\n",
       "2021-04-15 14:40:00         6.0\n",
       "...                         ...\n",
       "2022-05-31 10:41:00        18.0\n",
       "2022-05-31 10:42:00        18.0\n",
       "2022-05-31 10:43:00        20.0\n",
       "2022-05-31 10:44:00        18.0\n",
       "2022-05-31 10:45:00        17.0\n",
       "\n",
       "[591609 rows x 1 columns]"
      ]
     },
     "execution_count": 6,
     "metadata": {},
     "output_type": "execute_result"
    }
   ],
   "source": [
    "\n",
    "files = ['powerpal_data_00016633_20210415_20210714.csv',\n",
    "         'powerpal_data_00016633_20210608_20210907.csv',\n",
    "         'powerpal_data_00016633_20210906_20211206.csv',\n",
    "         'powerpal_data_00016633_20211022_20220120.csv',\n",
    "         'powerpal_data_00016633_20211221_20220320.csv',\n",
    "         'powerpal_data_00016633_20220302_20220531.csv',\n",
    "        ]\n",
    "\n",
    "df_list = []\n",
    "for filename in files:\n",
    "    df_list.append(get_data(filename))\n",
    "\n",
    "df = df_list[0]\n",
    "for dfc in df_list[1:]:\n",
    "    df = df.combine_first(dfc)\n",
    "# df = pd.concat(df_list, ignore_index=False).sort_index()\n",
    "df"
   ]
  },
  {
   "cell_type": "code",
   "execution_count": 7,
   "metadata": {},
   "outputs": [],
   "source": [
    "# df_list[-1]\n",
    "# df = get_data(filename)\n",
    "# df = pd.read_csv(filename, parse_dates=[0], dayfirst=True)\n",
    "# df.datetime_utc#.dt.month.to_clipboard()\n",
    "# pd.infer_freq(df.index)"
   ]
  },
  {
   "cell_type": "code",
   "execution_count": 8,
   "metadata": {},
   "outputs": [
    {
     "name": "stdout",
     "output_type": "stream",
     "text": [
      "2021-04-15 14:36:00 2022-05-31 10:45:00\n",
      "591609.0\n",
      "591609\n",
      "410 days 20:09:00\n"
     ]
    }
   ],
   "source": [
    "start = df.index[0]\n",
    "end = df.index[-1]\n",
    "print(start, end)\n",
    "print(pd.Timedelta(end - start).total_seconds()/60)\n",
    "print(len(df))\n",
    "print(end - start)"
   ]
  },
  {
   "cell_type": "code",
   "execution_count": 9,
   "metadata": {},
   "outputs": [
    {
     "data": {
      "text/plain": [
       "<AxesSubplot:xlabel='datetime'>"
      ]
     },
     "execution_count": 9,
     "metadata": {},
     "output_type": "execute_result"
    },
    {
     "data": {
      "image/png": "[encoded data removed]",
      "text/plain": [
       "<Figure size 432x288 with 1 Axes>"
      ]
     },
     "metadata": {
      "needs_background": "light"
     },
     "output_type": "display_data"
    }
   ],
   "source": [
    "df_daily = df.groupby(pd.Grouper(freq='D')).sum()\n",
    "df_daily.plot(ylim=[0,22000])"
   ]
  },
  {
   "cell_type": "code",
   "execution_count": 90,
   "metadata": {},
   "outputs": [
    {
     "data": {
      "text/plain": [
       "watt_hours    11230.460411\n",
       "dtype: float64"
      ]
     },
     "execution_count": 90,
     "metadata": {},
     "output_type": "execute_result"
    }
   ],
   "source": [
    "df_daily.mean()"
   ]
  },
  {
   "cell_type": "code",
   "execution_count": null,
   "metadata": {},
   "outputs": [],
   "source": []
  },
  {
   "cell_type": "code",
   "execution_count": 99,
   "metadata": {},
   "outputs": [
    {
     "data": {
      "text/html": [
       "<div>\n",
       "<style scoped>\n",
       "    .dataframe tbody tr th:only-of-type {\n",
       "        vertical-align: middle;\n",
       "    }\n",
       "\n",
       "    .dataframe tbody tr th {\n",
       "        vertical-align: top;\n",
       "    }\n",
       "\n",
       "    .dataframe thead th {\n",
       "        text-align: right;\n",
       "    }\n",
       "</style>\n",
       "<table border=\"1\" class=\"dataframe\">\n",
       "  <thead>\n",
       "    <tr style=\"text-align: right;\">\n",
       "      <th></th>\n",
       "      <th>watt_hours</th>\n",
       "    </tr>\n",
       "    <tr>\n",
       "      <th>datetime</th>\n",
       "      <th></th>\n",
       "    </tr>\n",
       "  </thead>\n",
       "  <tbody>\n",
       "    <tr>\n",
       "      <th>2021-04-15 14:30:00</th>\n",
       "      <td>280.0</td>\n",
       "    </tr>\n",
       "    <tr>\n",
       "      <th>2021-04-15 15:00:00</th>\n",
       "      <td>186.0</td>\n",
       "    </tr>\n",
       "    <tr>\n",
       "      <th>2021-04-15 15:30:00</th>\n",
       "      <td>183.0</td>\n",
       "    </tr>\n",
       "    <tr>\n",
       "      <th>2021-04-15 16:00:00</th>\n",
       "      <td>188.0</td>\n",
       "    </tr>\n",
       "    <tr>\n",
       "      <th>2021-04-15 16:30:00</th>\n",
       "      <td>210.0</td>\n",
       "    </tr>\n",
       "    <tr>\n",
       "      <th>...</th>\n",
       "      <td>...</td>\n",
       "    </tr>\n",
       "    <tr>\n",
       "      <th>2022-03-21 10:00:00</th>\n",
       "      <td>118.0</td>\n",
       "    </tr>\n",
       "    <tr>\n",
       "      <th>2022-03-21 10:30:00</th>\n",
       "      <td>700.0</td>\n",
       "    </tr>\n",
       "    <tr>\n",
       "      <th>2022-03-21 11:00:00</th>\n",
       "      <td>579.0</td>\n",
       "    </tr>\n",
       "    <tr>\n",
       "      <th>2022-03-21 11:30:00</th>\n",
       "      <td>155.0</td>\n",
       "    </tr>\n",
       "    <tr>\n",
       "      <th>2022-03-21 12:00:00</th>\n",
       "      <td>70.0</td>\n",
       "    </tr>\n",
       "  </tbody>\n",
       "</table>\n",
       "<p>16316 rows × 1 columns</p>\n",
       "</div>"
      ],
      "text/plain": [
       "                     watt_hours\n",
       "datetime                       \n",
       "2021-04-15 14:30:00       280.0\n",
       "2021-04-15 15:00:00       186.0\n",
       "2021-04-15 15:30:00       183.0\n",
       "2021-04-15 16:00:00       188.0\n",
       "2021-04-15 16:30:00       210.0\n",
       "...                         ...\n",
       "2022-03-21 10:00:00       118.0\n",
       "2022-03-21 10:30:00       700.0\n",
       "2022-03-21 11:00:00       579.0\n",
       "2022-03-21 11:30:00       155.0\n",
       "2022-03-21 12:00:00        70.0\n",
       "\n",
       "[16316 rows x 1 columns]"
      ]
     },
     "execution_count": 99,
     "metadata": {},
     "output_type": "execute_result"
    }
   ],
   "source": [
    "df_30min = df.resample('30min').sum()\n",
    "df_30min"
   ]
  },
  {
   "cell_type": "code",
   "execution_count": 51,
   "metadata": {},
   "outputs": [
    {
     "data": {
      "text/plain": [
       "Int64Index([29, 30, 31, 32, 33, 34, 35, 36, 37, 38,\n",
       "            ...\n",
       "            15, 16, 17, 18, 19, 20, 21, 22, 23, 24],\n",
       "           dtype='int64', name='datetime', length=16316)"
      ]
     },
     "execution_count": 51,
     "metadata": {},
     "output_type": "execute_result"
    }
   ],
   "source": [
    "df_30min.index.map(time_to_period)"
   ]
  },
  {
   "cell_type": "code",
   "execution_count": null,
   "metadata": {},
   "outputs": [],
   "source": []
  },
  {
   "cell_type": "code",
   "execution_count": 52,
   "metadata": {},
   "outputs": [],
   "source": [
    "def to_columnwise(df):\n",
    "    df['Period'] = df.index.map(time_to_period)\n",
    "    df['Settlement_Date'] = df.index.map(time_to_date)\n",
    "    df = df.reset_index()\n",
    "    df = df.set_index(['Settlement_Date','Period'])\n",
    "    df = df.watt_hours.unstack()\n",
    "    df.columns = ['Period_{:02d}'.format(i+1) for i in range(48)]\n",
    "    return df\n",
    "\n",
    "def time_to_5period(x):\n",
    "    return int(((12*(x.hour + x.minute/60)-1) % 288 )+ 1)\n",
    "\n",
    "def to_columnwise_5min(df):\n",
    "    df['Period'] = df.index.map(time_to_5period)\n",
    "    df['Settlement_Date'] = df.index.map(time_to_date)\n",
    "    df = df.reset_index()\n",
    "    df = df.set_index(['Settlement_Date','Period'])\n",
    "    df = df.watt_hours.unstack()\n",
    "    df.columns = ['Period_{:002d}'.format(i+1) for i in range(288)]\n",
    "    return df"
   ]
  },
  {
   "cell_type": "code",
   "execution_count": 96,
   "metadata": {},
   "outputs": [
    {
     "data": {
      "text/html": [
       "<div>\n",
       "<style scoped>\n",
       "    .dataframe tbody tr th:only-of-type {\n",
       "        vertical-align: middle;\n",
       "    }\n",
       "\n",
       "    .dataframe tbody tr th {\n",
       "        vertical-align: top;\n",
       "    }\n",
       "\n",
       "    .dataframe thead th {\n",
       "        text-align: right;\n",
       "    }\n",
       "</style>\n",
       "<table border=\"1\" class=\"dataframe\">\n",
       "  <thead>\n",
       "    <tr style=\"text-align: right;\">\n",
       "      <th></th>\n",
       "      <th>Period_01</th>\n",
       "      <th>Period_02</th>\n",
       "      <th>Period_03</th>\n",
       "      <th>Period_04</th>\n",
       "      <th>Period_05</th>\n",
       "      <th>Period_06</th>\n",
       "      <th>Period_07</th>\n",
       "      <th>Period_08</th>\n",
       "      <th>Period_09</th>\n",
       "      <th>Period_10</th>\n",
       "      <th>...</th>\n",
       "      <th>Period_39</th>\n",
       "      <th>Period_40</th>\n",
       "      <th>Period_41</th>\n",
       "      <th>Period_42</th>\n",
       "      <th>Period_43</th>\n",
       "      <th>Period_44</th>\n",
       "      <th>Period_45</th>\n",
       "      <th>Period_46</th>\n",
       "      <th>Period_47</th>\n",
       "      <th>Period_48</th>\n",
       "    </tr>\n",
       "    <tr>\n",
       "      <th>Settlement_Date</th>\n",
       "      <th></th>\n",
       "      <th></th>\n",
       "      <th></th>\n",
       "      <th></th>\n",
       "      <th></th>\n",
       "      <th></th>\n",
       "      <th></th>\n",
       "      <th></th>\n",
       "      <th></th>\n",
       "      <th></th>\n",
       "      <th></th>\n",
       "      <th></th>\n",
       "      <th></th>\n",
       "      <th></th>\n",
       "      <th></th>\n",
       "      <th></th>\n",
       "      <th></th>\n",
       "      <th></th>\n",
       "      <th></th>\n",
       "      <th></th>\n",
       "      <th></th>\n",
       "    </tr>\n",
       "  </thead>\n",
       "  <tbody>\n",
       "    <tr>\n",
       "      <th>2021-04-15</th>\n",
       "      <td>NaN</td>\n",
       "      <td>NaN</td>\n",
       "      <td>NaN</td>\n",
       "      <td>NaN</td>\n",
       "      <td>NaN</td>\n",
       "      <td>NaN</td>\n",
       "      <td>NaN</td>\n",
       "      <td>NaN</td>\n",
       "      <td>NaN</td>\n",
       "      <td>NaN</td>\n",
       "      <td>...</td>\n",
       "      <td>179.0</td>\n",
       "      <td>170.0</td>\n",
       "      <td>170.0</td>\n",
       "      <td>161.0</td>\n",
       "      <td>161.0</td>\n",
       "      <td>129.0</td>\n",
       "      <td>112.0</td>\n",
       "      <td>100.0</td>\n",
       "      <td>87.0</td>\n",
       "      <td>NaN</td>\n",
       "    </tr>\n",
       "    <tr>\n",
       "      <th>2021-04-16</th>\n",
       "      <td>98.0</td>\n",
       "      <td>98.0</td>\n",
       "      <td>87.0</td>\n",
       "      <td>87.0</td>\n",
       "      <td>97.0</td>\n",
       "      <td>96.0</td>\n",
       "      <td>93.0</td>\n",
       "      <td>83.0</td>\n",
       "      <td>90.0</td>\n",
       "      <td>97.0</td>\n",
       "      <td>...</td>\n",
       "      <td>172.0</td>\n",
       "      <td>181.0</td>\n",
       "      <td>173.0</td>\n",
       "      <td>163.0</td>\n",
       "      <td>463.0</td>\n",
       "      <td>399.0</td>\n",
       "      <td>122.0</td>\n",
       "      <td>383.0</td>\n",
       "      <td>176.0</td>\n",
       "      <td>91.0</td>\n",
       "    </tr>\n",
       "    <tr>\n",
       "      <th>2021-04-17</th>\n",
       "      <td>96.0</td>\n",
       "      <td>92.0</td>\n",
       "      <td>83.0</td>\n",
       "      <td>89.0</td>\n",
       "      <td>98.0</td>\n",
       "      <td>95.0</td>\n",
       "      <td>84.0</td>\n",
       "      <td>82.0</td>\n",
       "      <td>93.0</td>\n",
       "      <td>92.0</td>\n",
       "      <td>...</td>\n",
       "      <td>278.0</td>\n",
       "      <td>263.0</td>\n",
       "      <td>142.0</td>\n",
       "      <td>137.0</td>\n",
       "      <td>214.0</td>\n",
       "      <td>127.0</td>\n",
       "      <td>114.0</td>\n",
       "      <td>88.0</td>\n",
       "      <td>85.0</td>\n",
       "      <td>90.0</td>\n",
       "    </tr>\n",
       "    <tr>\n",
       "      <th>2021-04-18</th>\n",
       "      <td>96.0</td>\n",
       "      <td>94.0</td>\n",
       "      <td>83.0</td>\n",
       "      <td>86.0</td>\n",
       "      <td>96.0</td>\n",
       "      <td>97.0</td>\n",
       "      <td>90.0</td>\n",
       "      <td>82.0</td>\n",
       "      <td>90.0</td>\n",
       "      <td>95.0</td>\n",
       "      <td>...</td>\n",
       "      <td>241.0</td>\n",
       "      <td>175.0</td>\n",
       "      <td>172.0</td>\n",
       "      <td>176.0</td>\n",
       "      <td>148.0</td>\n",
       "      <td>112.0</td>\n",
       "      <td>88.0</td>\n",
       "      <td>87.0</td>\n",
       "      <td>93.0</td>\n",
       "      <td>95.0</td>\n",
       "    </tr>\n",
       "    <tr>\n",
       "      <th>2021-04-19</th>\n",
       "      <td>96.0</td>\n",
       "      <td>86.0</td>\n",
       "      <td>85.0</td>\n",
       "      <td>95.0</td>\n",
       "      <td>95.0</td>\n",
       "      <td>91.0</td>\n",
       "      <td>82.0</td>\n",
       "      <td>86.0</td>\n",
       "      <td>96.0</td>\n",
       "      <td>95.0</td>\n",
       "      <td>...</td>\n",
       "      <td>188.0</td>\n",
       "      <td>270.0</td>\n",
       "      <td>265.0</td>\n",
       "      <td>134.0</td>\n",
       "      <td>131.0</td>\n",
       "      <td>123.0</td>\n",
       "      <td>106.0</td>\n",
       "      <td>100.0</td>\n",
       "      <td>90.0</td>\n",
       "      <td>96.0</td>\n",
       "    </tr>\n",
       "    <tr>\n",
       "      <th>...</th>\n",
       "      <td>...</td>\n",
       "      <td>...</td>\n",
       "      <td>...</td>\n",
       "      <td>...</td>\n",
       "      <td>...</td>\n",
       "      <td>...</td>\n",
       "      <td>...</td>\n",
       "      <td>...</td>\n",
       "      <td>...</td>\n",
       "      <td>...</td>\n",
       "      <td>...</td>\n",
       "      <td>...</td>\n",
       "      <td>...</td>\n",
       "      <td>...</td>\n",
       "      <td>...</td>\n",
       "      <td>...</td>\n",
       "      <td>...</td>\n",
       "      <td>...</td>\n",
       "      <td>...</td>\n",
       "      <td>...</td>\n",
       "      <td>...</td>\n",
       "    </tr>\n",
       "    <tr>\n",
       "      <th>2022-03-17</th>\n",
       "      <td>71.0</td>\n",
       "      <td>69.0</td>\n",
       "      <td>70.0</td>\n",
       "      <td>79.0</td>\n",
       "      <td>76.0</td>\n",
       "      <td>70.0</td>\n",
       "      <td>68.0</td>\n",
       "      <td>67.0</td>\n",
       "      <td>74.0</td>\n",
       "      <td>74.0</td>\n",
       "      <td>...</td>\n",
       "      <td>172.0</td>\n",
       "      <td>167.0</td>\n",
       "      <td>175.0</td>\n",
       "      <td>760.0</td>\n",
       "      <td>97.0</td>\n",
       "      <td>92.0</td>\n",
       "      <td>93.0</td>\n",
       "      <td>102.0</td>\n",
       "      <td>103.0</td>\n",
       "      <td>81.0</td>\n",
       "    </tr>\n",
       "    <tr>\n",
       "      <th>2022-03-18</th>\n",
       "      <td>91.0</td>\n",
       "      <td>90.0</td>\n",
       "      <td>97.0</td>\n",
       "      <td>103.0</td>\n",
       "      <td>101.0</td>\n",
       "      <td>94.0</td>\n",
       "      <td>88.0</td>\n",
       "      <td>90.0</td>\n",
       "      <td>98.0</td>\n",
       "      <td>99.0</td>\n",
       "      <td>...</td>\n",
       "      <td>187.0</td>\n",
       "      <td>178.0</td>\n",
       "      <td>177.0</td>\n",
       "      <td>116.0</td>\n",
       "      <td>116.0</td>\n",
       "      <td>82.0</td>\n",
       "      <td>76.0</td>\n",
       "      <td>70.0</td>\n",
       "      <td>72.0</td>\n",
       "      <td>97.0</td>\n",
       "    </tr>\n",
       "    <tr>\n",
       "      <th>2022-03-19</th>\n",
       "      <td>77.0</td>\n",
       "      <td>80.0</td>\n",
       "      <td>74.0</td>\n",
       "      <td>74.0</td>\n",
       "      <td>70.0</td>\n",
       "      <td>76.0</td>\n",
       "      <td>77.0</td>\n",
       "      <td>76.0</td>\n",
       "      <td>58.0</td>\n",
       "      <td>168.0</td>\n",
       "      <td>...</td>\n",
       "      <td>93.0</td>\n",
       "      <td>70.0</td>\n",
       "      <td>179.0</td>\n",
       "      <td>119.0</td>\n",
       "      <td>110.0</td>\n",
       "      <td>559.0</td>\n",
       "      <td>366.0</td>\n",
       "      <td>246.0</td>\n",
       "      <td>238.0</td>\n",
       "      <td>73.0</td>\n",
       "    </tr>\n",
       "    <tr>\n",
       "      <th>2022-03-20</th>\n",
       "      <td>224.0</td>\n",
       "      <td>115.0</td>\n",
       "      <td>119.0</td>\n",
       "      <td>111.0</td>\n",
       "      <td>102.0</td>\n",
       "      <td>100.0</td>\n",
       "      <td>116.0</td>\n",
       "      <td>116.0</td>\n",
       "      <td>109.0</td>\n",
       "      <td>99.0</td>\n",
       "      <td>...</td>\n",
       "      <td>182.0</td>\n",
       "      <td>157.0</td>\n",
       "      <td>158.0</td>\n",
       "      <td>89.0</td>\n",
       "      <td>78.0</td>\n",
       "      <td>77.0</td>\n",
       "      <td>79.0</td>\n",
       "      <td>76.0</td>\n",
       "      <td>69.0</td>\n",
       "      <td>224.0</td>\n",
       "    </tr>\n",
       "    <tr>\n",
       "      <th>2022-03-21</th>\n",
       "      <td>73.0</td>\n",
       "      <td>76.0</td>\n",
       "      <td>76.0</td>\n",
       "      <td>69.0</td>\n",
       "      <td>68.0</td>\n",
       "      <td>70.0</td>\n",
       "      <td>75.0</td>\n",
       "      <td>75.0</td>\n",
       "      <td>68.0</td>\n",
       "      <td>66.0</td>\n",
       "      <td>...</td>\n",
       "      <td>NaN</td>\n",
       "      <td>NaN</td>\n",
       "      <td>NaN</td>\n",
       "      <td>NaN</td>\n",
       "      <td>NaN</td>\n",
       "      <td>NaN</td>\n",
       "      <td>NaN</td>\n",
       "      <td>NaN</td>\n",
       "      <td>NaN</td>\n",
       "      <td>69.0</td>\n",
       "    </tr>\n",
       "  </tbody>\n",
       "</table>\n",
       "<p>341 rows × 48 columns</p>\n",
       "</div>"
      ],
      "text/plain": [
       "                 Period_01  Period_02  Period_03  Period_04  Period_05  \\\n",
       "Settlement_Date                                                          \n",
       "2021-04-15             NaN        NaN        NaN        NaN        NaN   \n",
       "2021-04-16            98.0       98.0       87.0       87.0       97.0   \n",
       "2021-04-17            96.0       92.0       83.0       89.0       98.0   \n",
       "2021-04-18            96.0       94.0       83.0       86.0       96.0   \n",
       "2021-04-19            96.0       86.0       85.0       95.0       95.0   \n",
       "...                    ...        ...        ...        ...        ...   \n",
       "2022-03-17            71.0       69.0       70.0       79.0       76.0   \n",
       "2022-03-18            91.0       90.0       97.0      103.0      101.0   \n",
       "2022-03-19            77.0       80.0       74.0       74.0       70.0   \n",
       "2022-03-20           224.0      115.0      119.0      111.0      102.0   \n",
       "2022-03-21            73.0       76.0       76.0       69.0       68.0   \n",
       "\n",
       "                 Period_06  Period_07  Period_08  Period_09  Period_10  ...  \\\n",
       "Settlement_Date                                                         ...   \n",
       "2021-04-15             NaN        NaN        NaN        NaN        NaN  ...   \n",
       "2021-04-16            96.0       93.0       83.0       90.0       97.0  ...   \n",
       "2021-04-17            95.0       84.0       82.0       93.0       92.0  ...   \n",
       "2021-04-18            97.0       90.0       82.0       90.0       95.0  ...   \n",
       "2021-04-19            91.0       82.0       86.0       96.0       95.0  ...   \n",
       "...                    ...        ...        ...        ...        ...  ...   \n",
       "2022-03-17            70.0       68.0       67.0       74.0       74.0  ...   \n",
       "2022-03-18            94.0       88.0       90.0       98.0       99.0  ...   \n",
       "2022-03-19            76.0       77.0       76.0       58.0      168.0  ...   \n",
       "2022-03-20           100.0      116.0      116.0      109.0       99.0  ...   \n",
       "2022-03-21            70.0       75.0       75.0       68.0       66.0  ...   \n",
       "\n",
       "                 Period_39  Period_40  Period_41  Period_42  Period_43  \\\n",
       "Settlement_Date                                                          \n",
       "2021-04-15           179.0      170.0      170.0      161.0      161.0   \n",
       "2021-04-16           172.0      181.0      173.0      163.0      463.0   \n",
       "2021-04-17           278.0      263.0      142.0      137.0      214.0   \n",
       "2021-04-18           241.0      175.0      172.0      176.0      148.0   \n",
       "2021-04-19           188.0      270.0      265.0      134.0      131.0   \n",
       "...                    ...        ...        ...        ...        ...   \n",
       "2022-03-17           172.0      167.0      175.0      760.0       97.0   \n",
       "2022-03-18           187.0      178.0      177.0      116.0      116.0   \n",
       "2022-03-19            93.0       70.0      179.0      119.0      110.0   \n",
       "2022-03-20           182.0      157.0      158.0       89.0       78.0   \n",
       "2022-03-21             NaN        NaN        NaN        NaN        NaN   \n",
       "\n",
       "                 Period_44  Period_45  Period_46  Period_47  Period_48  \n",
       "Settlement_Date                                                         \n",
       "2021-04-15           129.0      112.0      100.0       87.0        NaN  \n",
       "2021-04-16           399.0      122.0      383.0      176.0       91.0  \n",
       "2021-04-17           127.0      114.0       88.0       85.0       90.0  \n",
       "2021-04-18           112.0       88.0       87.0       93.0       95.0  \n",
       "2021-04-19           123.0      106.0      100.0       90.0       96.0  \n",
       "...                    ...        ...        ...        ...        ...  \n",
       "2022-03-17            92.0       93.0      102.0      103.0       81.0  \n",
       "2022-03-18            82.0       76.0       70.0       72.0       97.0  \n",
       "2022-03-19           559.0      366.0      246.0      238.0       73.0  \n",
       "2022-03-20            77.0       79.0       76.0       69.0      224.0  \n",
       "2022-03-21             NaN        NaN        NaN        NaN       69.0  \n",
       "\n",
       "[341 rows x 48 columns]"
      ]
     },
     "execution_count": 96,
     "metadata": {},
     "output_type": "execute_result"
    }
   ],
   "source": [
    "df_30min_daily = to_columnwise(df_30min)\n",
    "df_30min_daily"
   ]
  },
  {
   "cell_type": "code",
   "execution_count": 82,
   "metadata": {},
   "outputs": [],
   "source": [
    "def period_to_time(period):\n",
    "    return dt.time(((period+1) //2) % 24,((period + 1) % 2)*30).strftime(\"%H:%M\")\n",
    "\n",
    "def common_timeseriesplot(ax, plt_kwargs={}):\n",
    "    \n",
    "    ts = np.arange(1, 48, step=2)\n",
    "#     ts = np.arange(11, 288, step=12)\n",
    "    tl = [period_to_time(t) for t in ts]\n",
    "#     ax.axvspan(0,83, facecolor='k', alpha=0.1)\n",
    "#     ax.axvspan(275,287, facecolor='k', alpha=0.1)\n",
    "\n",
    "    ax.set_xlim([-1, 47]);\n",
    "#     ax.set_ylim(bottom=0)\n",
    "    ax.set_xticks(ts);\n",
    "    ax.set_xticklabels(tl, rotation = 45, ha='right');\n",
    "\n",
    "#     ax.xaxis.set_minor_locator(MultipleLocator(6))\n",
    "#     ax.xaxis.set_minor_formatter(ticker.NullFormatter())\n",
    "#     ax.grid(b=True, which='minor', color='w', linewidth=0.5)\n",
    "    \n",
    "    return ax"
   ]
  },
  {
   "cell_type": "code",
   "execution_count": 83,
   "metadata": {},
   "outputs": [],
   "source": [
    "def period_to_5time(period):\n",
    "    return dt.time(((period+1) //12) % 24,((period + 1) % 12)*30).strftime(\"%H:%M\")\n",
    "\n",
    "def common_5timeseriesplot(ax, plt_kwargs={}):\n",
    "    \n",
    "#     ts = np.arange(1, 48, step=2)\n",
    "    ts = np.arange(11, 288, step=12)\n",
    "    tl = [period_to_5time(t) for t in ts]\n",
    "#     ax.axvspan(0,83, facecolor='k', alpha=0.1)\n",
    "#     ax.axvspan(275,287, facecolor='k', alpha=0.1)\n",
    "\n",
    "    ax.set_xlim([-1, 287]);\n",
    "#     ax.set_ylim(bottom=0)\n",
    "    ax.set_xticks(ts);\n",
    "    ax.set_xticklabels(tl, rotation = 45, ha='right');\n",
    "\n",
    "#     ax.xaxis.set_minor_locator(MultipleLocator(6))\n",
    "#     ax.xaxis.set_minor_formatter(ticker.NullFormatter())\n",
    "#     ax.grid(b=True, which='minor', color='w', linewidth=0.5)\n",
    "    \n",
    "    return ax"
   ]
  },
  {
   "cell_type": "code",
   "execution_count": 56,
   "metadata": {},
   "outputs": [
    {
     "data": {
      "text/html": [
       "<div>\n",
       "<style scoped>\n",
       "    .dataframe tbody tr th:only-of-type {\n",
       "        vertical-align: middle;\n",
       "    }\n",
       "\n",
       "    .dataframe tbody tr th {\n",
       "        vertical-align: top;\n",
       "    }\n",
       "\n",
       "    .dataframe thead th {\n",
       "        text-align: right;\n",
       "    }\n",
       "</style>\n",
       "<table border=\"1\" class=\"dataframe\">\n",
       "  <thead>\n",
       "    <tr style=\"text-align: right;\">\n",
       "      <th></th>\n",
       "      <th>Period_01</th>\n",
       "      <th>Period_02</th>\n",
       "      <th>Period_03</th>\n",
       "      <th>Period_04</th>\n",
       "      <th>Period_05</th>\n",
       "      <th>Period_06</th>\n",
       "      <th>Period_07</th>\n",
       "      <th>Period_08</th>\n",
       "      <th>Period_09</th>\n",
       "      <th>Period_10</th>\n",
       "      <th>...</th>\n",
       "      <th>Period_39</th>\n",
       "      <th>Period_40</th>\n",
       "      <th>Period_41</th>\n",
       "      <th>Period_42</th>\n",
       "      <th>Period_43</th>\n",
       "      <th>Period_44</th>\n",
       "      <th>Period_45</th>\n",
       "      <th>Period_46</th>\n",
       "      <th>Period_47</th>\n",
       "      <th>Period_48</th>\n",
       "    </tr>\n",
       "    <tr>\n",
       "      <th>Settlement_Date</th>\n",
       "      <th></th>\n",
       "      <th></th>\n",
       "      <th></th>\n",
       "      <th></th>\n",
       "      <th></th>\n",
       "      <th></th>\n",
       "      <th></th>\n",
       "      <th></th>\n",
       "      <th></th>\n",
       "      <th></th>\n",
       "      <th></th>\n",
       "      <th></th>\n",
       "      <th></th>\n",
       "      <th></th>\n",
       "      <th></th>\n",
       "      <th></th>\n",
       "      <th></th>\n",
       "      <th></th>\n",
       "      <th></th>\n",
       "      <th></th>\n",
       "      <th></th>\n",
       "    </tr>\n",
       "  </thead>\n",
       "  <tbody>\n",
       "    <tr>\n",
       "      <th>2022-03-12</th>\n",
       "      <td>71.0</td>\n",
       "      <td>64.0</td>\n",
       "      <td>64.0</td>\n",
       "      <td>72.0</td>\n",
       "      <td>72.0</td>\n",
       "      <td>70.0</td>\n",
       "      <td>63.0</td>\n",
       "      <td>63.0</td>\n",
       "      <td>72.0</td>\n",
       "      <td>72.0</td>\n",
       "      <td>...</td>\n",
       "      <td>161.0</td>\n",
       "      <td>201.0</td>\n",
       "      <td>169.0</td>\n",
       "      <td>124.0</td>\n",
       "      <td>80.0</td>\n",
       "      <td>85.0</td>\n",
       "      <td>81.0</td>\n",
       "      <td>69.0</td>\n",
       "      <td>70.0</td>\n",
       "      <td>73.0</td>\n",
       "    </tr>\n",
       "  </tbody>\n",
       "</table>\n",
       "<p>1 rows × 48 columns</p>\n",
       "</div>"
      ],
      "text/plain": [
       "                 Period_01  Period_02  Period_03  Period_04  Period_05  \\\n",
       "Settlement_Date                                                          \n",
       "2022-03-12            71.0       64.0       64.0       72.0       72.0   \n",
       "\n",
       "                 Period_06  Period_07  Period_08  Period_09  Period_10  ...  \\\n",
       "Settlement_Date                                                         ...   \n",
       "2022-03-12            70.0       63.0       63.0       72.0       72.0  ...   \n",
       "\n",
       "                 Period_39  Period_40  Period_41  Period_42  Period_43  \\\n",
       "Settlement_Date                                                          \n",
       "2022-03-12           161.0      201.0      169.0      124.0       80.0   \n",
       "\n",
       "                 Period_44  Period_45  Period_46  Period_47  Period_48  \n",
       "Settlement_Date                                                         \n",
       "2022-03-12            85.0       81.0       69.0       70.0       73.0  \n",
       "\n",
       "[1 rows x 48 columns]"
      ]
     },
     "execution_count": 56,
     "metadata": {},
     "output_type": "execute_result"
    }
   ],
   "source": [
    "df_30min_daily[-50:].sample(1)"
   ]
  },
  {
   "cell_type": "code",
   "execution_count": 57,
   "metadata": {},
   "outputs": [
    {
     "data": {
      "text/html": [
       "<div>\n",
       "<style scoped>\n",
       "    .dataframe tbody tr th:only-of-type {\n",
       "        vertical-align: middle;\n",
       "    }\n",
       "\n",
       "    .dataframe tbody tr th {\n",
       "        vertical-align: top;\n",
       "    }\n",
       "\n",
       "    .dataframe thead th {\n",
       "        text-align: right;\n",
       "    }\n",
       "</style>\n",
       "<table border=\"1\" class=\"dataframe\">\n",
       "  <thead>\n",
       "    <tr style=\"text-align: right;\">\n",
       "      <th></th>\n",
       "      <th>Period_01</th>\n",
       "      <th>Period_02</th>\n",
       "      <th>Period_03</th>\n",
       "      <th>Period_04</th>\n",
       "      <th>Period_05</th>\n",
       "      <th>Period_06</th>\n",
       "      <th>Period_07</th>\n",
       "      <th>Period_08</th>\n",
       "      <th>Period_09</th>\n",
       "      <th>Period_10</th>\n",
       "      <th>...</th>\n",
       "      <th>Period_39</th>\n",
       "      <th>Period_40</th>\n",
       "      <th>Period_41</th>\n",
       "      <th>Period_42</th>\n",
       "      <th>Period_43</th>\n",
       "      <th>Period_44</th>\n",
       "      <th>Period_45</th>\n",
       "      <th>Period_46</th>\n",
       "      <th>Period_47</th>\n",
       "      <th>Period_48</th>\n",
       "    </tr>\n",
       "    <tr>\n",
       "      <th>Settlement_Date</th>\n",
       "      <th></th>\n",
       "      <th></th>\n",
       "      <th></th>\n",
       "      <th></th>\n",
       "      <th></th>\n",
       "      <th></th>\n",
       "      <th></th>\n",
       "      <th></th>\n",
       "      <th></th>\n",
       "      <th></th>\n",
       "      <th></th>\n",
       "      <th></th>\n",
       "      <th></th>\n",
       "      <th></th>\n",
       "      <th></th>\n",
       "      <th></th>\n",
       "      <th></th>\n",
       "      <th></th>\n",
       "      <th></th>\n",
       "      <th></th>\n",
       "      <th></th>\n",
       "    </tr>\n",
       "  </thead>\n",
       "  <tbody>\n",
       "    <tr>\n",
       "      <th>2022-03-02</th>\n",
       "      <td>82.0</td>\n",
       "      <td>71.0</td>\n",
       "      <td>70.0</td>\n",
       "      <td>73.0</td>\n",
       "      <td>79.0</td>\n",
       "      <td>76.0</td>\n",
       "      <td>67.0</td>\n",
       "      <td>68.0</td>\n",
       "      <td>72.0</td>\n",
       "      <td>76.0</td>\n",
       "      <td>...</td>\n",
       "      <td>185.0</td>\n",
       "      <td>182.0</td>\n",
       "      <td>409.0</td>\n",
       "      <td>123.0</td>\n",
       "      <td>91.0</td>\n",
       "      <td>78.0</td>\n",
       "      <td>77.0</td>\n",
       "      <td>83.0</td>\n",
       "      <td>80.0</td>\n",
       "      <td>75.0</td>\n",
       "    </tr>\n",
       "    <tr>\n",
       "      <th>2022-03-03</th>\n",
       "      <td>74.0</td>\n",
       "      <td>72.0</td>\n",
       "      <td>78.0</td>\n",
       "      <td>82.0</td>\n",
       "      <td>80.0</td>\n",
       "      <td>73.0</td>\n",
       "      <td>71.0</td>\n",
       "      <td>71.0</td>\n",
       "      <td>73.0</td>\n",
       "      <td>79.0</td>\n",
       "      <td>...</td>\n",
       "      <td>198.0</td>\n",
       "      <td>198.0</td>\n",
       "      <td>165.0</td>\n",
       "      <td>121.0</td>\n",
       "      <td>89.0</td>\n",
       "      <td>77.0</td>\n",
       "      <td>73.0</td>\n",
       "      <td>72.0</td>\n",
       "      <td>71.0</td>\n",
       "      <td>73.0</td>\n",
       "    </tr>\n",
       "    <tr>\n",
       "      <th>2022-03-04</th>\n",
       "      <td>78.0</td>\n",
       "      <td>76.0</td>\n",
       "      <td>70.0</td>\n",
       "      <td>69.0</td>\n",
       "      <td>148.0</td>\n",
       "      <td>109.0</td>\n",
       "      <td>97.0</td>\n",
       "      <td>73.0</td>\n",
       "      <td>72.0</td>\n",
       "      <td>77.0</td>\n",
       "      <td>...</td>\n",
       "      <td>185.0</td>\n",
       "      <td>168.0</td>\n",
       "      <td>166.0</td>\n",
       "      <td>170.0</td>\n",
       "      <td>384.0</td>\n",
       "      <td>130.0</td>\n",
       "      <td>103.0</td>\n",
       "      <td>97.0</td>\n",
       "      <td>104.0</td>\n",
       "      <td>78.0</td>\n",
       "    </tr>\n",
       "    <tr>\n",
       "      <th>2022-03-05</th>\n",
       "      <td>94.0</td>\n",
       "      <td>93.0</td>\n",
       "      <td>91.0</td>\n",
       "      <td>103.0</td>\n",
       "      <td>104.0</td>\n",
       "      <td>100.0</td>\n",
       "      <td>91.0</td>\n",
       "      <td>92.0</td>\n",
       "      <td>94.0</td>\n",
       "      <td>100.0</td>\n",
       "      <td>...</td>\n",
       "      <td>174.0</td>\n",
       "      <td>167.0</td>\n",
       "      <td>164.0</td>\n",
       "      <td>130.0</td>\n",
       "      <td>123.0</td>\n",
       "      <td>74.0</td>\n",
       "      <td>72.0</td>\n",
       "      <td>76.0</td>\n",
       "      <td>81.0</td>\n",
       "      <td>107.0</td>\n",
       "    </tr>\n",
       "    <tr>\n",
       "      <th>2022-03-06</th>\n",
       "      <td>69.0</td>\n",
       "      <td>71.0</td>\n",
       "      <td>76.0</td>\n",
       "      <td>80.0</td>\n",
       "      <td>75.0</td>\n",
       "      <td>70.0</td>\n",
       "      <td>68.0</td>\n",
       "      <td>77.0</td>\n",
       "      <td>77.0</td>\n",
       "      <td>72.0</td>\n",
       "      <td>...</td>\n",
       "      <td>129.0</td>\n",
       "      <td>132.0</td>\n",
       "      <td>140.0</td>\n",
       "      <td>94.0</td>\n",
       "      <td>69.0</td>\n",
       "      <td>67.0</td>\n",
       "      <td>69.0</td>\n",
       "      <td>72.0</td>\n",
       "      <td>74.0</td>\n",
       "      <td>77.0</td>\n",
       "    </tr>\n",
       "    <tr>\n",
       "      <th>...</th>\n",
       "      <td>...</td>\n",
       "      <td>...</td>\n",
       "      <td>...</td>\n",
       "      <td>...</td>\n",
       "      <td>...</td>\n",
       "      <td>...</td>\n",
       "      <td>...</td>\n",
       "      <td>...</td>\n",
       "      <td>...</td>\n",
       "      <td>...</td>\n",
       "      <td>...</td>\n",
       "      <td>...</td>\n",
       "      <td>...</td>\n",
       "      <td>...</td>\n",
       "      <td>...</td>\n",
       "      <td>...</td>\n",
       "      <td>...</td>\n",
       "      <td>...</td>\n",
       "      <td>...</td>\n",
       "      <td>...</td>\n",
       "      <td>...</td>\n",
       "    </tr>\n",
       "    <tr>\n",
       "      <th>2022-03-17</th>\n",
       "      <td>71.0</td>\n",
       "      <td>69.0</td>\n",
       "      <td>70.0</td>\n",
       "      <td>79.0</td>\n",
       "      <td>76.0</td>\n",
       "      <td>70.0</td>\n",
       "      <td>68.0</td>\n",
       "      <td>67.0</td>\n",
       "      <td>74.0</td>\n",
       "      <td>74.0</td>\n",
       "      <td>...</td>\n",
       "      <td>172.0</td>\n",
       "      <td>167.0</td>\n",
       "      <td>175.0</td>\n",
       "      <td>760.0</td>\n",
       "      <td>97.0</td>\n",
       "      <td>92.0</td>\n",
       "      <td>93.0</td>\n",
       "      <td>102.0</td>\n",
       "      <td>103.0</td>\n",
       "      <td>81.0</td>\n",
       "    </tr>\n",
       "    <tr>\n",
       "      <th>2022-03-18</th>\n",
       "      <td>91.0</td>\n",
       "      <td>90.0</td>\n",
       "      <td>97.0</td>\n",
       "      <td>103.0</td>\n",
       "      <td>101.0</td>\n",
       "      <td>94.0</td>\n",
       "      <td>88.0</td>\n",
       "      <td>90.0</td>\n",
       "      <td>98.0</td>\n",
       "      <td>99.0</td>\n",
       "      <td>...</td>\n",
       "      <td>187.0</td>\n",
       "      <td>178.0</td>\n",
       "      <td>177.0</td>\n",
       "      <td>116.0</td>\n",
       "      <td>116.0</td>\n",
       "      <td>82.0</td>\n",
       "      <td>76.0</td>\n",
       "      <td>70.0</td>\n",
       "      <td>72.0</td>\n",
       "      <td>97.0</td>\n",
       "    </tr>\n",
       "    <tr>\n",
       "      <th>2022-03-19</th>\n",
       "      <td>77.0</td>\n",
       "      <td>80.0</td>\n",
       "      <td>74.0</td>\n",
       "      <td>74.0</td>\n",
       "      <td>70.0</td>\n",
       "      <td>76.0</td>\n",
       "      <td>77.0</td>\n",
       "      <td>76.0</td>\n",
       "      <td>58.0</td>\n",
       "      <td>168.0</td>\n",
       "      <td>...</td>\n",
       "      <td>93.0</td>\n",
       "      <td>70.0</td>\n",
       "      <td>179.0</td>\n",
       "      <td>119.0</td>\n",
       "      <td>110.0</td>\n",
       "      <td>559.0</td>\n",
       "      <td>366.0</td>\n",
       "      <td>246.0</td>\n",
       "      <td>238.0</td>\n",
       "      <td>73.0</td>\n",
       "    </tr>\n",
       "    <tr>\n",
       "      <th>2022-03-20</th>\n",
       "      <td>224.0</td>\n",
       "      <td>115.0</td>\n",
       "      <td>119.0</td>\n",
       "      <td>111.0</td>\n",
       "      <td>102.0</td>\n",
       "      <td>100.0</td>\n",
       "      <td>116.0</td>\n",
       "      <td>116.0</td>\n",
       "      <td>109.0</td>\n",
       "      <td>99.0</td>\n",
       "      <td>...</td>\n",
       "      <td>182.0</td>\n",
       "      <td>157.0</td>\n",
       "      <td>158.0</td>\n",
       "      <td>89.0</td>\n",
       "      <td>78.0</td>\n",
       "      <td>77.0</td>\n",
       "      <td>79.0</td>\n",
       "      <td>76.0</td>\n",
       "      <td>69.0</td>\n",
       "      <td>224.0</td>\n",
       "    </tr>\n",
       "    <tr>\n",
       "      <th>2022-03-21</th>\n",
       "      <td>73.0</td>\n",
       "      <td>76.0</td>\n",
       "      <td>76.0</td>\n",
       "      <td>69.0</td>\n",
       "      <td>68.0</td>\n",
       "      <td>70.0</td>\n",
       "      <td>75.0</td>\n",
       "      <td>75.0</td>\n",
       "      <td>68.0</td>\n",
       "      <td>66.0</td>\n",
       "      <td>...</td>\n",
       "      <td>NaN</td>\n",
       "      <td>NaN</td>\n",
       "      <td>NaN</td>\n",
       "      <td>NaN</td>\n",
       "      <td>NaN</td>\n",
       "      <td>NaN</td>\n",
       "      <td>NaN</td>\n",
       "      <td>NaN</td>\n",
       "      <td>NaN</td>\n",
       "      <td>69.0</td>\n",
       "    </tr>\n",
       "  </tbody>\n",
       "</table>\n",
       "<p>20 rows × 48 columns</p>\n",
       "</div>"
      ],
      "text/plain": [
       "                 Period_01  Period_02  Period_03  Period_04  Period_05  \\\n",
       "Settlement_Date                                                          \n",
       "2022-03-02            82.0       71.0       70.0       73.0       79.0   \n",
       "2022-03-03            74.0       72.0       78.0       82.0       80.0   \n",
       "2022-03-04            78.0       76.0       70.0       69.0      148.0   \n",
       "2022-03-05            94.0       93.0       91.0      103.0      104.0   \n",
       "2022-03-06            69.0       71.0       76.0       80.0       75.0   \n",
       "...                    ...        ...        ...        ...        ...   \n",
       "2022-03-17            71.0       69.0       70.0       79.0       76.0   \n",
       "2022-03-18            91.0       90.0       97.0      103.0      101.0   \n",
       "2022-03-19            77.0       80.0       74.0       74.0       70.0   \n",
       "2022-03-20           224.0      115.0      119.0      111.0      102.0   \n",
       "2022-03-21            73.0       76.0       76.0       69.0       68.0   \n",
       "\n",
       "                 Period_06  Period_07  Period_08  Period_09  Period_10  ...  \\\n",
       "Settlement_Date                                                         ...   \n",
       "2022-03-02            76.0       67.0       68.0       72.0       76.0  ...   \n",
       "2022-03-03            73.0       71.0       71.0       73.0       79.0  ...   \n",
       "2022-03-04           109.0       97.0       73.0       72.0       77.0  ...   \n",
       "2022-03-05           100.0       91.0       92.0       94.0      100.0  ...   \n",
       "2022-03-06            70.0       68.0       77.0       77.0       72.0  ...   \n",
       "...                    ...        ...        ...        ...        ...  ...   \n",
       "2022-03-17            70.0       68.0       67.0       74.0       74.0  ...   \n",
       "2022-03-18            94.0       88.0       90.0       98.0       99.0  ...   \n",
       "2022-03-19            76.0       77.0       76.0       58.0      168.0  ...   \n",
       "2022-03-20           100.0      116.0      116.0      109.0       99.0  ...   \n",
       "2022-03-21            70.0       75.0       75.0       68.0       66.0  ...   \n",
       "\n",
       "                 Period_39  Period_40  Period_41  Period_42  Period_43  \\\n",
       "Settlement_Date                                                          \n",
       "2022-03-02           185.0      182.0      409.0      123.0       91.0   \n",
       "2022-03-03           198.0      198.0      165.0      121.0       89.0   \n",
       "2022-03-04           185.0      168.0      166.0      170.0      384.0   \n",
       "2022-03-05           174.0      167.0      164.0      130.0      123.0   \n",
       "2022-03-06           129.0      132.0      140.0       94.0       69.0   \n",
       "...                    ...        ...        ...        ...        ...   \n",
       "2022-03-17           172.0      167.0      175.0      760.0       97.0   \n",
       "2022-03-18           187.0      178.0      177.0      116.0      116.0   \n",
       "2022-03-19            93.0       70.0      179.0      119.0      110.0   \n",
       "2022-03-20           182.0      157.0      158.0       89.0       78.0   \n",
       "2022-03-21             NaN        NaN        NaN        NaN        NaN   \n",
       "\n",
       "                 Period_44  Period_45  Period_46  Period_47  Period_48  \n",
       "Settlement_Date                                                         \n",
       "2022-03-02            78.0       77.0       83.0       80.0       75.0  \n",
       "2022-03-03            77.0       73.0       72.0       71.0       73.0  \n",
       "2022-03-04           130.0      103.0       97.0      104.0       78.0  \n",
       "2022-03-05            74.0       72.0       76.0       81.0      107.0  \n",
       "2022-03-06            67.0       69.0       72.0       74.0       77.0  \n",
       "...                    ...        ...        ...        ...        ...  \n",
       "2022-03-17            92.0       93.0      102.0      103.0       81.0  \n",
       "2022-03-18            82.0       76.0       70.0       72.0       97.0  \n",
       "2022-03-19           559.0      366.0      246.0      238.0       73.0  \n",
       "2022-03-20            77.0       79.0       76.0       69.0      224.0  \n",
       "2022-03-21             NaN        NaN        NaN        NaN       69.0  \n",
       "\n",
       "[20 rows x 48 columns]"
      ]
     },
     "execution_count": 57,
     "metadata": {},
     "output_type": "execute_result"
    }
   ],
   "source": [
    "df_30min_daily.tail(20)"
   ]
  },
  {
   "cell_type": "code",
   "execution_count": 113,
   "metadata": {},
   "outputs": [
    {
     "data": {
      "text/plain": [
       "<AxesSubplot:>"
      ]
     },
     "execution_count": 113,
     "metadata": {},
     "output_type": "execute_result"
    },
    {
     "data": {
      "image/png": "[encoded data removed]",
      "text/plain": [
       "<Figure size 864x576 with 1 Axes>"
      ]
     },
     "metadata": {},
     "output_type": "display_data"
    }
   ],
   "source": [
    "sns.set_style(\"whitegrid\")\n",
    "n = 100\n",
    "ax = (2*df_30min_daily[-n:]).T.plot(figsize=(12,8), legend=False, color='grey', lw=0.25)\n",
    "ax =(2*df_30min_daily[:]).mean().plot(color='blue')\n",
    "ax = (2*df_30min_daily[-n:]).sample(1).T.plot(ax=ax, color='red')\n",
    "common_timeseriesplot(ax)"
   ]
  },
  {
   "cell_type": "code",
   "execution_count": 61,
   "metadata": {
    "scrolled": false
   },
   "outputs": [
    {
     "data": {
      "text/html": [
       "<div>\n",
       "<style scoped>\n",
       "    .dataframe tbody tr th:only-of-type {\n",
       "        vertical-align: middle;\n",
       "    }\n",
       "\n",
       "    .dataframe tbody tr th {\n",
       "        vertical-align: top;\n",
       "    }\n",
       "\n",
       "    .dataframe thead th {\n",
       "        text-align: right;\n",
       "    }\n",
       "</style>\n",
       "<table border=\"1\" class=\"dataframe\">\n",
       "  <thead>\n",
       "    <tr style=\"text-align: right;\">\n",
       "      <th></th>\n",
       "      <th>cost_dollars</th>\n",
       "      <th>watt_hours</th>\n",
       "    </tr>\n",
       "    <tr>\n",
       "      <th>datetime</th>\n",
       "      <th></th>\n",
       "      <th></th>\n",
       "    </tr>\n",
       "  </thead>\n",
       "  <tbody>\n",
       "    <tr>\n",
       "      <th>2021-04-15 14:35:00</th>\n",
       "      <td>0.007617</td>\n",
       "      <td>23.0</td>\n",
       "    </tr>\n",
       "    <tr>\n",
       "      <th>2021-04-15 14:40:00</th>\n",
       "      <td>0.009988</td>\n",
       "      <td>29.0</td>\n",
       "    </tr>\n",
       "    <tr>\n",
       "      <th>2021-04-15 14:45:00</th>\n",
       "      <td>0.044207</td>\n",
       "      <td>167.0</td>\n",
       "    </tr>\n",
       "    <tr>\n",
       "      <th>2021-04-15 14:50:00</th>\n",
       "      <td>0.010921</td>\n",
       "      <td>34.0</td>\n",
       "    </tr>\n",
       "    <tr>\n",
       "      <th>2021-04-15 14:55:00</th>\n",
       "      <td>0.009366</td>\n",
       "      <td>27.0</td>\n",
       "    </tr>\n",
       "    <tr>\n",
       "      <th>...</th>\n",
       "      <td>...</td>\n",
       "      <td>...</td>\n",
       "    </tr>\n",
       "    <tr>\n",
       "      <th>2022-03-21 11:50:00</th>\n",
       "      <td>0.008121</td>\n",
       "      <td>21.0</td>\n",
       "    </tr>\n",
       "    <tr>\n",
       "      <th>2022-03-21 11:55:00</th>\n",
       "      <td>0.007810</td>\n",
       "      <td>19.0</td>\n",
       "    </tr>\n",
       "    <tr>\n",
       "      <th>2022-03-21 12:00:00</th>\n",
       "      <td>0.009055</td>\n",
       "      <td>25.0</td>\n",
       "    </tr>\n",
       "    <tr>\n",
       "      <th>2022-03-21 12:05:00</th>\n",
       "      <td>0.009366</td>\n",
       "      <td>27.0</td>\n",
       "    </tr>\n",
       "    <tr>\n",
       "      <th>2022-03-21 12:10:00</th>\n",
       "      <td>0.006684</td>\n",
       "      <td>18.0</td>\n",
       "    </tr>\n",
       "  </tbody>\n",
       "</table>\n",
       "<p>97892 rows × 2 columns</p>\n",
       "</div>"
      ],
      "text/plain": [
       "                     cost_dollars  watt_hours\n",
       "datetime                                     \n",
       "2021-04-15 14:35:00      0.007617        23.0\n",
       "2021-04-15 14:40:00      0.009988        29.0\n",
       "2021-04-15 14:45:00      0.044207       167.0\n",
       "2021-04-15 14:50:00      0.010921        34.0\n",
       "2021-04-15 14:55:00      0.009366        27.0\n",
       "...                           ...         ...\n",
       "2022-03-21 11:50:00      0.008121        21.0\n",
       "2022-03-21 11:55:00      0.007810        19.0\n",
       "2022-03-21 12:00:00      0.009055        25.0\n",
       "2022-03-21 12:05:00      0.009366        27.0\n",
       "2022-03-21 12:10:00      0.006684        18.0\n",
       "\n",
       "[97892 rows x 2 columns]"
      ]
     },
     "execution_count": 61,
     "metadata": {},
     "output_type": "execute_result"
    }
   ],
   "source": [
    "df_5min = df.resample('5min').sum()\n",
    "df_5min"
   ]
  },
  {
   "cell_type": "code",
   "execution_count": 62,
   "metadata": {},
   "outputs": [
    {
     "data": {
      "text/html": [
       "<div>\n",
       "<style scoped>\n",
       "    .dataframe tbody tr th:only-of-type {\n",
       "        vertical-align: middle;\n",
       "    }\n",
       "\n",
       "    .dataframe tbody tr th {\n",
       "        vertical-align: top;\n",
       "    }\n",
       "\n",
       "    .dataframe thead th {\n",
       "        text-align: right;\n",
       "    }\n",
       "</style>\n",
       "<table border=\"1\" class=\"dataframe\">\n",
       "  <thead>\n",
       "    <tr style=\"text-align: right;\">\n",
       "      <th></th>\n",
       "      <th>Period_01</th>\n",
       "      <th>Period_02</th>\n",
       "      <th>Period_03</th>\n",
       "      <th>Period_04</th>\n",
       "      <th>Period_05</th>\n",
       "      <th>Period_06</th>\n",
       "      <th>Period_07</th>\n",
       "      <th>Period_08</th>\n",
       "      <th>Period_09</th>\n",
       "      <th>Period_10</th>\n",
       "      <th>...</th>\n",
       "      <th>Period_279</th>\n",
       "      <th>Period_280</th>\n",
       "      <th>Period_281</th>\n",
       "      <th>Period_282</th>\n",
       "      <th>Period_283</th>\n",
       "      <th>Period_284</th>\n",
       "      <th>Period_285</th>\n",
       "      <th>Period_286</th>\n",
       "      <th>Period_287</th>\n",
       "      <th>Period_288</th>\n",
       "    </tr>\n",
       "    <tr>\n",
       "      <th>Settlement_Date</th>\n",
       "      <th></th>\n",
       "      <th></th>\n",
       "      <th></th>\n",
       "      <th></th>\n",
       "      <th></th>\n",
       "      <th></th>\n",
       "      <th></th>\n",
       "      <th></th>\n",
       "      <th></th>\n",
       "      <th></th>\n",
       "      <th></th>\n",
       "      <th></th>\n",
       "      <th></th>\n",
       "      <th></th>\n",
       "      <th></th>\n",
       "      <th></th>\n",
       "      <th></th>\n",
       "      <th></th>\n",
       "      <th></th>\n",
       "      <th></th>\n",
       "      <th></th>\n",
       "    </tr>\n",
       "  </thead>\n",
       "  <tbody>\n",
       "    <tr>\n",
       "      <th>2021-04-15</th>\n",
       "      <td>NaN</td>\n",
       "      <td>NaN</td>\n",
       "      <td>NaN</td>\n",
       "      <td>NaN</td>\n",
       "      <td>NaN</td>\n",
       "      <td>NaN</td>\n",
       "      <td>NaN</td>\n",
       "      <td>NaN</td>\n",
       "      <td>NaN</td>\n",
       "      <td>NaN</td>\n",
       "      <td>...</td>\n",
       "      <td>20.0</td>\n",
       "      <td>19.0</td>\n",
       "      <td>20.0</td>\n",
       "      <td>15.0</td>\n",
       "      <td>13.0</td>\n",
       "      <td>13.0</td>\n",
       "      <td>13.0</td>\n",
       "      <td>14.0</td>\n",
       "      <td>19.0</td>\n",
       "      <td>NaN</td>\n",
       "    </tr>\n",
       "    <tr>\n",
       "      <th>2021-04-16</th>\n",
       "      <td>19.0</td>\n",
       "      <td>15.0</td>\n",
       "      <td>11.0</td>\n",
       "      <td>13.0</td>\n",
       "      <td>13.0</td>\n",
       "      <td>16.0</td>\n",
       "      <td>19.0</td>\n",
       "      <td>19.0</td>\n",
       "      <td>18.0</td>\n",
       "      <td>13.0</td>\n",
       "      <td>...</td>\n",
       "      <td>19.0</td>\n",
       "      <td>121.0</td>\n",
       "      <td>195.0</td>\n",
       "      <td>110.0</td>\n",
       "      <td>13.0</td>\n",
       "      <td>11.0</td>\n",
       "      <td>13.0</td>\n",
       "      <td>11.0</td>\n",
       "      <td>18.0</td>\n",
       "      <td>20.0</td>\n",
       "    </tr>\n",
       "    <tr>\n",
       "      <th>2021-04-17</th>\n",
       "      <td>19.0</td>\n",
       "      <td>17.0</td>\n",
       "      <td>11.0</td>\n",
       "      <td>13.0</td>\n",
       "      <td>11.0</td>\n",
       "      <td>13.0</td>\n",
       "      <td>18.0</td>\n",
       "      <td>19.0</td>\n",
       "      <td>19.0</td>\n",
       "      <td>14.0</td>\n",
       "      <td>...</td>\n",
       "      <td>13.0</td>\n",
       "      <td>18.0</td>\n",
       "      <td>19.0</td>\n",
       "      <td>19.0</td>\n",
       "      <td>17.0</td>\n",
       "      <td>13.0</td>\n",
       "      <td>11.0</td>\n",
       "      <td>13.0</td>\n",
       "      <td>12.0</td>\n",
       "      <td>19.0</td>\n",
       "    </tr>\n",
       "    <tr>\n",
       "      <th>2021-04-18</th>\n",
       "      <td>20.0</td>\n",
       "      <td>19.0</td>\n",
       "      <td>13.0</td>\n",
       "      <td>13.0</td>\n",
       "      <td>11.0</td>\n",
       "      <td>13.0</td>\n",
       "      <td>16.0</td>\n",
       "      <td>20.0</td>\n",
       "      <td>19.0</td>\n",
       "      <td>15.0</td>\n",
       "      <td>...</td>\n",
       "      <td>11.0</td>\n",
       "      <td>13.0</td>\n",
       "      <td>14.0</td>\n",
       "      <td>19.0</td>\n",
       "      <td>19.0</td>\n",
       "      <td>19.0</td>\n",
       "      <td>12.0</td>\n",
       "      <td>13.0</td>\n",
       "      <td>11.0</td>\n",
       "      <td>19.0</td>\n",
       "    </tr>\n",
       "    <tr>\n",
       "      <th>2021-04-19</th>\n",
       "      <td>16.0</td>\n",
       "      <td>19.0</td>\n",
       "      <td>20.0</td>\n",
       "      <td>17.0</td>\n",
       "      <td>11.0</td>\n",
       "      <td>13.0</td>\n",
       "      <td>11.0</td>\n",
       "      <td>14.0</td>\n",
       "      <td>19.0</td>\n",
       "      <td>19.0</td>\n",
       "      <td>...</td>\n",
       "      <td>19.0</td>\n",
       "      <td>20.0</td>\n",
       "      <td>16.0</td>\n",
       "      <td>11.0</td>\n",
       "      <td>13.0</td>\n",
       "      <td>13.0</td>\n",
       "      <td>15.0</td>\n",
       "      <td>19.0</td>\n",
       "      <td>19.0</td>\n",
       "      <td>13.0</td>\n",
       "    </tr>\n",
       "    <tr>\n",
       "      <th>...</th>\n",
       "      <td>...</td>\n",
       "      <td>...</td>\n",
       "      <td>...</td>\n",
       "      <td>...</td>\n",
       "      <td>...</td>\n",
       "      <td>...</td>\n",
       "      <td>...</td>\n",
       "      <td>...</td>\n",
       "      <td>...</td>\n",
       "      <td>...</td>\n",
       "      <td>...</td>\n",
       "      <td>...</td>\n",
       "      <td>...</td>\n",
       "      <td>...</td>\n",
       "      <td>...</td>\n",
       "      <td>...</td>\n",
       "      <td>...</td>\n",
       "      <td>...</td>\n",
       "      <td>...</td>\n",
       "      <td>...</td>\n",
       "      <td>...</td>\n",
       "    </tr>\n",
       "    <tr>\n",
       "      <th>2022-03-17</th>\n",
       "      <td>15.0</td>\n",
       "      <td>15.0</td>\n",
       "      <td>14.0</td>\n",
       "      <td>15.0</td>\n",
       "      <td>13.0</td>\n",
       "      <td>9.0</td>\n",
       "      <td>9.0</td>\n",
       "      <td>9.0</td>\n",
       "      <td>15.0</td>\n",
       "      <td>15.0</td>\n",
       "      <td>...</td>\n",
       "      <td>18.0</td>\n",
       "      <td>12.0</td>\n",
       "      <td>11.0</td>\n",
       "      <td>12.0</td>\n",
       "      <td>18.0</td>\n",
       "      <td>21.0</td>\n",
       "      <td>19.0</td>\n",
       "      <td>21.0</td>\n",
       "      <td>12.0</td>\n",
       "      <td>9.0</td>\n",
       "    </tr>\n",
       "    <tr>\n",
       "      <th>2022-03-18</th>\n",
       "      <td>12.0</td>\n",
       "      <td>15.0</td>\n",
       "      <td>19.0</td>\n",
       "      <td>21.0</td>\n",
       "      <td>19.0</td>\n",
       "      <td>15.0</td>\n",
       "      <td>12.0</td>\n",
       "      <td>11.0</td>\n",
       "      <td>13.0</td>\n",
       "      <td>19.0</td>\n",
       "      <td>...</td>\n",
       "      <td>10.0</td>\n",
       "      <td>15.0</td>\n",
       "      <td>15.0</td>\n",
       "      <td>17.0</td>\n",
       "      <td>13.0</td>\n",
       "      <td>9.0</td>\n",
       "      <td>9.0</td>\n",
       "      <td>10.0</td>\n",
       "      <td>14.0</td>\n",
       "      <td>11.0</td>\n",
       "    </tr>\n",
       "    <tr>\n",
       "      <th>2022-03-19</th>\n",
       "      <td>15.0</td>\n",
       "      <td>15.0</td>\n",
       "      <td>9.0</td>\n",
       "      <td>9.0</td>\n",
       "      <td>10.0</td>\n",
       "      <td>12.0</td>\n",
       "      <td>15.0</td>\n",
       "      <td>15.0</td>\n",
       "      <td>15.0</td>\n",
       "      <td>11.0</td>\n",
       "      <td>...</td>\n",
       "      <td>143.0</td>\n",
       "      <td>22.0</td>\n",
       "      <td>14.0</td>\n",
       "      <td>13.0</td>\n",
       "      <td>131.0</td>\n",
       "      <td>25.0</td>\n",
       "      <td>23.0</td>\n",
       "      <td>23.0</td>\n",
       "      <td>23.0</td>\n",
       "      <td>15.0</td>\n",
       "    </tr>\n",
       "    <tr>\n",
       "      <th>2022-03-20</th>\n",
       "      <td>13.0</td>\n",
       "      <td>14.0</td>\n",
       "      <td>13.0</td>\n",
       "      <td>25.0</td>\n",
       "      <td>23.0</td>\n",
       "      <td>123.0</td>\n",
       "      <td>41.0</td>\n",
       "      <td>15.0</td>\n",
       "      <td>14.0</td>\n",
       "      <td>13.0</td>\n",
       "      <td>...</td>\n",
       "      <td>15.0</td>\n",
       "      <td>15.0</td>\n",
       "      <td>15.0</td>\n",
       "      <td>11.0</td>\n",
       "      <td>9.0</td>\n",
       "      <td>9.0</td>\n",
       "      <td>11.0</td>\n",
       "      <td>14.0</td>\n",
       "      <td>15.0</td>\n",
       "      <td>136.0</td>\n",
       "    </tr>\n",
       "    <tr>\n",
       "      <th>2022-03-21</th>\n",
       "      <td>14.0</td>\n",
       "      <td>9.0</td>\n",
       "      <td>9.0</td>\n",
       "      <td>9.0</td>\n",
       "      <td>13.0</td>\n",
       "      <td>15.0</td>\n",
       "      <td>15.0</td>\n",
       "      <td>15.0</td>\n",
       "      <td>10.0</td>\n",
       "      <td>9.0</td>\n",
       "      <td>...</td>\n",
       "      <td>NaN</td>\n",
       "      <td>NaN</td>\n",
       "      <td>NaN</td>\n",
       "      <td>NaN</td>\n",
       "      <td>NaN</td>\n",
       "      <td>NaN</td>\n",
       "      <td>NaN</td>\n",
       "      <td>NaN</td>\n",
       "      <td>NaN</td>\n",
       "      <td>15.0</td>\n",
       "    </tr>\n",
       "  </tbody>\n",
       "</table>\n",
       "<p>341 rows × 288 columns</p>\n",
       "</div>"
      ],
      "text/plain": [
       "                 Period_01  Period_02  Period_03  Period_04  Period_05  \\\n",
       "Settlement_Date                                                          \n",
       "2021-04-15             NaN        NaN        NaN        NaN        NaN   \n",
       "2021-04-16            19.0       15.0       11.0       13.0       13.0   \n",
       "2021-04-17            19.0       17.0       11.0       13.0       11.0   \n",
       "2021-04-18            20.0       19.0       13.0       13.0       11.0   \n",
       "2021-04-19            16.0       19.0       20.0       17.0       11.0   \n",
       "...                    ...        ...        ...        ...        ...   \n",
       "2022-03-17            15.0       15.0       14.0       15.0       13.0   \n",
       "2022-03-18            12.0       15.0       19.0       21.0       19.0   \n",
       "2022-03-19            15.0       15.0        9.0        9.0       10.0   \n",
       "2022-03-20            13.0       14.0       13.0       25.0       23.0   \n",
       "2022-03-21            14.0        9.0        9.0        9.0       13.0   \n",
       "\n",
       "                 Period_06  Period_07  Period_08  Period_09  Period_10  ...  \\\n",
       "Settlement_Date                                                         ...   \n",
       "2021-04-15             NaN        NaN        NaN        NaN        NaN  ...   \n",
       "2021-04-16            16.0       19.0       19.0       18.0       13.0  ...   \n",
       "2021-04-17            13.0       18.0       19.0       19.0       14.0  ...   \n",
       "2021-04-18            13.0       16.0       20.0       19.0       15.0  ...   \n",
       "2021-04-19            13.0       11.0       14.0       19.0       19.0  ...   \n",
       "...                    ...        ...        ...        ...        ...  ...   \n",
       "2022-03-17             9.0        9.0        9.0       15.0       15.0  ...   \n",
       "2022-03-18            15.0       12.0       11.0       13.0       19.0  ...   \n",
       "2022-03-19            12.0       15.0       15.0       15.0       11.0  ...   \n",
       "2022-03-20           123.0       41.0       15.0       14.0       13.0  ...   \n",
       "2022-03-21            15.0       15.0       15.0       10.0        9.0  ...   \n",
       "\n",
       "                 Period_279  Period_280  Period_281  Period_282  Period_283  \\\n",
       "Settlement_Date                                                               \n",
       "2021-04-15             20.0        19.0        20.0        15.0        13.0   \n",
       "2021-04-16             19.0       121.0       195.0       110.0        13.0   \n",
       "2021-04-17             13.0        18.0        19.0        19.0        17.0   \n",
       "2021-04-18             11.0        13.0        14.0        19.0        19.0   \n",
       "2021-04-19             19.0        20.0        16.0        11.0        13.0   \n",
       "...                     ...         ...         ...         ...         ...   \n",
       "2022-03-17             18.0        12.0        11.0        12.0        18.0   \n",
       "2022-03-18             10.0        15.0        15.0        17.0        13.0   \n",
       "2022-03-19            143.0        22.0        14.0        13.0       131.0   \n",
       "2022-03-20             15.0        15.0        15.0        11.0         9.0   \n",
       "2022-03-21              NaN         NaN         NaN         NaN         NaN   \n",
       "\n",
       "                 Period_284  Period_285  Period_286  Period_287  Period_288  \n",
       "Settlement_Date                                                              \n",
       "2021-04-15             13.0        13.0        14.0        19.0         NaN  \n",
       "2021-04-16             11.0        13.0        11.0        18.0        20.0  \n",
       "2021-04-17             13.0        11.0        13.0        12.0        19.0  \n",
       "2021-04-18             19.0        12.0        13.0        11.0        19.0  \n",
       "2021-04-19             13.0        15.0        19.0        19.0        13.0  \n",
       "...                     ...         ...         ...         ...         ...  \n",
       "2022-03-17             21.0        19.0        21.0        12.0         9.0  \n",
       "2022-03-18              9.0         9.0        10.0        14.0        11.0  \n",
       "2022-03-19             25.0        23.0        23.0        23.0        15.0  \n",
       "2022-03-20              9.0        11.0        14.0        15.0       136.0  \n",
       "2022-03-21              NaN         NaN         NaN         NaN        15.0  \n",
       "\n",
       "[341 rows x 288 columns]"
      ]
     },
     "execution_count": 62,
     "metadata": {},
     "output_type": "execute_result"
    }
   ],
   "source": [
    "df_5min.index.map(time_to_5period)\n",
    "df_5min_daily = to_columnwise_5min(df_5min)\n",
    "df_5min_daily"
   ]
  },
  {
   "cell_type": "code",
   "execution_count": 63,
   "metadata": {},
   "outputs": [
    {
     "name": "stdout",
     "output_type": "stream",
     "text": [
      "DatetimeIndex(['2022-02-07'], dtype='datetime64[ns]', name='Settlement_Date', freq=None)\n"
     ]
    },
    {
     "data": {
      "text/plain": [
       "Index(['Mon 07 Feb'], dtype='object', name='Settlement_Date')"
      ]
     },
     "execution_count": 63,
     "metadata": {},
     "output_type": "execute_result"
    }
   ],
   "source": [
    "idx = (12*df_5min_daily[-n:]).sample(1).index\n",
    "print(idx)\n",
    "idx.strftime('%a %d %b')\n"
   ]
  },
  {
   "cell_type": "code",
   "execution_count": 64,
   "metadata": {},
   "outputs": [
    {
     "data": {
      "text/plain": [
       "(0.0, 3258.6)"
      ]
     },
     "execution_count": 64,
     "metadata": {},
     "output_type": "execute_result"
    },
    {
     "data": {
      "image/png": "[encoded data removed]",
      "text/plain": [
       "<Figure size 432x288 with 1 Axes>"
      ]
     },
     "metadata": {},
     "output_type": "display_data"
    }
   ],
   "source": [
    "n = 60\n",
    "# ax = (12*df_5min_daily[-n:]).T.plot(figsize=(12,8), legend=False, color='grey', lw=0.25)\n",
    "ax = (12*df_5min_daily[-n:]).mean().plot(color='blue')\n",
    "sample = (12*df_5min_daily[-n:]).sample(2)\n",
    "ax = (12*df_5min_daily[-n:]).sample(2).T.plot(ax=ax)\n",
    "common_5timeseriesplot(ax)\n",
    "ax.set_ylim(bottom=0)"
   ]
  },
  {
   "cell_type": "code",
   "execution_count": 68,
   "metadata": {},
   "outputs": [
    {
     "name": "stderr",
     "output_type": "stream",
     "text": [
      "C:\\ProgramData\\Anaconda3\\lib\\site-packages\\ipykernel_launcher.py:1: FutureWarning: Indexing a DataFrame with a datetimelike index using a single string to slice the rows, like `frame[string]`, is deprecated and will be removed in a future version. Use `frame.loc[string]` instead.\n",
      "  \"\"\"Entry point for launching an IPython kernel.\n"
     ]
    },
    {
     "data": {
      "text/html": [
       "<div>\n",
       "<style scoped>\n",
       "    .dataframe tbody tr th:only-of-type {\n",
       "        vertical-align: middle;\n",
       "    }\n",
       "\n",
       "    .dataframe tbody tr th {\n",
       "        vertical-align: top;\n",
       "    }\n",
       "\n",
       "    .dataframe thead th {\n",
       "        text-align: right;\n",
       "    }\n",
       "</style>\n",
       "<table border=\"1\" class=\"dataframe\">\n",
       "  <thead>\n",
       "    <tr style=\"text-align: right;\">\n",
       "      <th></th>\n",
       "      <th>cost_dollars</th>\n",
       "      <th>datetime_local</th>\n",
       "      <th>is_peak</th>\n",
       "      <th>watt_hours</th>\n",
       "    </tr>\n",
       "    <tr>\n",
       "      <th>datetime</th>\n",
       "      <th></th>\n",
       "      <th></th>\n",
       "      <th></th>\n",
       "      <th></th>\n",
       "    </tr>\n",
       "  </thead>\n",
       "  <tbody>\n",
       "    <tr>\n",
       "      <th>2022-03-19 00:00:00</th>\n",
       "      <td>0.001438</td>\n",
       "      <td>19/03/2022 1:00</td>\n",
       "      <td>False</td>\n",
       "      <td>3.0</td>\n",
       "    </tr>\n",
       "    <tr>\n",
       "      <th>2022-03-19 00:01:00</th>\n",
       "      <td>0.001438</td>\n",
       "      <td>19/03/2022 1:01</td>\n",
       "      <td>False</td>\n",
       "      <td>3.0</td>\n",
       "    </tr>\n",
       "    <tr>\n",
       "      <th>2022-03-19 00:02:00</th>\n",
       "      <td>0.001438</td>\n",
       "      <td>19/03/2022 1:02</td>\n",
       "      <td>False</td>\n",
       "      <td>3.0</td>\n",
       "    </tr>\n",
       "    <tr>\n",
       "      <th>2022-03-19 00:03:00</th>\n",
       "      <td>0.001438</td>\n",
       "      <td>19/03/2022 1:03</td>\n",
       "      <td>False</td>\n",
       "      <td>3.0</td>\n",
       "    </tr>\n",
       "    <tr>\n",
       "      <th>2022-03-19 00:04:00</th>\n",
       "      <td>0.001438</td>\n",
       "      <td>19/03/2022 1:04</td>\n",
       "      <td>False</td>\n",
       "      <td>3.0</td>\n",
       "    </tr>\n",
       "    <tr>\n",
       "      <th>...</th>\n",
       "      <td>...</td>\n",
       "      <td>...</td>\n",
       "      <td>...</td>\n",
       "      <td>...</td>\n",
       "    </tr>\n",
       "    <tr>\n",
       "      <th>2022-03-19 23:55:00</th>\n",
       "      <td>0.001749</td>\n",
       "      <td>20/03/2022 0:55</td>\n",
       "      <td>False</td>\n",
       "      <td>5.0</td>\n",
       "    </tr>\n",
       "    <tr>\n",
       "      <th>2022-03-19 23:56:00</th>\n",
       "      <td>0.001749</td>\n",
       "      <td>20/03/2022 0:56</td>\n",
       "      <td>False</td>\n",
       "      <td>5.0</td>\n",
       "    </tr>\n",
       "    <tr>\n",
       "      <th>2022-03-19 23:57:00</th>\n",
       "      <td>0.001749</td>\n",
       "      <td>20/03/2022 0:57</td>\n",
       "      <td>False</td>\n",
       "      <td>5.0</td>\n",
       "    </tr>\n",
       "    <tr>\n",
       "      <th>2022-03-19 23:58:00</th>\n",
       "      <td>0.001749</td>\n",
       "      <td>20/03/2022 0:58</td>\n",
       "      <td>False</td>\n",
       "      <td>5.0</td>\n",
       "    </tr>\n",
       "    <tr>\n",
       "      <th>2022-03-19 23:59:00</th>\n",
       "      <td>0.001438</td>\n",
       "      <td>20/03/2022 0:59</td>\n",
       "      <td>False</td>\n",
       "      <td>3.0</td>\n",
       "    </tr>\n",
       "  </tbody>\n",
       "</table>\n",
       "<p>1439 rows × 4 columns</p>\n",
       "</div>"
      ],
      "text/plain": [
       "                     cost_dollars   datetime_local is_peak  watt_hours\n",
       "datetime                                                              \n",
       "2022-03-19 00:00:00      0.001438  19/03/2022 1:00   False         3.0\n",
       "2022-03-19 00:01:00      0.001438  19/03/2022 1:01   False         3.0\n",
       "2022-03-19 00:02:00      0.001438  19/03/2022 1:02   False         3.0\n",
       "2022-03-19 00:03:00      0.001438  19/03/2022 1:03   False         3.0\n",
       "2022-03-19 00:04:00      0.001438  19/03/2022 1:04   False         3.0\n",
       "...                           ...              ...     ...         ...\n",
       "2022-03-19 23:55:00      0.001749  20/03/2022 0:55   False         5.0\n",
       "2022-03-19 23:56:00      0.001749  20/03/2022 0:56   False         5.0\n",
       "2022-03-19 23:57:00      0.001749  20/03/2022 0:57   False         5.0\n",
       "2022-03-19 23:58:00      0.001749  20/03/2022 0:58   False         5.0\n",
       "2022-03-19 23:59:00      0.001438  20/03/2022 0:59   False         3.0\n",
       "\n",
       "[1439 rows x 4 columns]"
      ]
     },
     "execution_count": 68,
     "metadata": {},
     "output_type": "execute_result"
    }
   ],
   "source": [
    "df['2022-03-19']#['watt_hours'].plot()"
   ]
  },
  {
   "cell_type": "code",
   "execution_count": 69,
   "metadata": {
    "scrolled": false
   },
   "outputs": [
    {
     "data": {
      "text/plain": [
       "[<matplotlib.lines.Line2D at 0x27a0255aa58>]"
      ]
     },
     "execution_count": 69,
     "metadata": {},
     "output_type": "execute_result"
    },
    {
     "data": {
      "image/png": "[encoded data removed]",
      "text/plain": [
       "<Figure size 1152x864 with 1 Axes>"
      ]
     },
     "metadata": {},
     "output_type": "display_data"
    }
   ],
   "source": [
    "fig, ax = plt.subplots(figsize=(16,12))\n",
    "\n",
    "x = df_30min.index\n",
    "y = df_30min['watt_hours']\n",
    "\n",
    "ax.plot(x,y)"
   ]
  },
  {
   "cell_type": "code",
   "execution_count": 20,
   "metadata": {},
   "outputs": [],
   "source": [
    "def repeat_values(series):\n",
    "    x = series.index\n",
    "    freq = x.freq\n",
    "    minutes = freq.n\n",
    "    x = x.union(x + freq)\n",
    "    x= x.values\n",
    "    x = x.repeat(2)[1:-1]\n",
    "    \n",
    "    y = series.values\n",
    "    y = y*(60/minutes)\n",
    "    y = y.repeat(2)\n",
    "    return x, y\n",
    "\n",
    "# x, y = repeat_values(df.loc['2021-04-18'].watt_hours)\n",
    "\n",
    "def plot_area(series):\n",
    "    x, y = repeat_values(series)\n",
    "    x = np.insert(x, 0, x[0])\n",
    "    y = np.insert(y, 0, 0)\n",
    "    \n",
    "    x = np.append(x, x[-1])\n",
    "    y = np.append(y, 0)\n",
    "    \n",
    "    "
   ]
  },
  {
   "cell_type": "code",
   "execution_count": 21,
   "metadata": {},
   "outputs": [
    {
     "data": {
      "text/plain": [
       "96"
      ]
     },
     "execution_count": 21,
     "metadata": {},
     "output_type": "execute_result"
    }
   ],
   "source": [
    "len(np.repeat(range(48+1),2)[1:-1])"
   ]
  },
  {
   "cell_type": "code",
   "execution_count": 22,
   "metadata": {},
   "outputs": [
    {
     "ename": "NameError",
     "evalue": "name 'p' is not defined",
     "output_type": "error",
     "traceback": [
      "\u001b[1;31m---------------------------------------------------------------------------\u001b[0m",
      "\u001b[1;31mNameError\u001b[0m                                 Traceback (most recent call last)",
      "\u001b[1;32m<ipython-input-22-bc375ba3686b>\u001b[0m in \u001b[0;36m<module>\u001b[1;34m\u001b[0m\n\u001b[1;32m----> 1\u001b[1;33m \u001b[1;33m(\u001b[0m\u001b[0mp\u001b[0m\u001b[1;33m[\u001b[0m\u001b[1;36m0\u001b[0m\u001b[1;33m]\u001b[0m\u001b[1;33m.\u001b[0m\u001b[0mrepeat\u001b[0m\u001b[1;33m(\u001b[0m\u001b[1;36m2\u001b[0m\u001b[1;33m)\u001b[0m\u001b[1;33m)\u001b[0m\u001b[1;33m\u001b[0m\u001b[1;33m\u001b[0m\u001b[0m\n\u001b[0m",
      "\u001b[1;31mNameError\u001b[0m: name 'p' is not defined"
     ]
    }
   ],
   "source": [
    "(p[0].repeat(2))"
   ]
  },
  {
   "cell_type": "code",
   "execution_count": 23,
   "metadata": {},
   "outputs": [
    {
     "data": {
      "text/plain": [
       "10542"
      ]
     },
     "execution_count": 23,
     "metadata": {},
     "output_type": "execute_result"
    }
   ],
   "source": [
    "x = df_30min.loc['2021-05-01':].watt_hours.index\n",
    "freq = x.freq\n",
    "minutes = freq.n\n",
    "len(x.union(x + freq))"
   ]
  },
  {
   "cell_type": "code",
   "execution_count": 24,
   "metadata": {},
   "outputs": [
    {
     "data": {
      "text/plain": [
       "10541"
      ]
     },
     "execution_count": 24,
     "metadata": {},
     "output_type": "execute_result"
    }
   ],
   "source": [
    "len(x)"
   ]
  },
  {
   "cell_type": "code",
   "execution_count": 25,
   "metadata": {},
   "outputs": [
    {
     "data": {
      "text/plain": [
       "array(['2021-05-01T00:00:00.000000000', '2021-05-01T00:30:00.000000000',\n",
       "       '2021-05-01T00:30:00.000000000', ...,\n",
       "       '2021-12-06T14:00:00.000000000', '2021-12-06T14:00:00.000000000',\n",
       "       '2021-12-06T14:30:00.000000000'], dtype='datetime64[ns]')"
      ]
     },
     "execution_count": 25,
     "metadata": {},
     "output_type": "execute_result"
    }
   ],
   "source": [
    "x30, y30 = repeat_values(df_30min.loc['2021-05-01':].watt_hours)\n",
    "x30"
   ]
  },
  {
   "cell_type": "code",
   "execution_count": 26,
   "metadata": {},
   "outputs": [
    {
     "ename": "NameError",
     "evalue": "name 'startdate' is not defined",
     "output_type": "error",
     "traceback": [
      "\u001b[1;31m---------------------------------------------------------------------------\u001b[0m",
      "\u001b[1;31mNameError\u001b[0m                                 Traceback (most recent call last)",
      "\u001b[1;32m<ipython-input-26-f2774634a87c>\u001b[0m in \u001b[0;36m<module>\u001b[1;34m\u001b[0m\n\u001b[1;32m----> 1\u001b[1;33m \u001b[0mdf_30min\u001b[0m\u001b[1;33m.\u001b[0m\u001b[0mloc\u001b[0m\u001b[1;33m[\u001b[0m\u001b[0mstr\u001b[0m\u001b[1;33m(\u001b[0m\u001b[0mstartdate\u001b[0m\u001b[1;33m)\u001b[0m\u001b[1;33m:\u001b[0m\u001b[0mstr\u001b[0m\u001b[1;33m(\u001b[0m\u001b[0menddate\u001b[0m\u001b[1;33m)\u001b[0m\u001b[1;33m]\u001b[0m\u001b[1;33m.\u001b[0m\u001b[0mwatt_hours\u001b[0m\u001b[1;33m\u001b[0m\u001b[1;33m\u001b[0m\u001b[0m\n\u001b[0m",
      "\u001b[1;31mNameError\u001b[0m: name 'startdate' is not defined"
     ]
    }
   ],
   "source": [
    "df_30min.loc[str(startdate):str(enddate)].watt_hours"
   ]
  },
  {
   "cell_type": "code",
   "execution_count": 27,
   "metadata": {},
   "outputs": [
    {
     "data": {
      "text/plain": [
       "(0.0, 0.0, 0.67825311942959, 1.0)"
      ]
     },
     "execution_count": 27,
     "metadata": {},
     "output_type": "execute_result"
    }
   ],
   "source": [
    "import matplotlib.cm as cm\n",
    "cm.jet(10)"
   ]
  },
  {
   "cell_type": "code",
   "execution_count": 28,
   "metadata": {},
   "outputs": [
    {
     "data": {
      "text/plain": [
       "array(['red', 'red', 'red', 'red', 'red', 'red', 'red', 'red', 'red',\n",
       "       'red', 'red', 'red', 'red', 'red', 'red', 'red', 'red', 'red',\n",
       "       'red', 'red', 'red', 'red', 'red', 'red', 'red', 'red', 'red',\n",
       "       'red', 'red', 'red', 'red', 'red'], dtype='<U3')"
      ]
     },
     "execution_count": 28,
     "metadata": {},
     "output_type": "execute_result"
    }
   ],
   "source": [
    "colors = np.repeat(['red'],32)\n",
    "colors"
   ]
  },
  {
   "cell_type": "code",
   "execution_count": 51,
   "metadata": {},
   "outputs": [
    {
     "data": {
      "text/plain": [
       "((0.1, 0.5, 0.6, 1),\n",
       " (0.1, 0.5, 0.6, 1),\n",
       " (0.1, 0.5, 0.6, 1),\n",
       " (0.1, 0.5, 0.6, 1),\n",
       " (0.1, 0.5, 0.6, 1),\n",
       " (0.1, 0.5, 0.6, 1),\n",
       " (0.1, 0.5, 0.6, 1),\n",
       " (0.1, 0.5, 0.6, 1),\n",
       " (0.1, 0.5, 0.6, 1),\n",
       " (0.1, 0.5, 0.6, 1),\n",
       " (0.1, 0.5, 0.6, 1),\n",
       " (0.1, 0.5, 0.6, 1),\n",
       " (0.1, 0.5, 0.6, 1),\n",
       " (0.1, 0.5, 0.6, 1),\n",
       " (0.1, 0.5, 0.6, 1),\n",
       " (0.1, 0.5, 0.6, 1),\n",
       " (0.1, 0.5, 0.6, 1),\n",
       " (0.1, 0.5, 0.6, 1),\n",
       " (0.1, 0.5, 0.6, 1),\n",
       " (0.1, 0.5, 0.6, 1),\n",
       " (0.1, 0.5, 0.6, 1),\n",
       " (0.1, 0.5, 0.6, 1),\n",
       " (0.1, 0.5, 0.6, 1),\n",
       " (0.1, 0.5, 0.6, 1),\n",
       " (0.1, 0.5, 0.6, 1),\n",
       " (0.1, 0.5, 0.6, 1),\n",
       " (0.1, 0.5, 0.6, 1),\n",
       " (0.1, 0.5, 0.6, 1),\n",
       " (0.1, 0.5, 0.6, 1),\n",
       " (0.1, 0.5, 0.6, 1),\n",
       " (0.1, 0.5, 0.6, 1),\n",
       " (0.1, 0.5, 0.6, 1))"
      ]
     },
     "execution_count": 51,
     "metadata": {},
     "output_type": "execute_result"
    }
   ],
   "source": [
    "my_tuple_1 = (0.1, 0.5, 0.6, 1)\n",
    "my_tuple_2 = (0.2, 0.8, 0.1, 1)\n",
    "colors = (my_tuple_1, ) * 32\n",
    "colors"
   ]
  },
  {
   "cell_type": "code",
   "execution_count": 52,
   "metadata": {},
   "outputs": [
    {
     "data": {
      "text/plain": [
       "(32, 4)"
      ]
     },
     "execution_count": 52,
     "metadata": {},
     "output_type": "execute_result"
    }
   ],
   "source": [
    "colors = np.array(\n",
    "    ([(0.04, 0.015, 0.02, 1.0)] * 1 + [(0.8, 0.5, 0.2, 1.0)] * 1) * 16, dtype=object\n",
    ")\n",
    "colors.shape"
   ]
  },
  {
   "cell_type": "code",
   "execution_count": 53,
   "metadata": {},
   "outputs": [
    {
     "ename": "SyntaxError",
     "evalue": "invalid syntax (<ipython-input-53-48b325781914>, line 2)",
     "output_type": "error",
     "traceback": [
      "\u001b[1;36m  File \u001b[1;32m\"<ipython-input-53-48b325781914>\"\u001b[1;36m, line \u001b[1;32m2\u001b[0m\n\u001b[1;33m    colors = [(0.04, 0.015, 0.02, 1.0), (0.8, 0.5, 0.2, 1.0)] * 32\u001b[0m\n\u001b[1;37m         ^\u001b[0m\n\u001b[1;31mSyntaxError\u001b[0m\u001b[1;31m:\u001b[0m invalid syntax\n"
     ]
    }
   ],
   "source": [
    "colors = np.array([my_tuple_1, my_tuple_2] * 32\n",
    "colors = [(0.04, 0.015, 0.02, 1.0), (0.8, 0.5, 0.2, 1.0)] * 32\n",
    "                  \n",
    "colors"
   ]
  },
  {
   "cell_type": "code",
   "execution_count": 54,
   "metadata": {},
   "outputs": [
    {
     "data": {
      "text/plain": [
       "array([[0.04 , 0.015, 0.02 , 1.   ],\n",
       "       [0.04 , 0.015, 0.02 , 1.   ],\n",
       "       [0.8  , 0.5  , 0.2  , 1.   ],\n",
       "       [0.8  , 0.5  , 0.2  , 1.   ],\n",
       "       [0.8  , 0.5  , 0.2  , 1.   ],\n",
       "       [0.04 , 0.015, 0.02 , 1.   ],\n",
       "       [0.04 , 0.015, 0.02 , 1.   ],\n",
       "       [0.8  , 0.5  , 0.2  , 1.   ],\n",
       "       [0.8  , 0.5  , 0.2  , 1.   ],\n",
       "       [0.8  , 0.5  , 0.2  , 1.   ],\n",
       "       [0.04 , 0.015, 0.02 , 1.   ],\n",
       "       [0.04 , 0.015, 0.02 , 1.   ],\n",
       "       [0.8  , 0.5  , 0.2  , 1.   ],\n",
       "       [0.8  , 0.5  , 0.2  , 1.   ],\n",
       "       [0.8  , 0.5  , 0.2  , 1.   ],\n",
       "       [0.04 , 0.015, 0.02 , 1.   ],\n",
       "       [0.04 , 0.015, 0.02 , 1.   ],\n",
       "       [0.8  , 0.5  , 0.2  , 1.   ],\n",
       "       [0.8  , 0.5  , 0.2  , 1.   ],\n",
       "       [0.8  , 0.5  , 0.2  , 1.   ]])"
      ]
     },
     "execution_count": 54,
     "metadata": {},
     "output_type": "execute_result"
    }
   ],
   "source": [
    "np.array(([(0.04, 0.015, 0.02, 1.0)] * 2 + [(0.8, 0.5, 0.2, 1.0)] * 3) * 4)"
   ]
  },
  {
   "cell_type": "code",
   "execution_count": 55,
   "metadata": {},
   "outputs": [
    {
     "data": {
      "text/plain": [
       "(((0.1, 0.5, 0.6, 1), (0.1, 0.5, 0.6, 1), (0.1, 0.5, 0.6, 1)),\n",
       " ((0.2, 0.8, 0.1, 1), (0.2, 0.8, 0.1, 1), (0.2, 0.8, 0.1, 1)),\n",
       " ((0.1, 0.5, 0.6, 1), (0.1, 0.5, 0.6, 1), (0.1, 0.5, 0.6, 1)),\n",
       " ((0.2, 0.8, 0.1, 1), (0.2, 0.8, 0.1, 1), (0.2, 0.8, 0.1, 1)),\n",
       " ((0.1, 0.5, 0.6, 1), (0.1, 0.5, 0.6, 1), (0.1, 0.5, 0.6, 1)),\n",
       " ((0.2, 0.8, 0.1, 1), (0.2, 0.8, 0.1, 1), (0.2, 0.8, 0.1, 1)),\n",
       " ((0.1, 0.5, 0.6, 1), (0.1, 0.5, 0.6, 1), (0.1, 0.5, 0.6, 1)),\n",
       " ((0.2, 0.8, 0.1, 1), (0.2, 0.8, 0.1, 1), (0.2, 0.8, 0.1, 1)))"
      ]
     },
     "execution_count": 55,
     "metadata": {},
     "output_type": "execute_result"
    }
   ],
   "source": [
    "((my_tuple_1,)*3, (my_tuple_2,)*3) * 4"
   ]
  },
  {
   "cell_type": "code",
   "execution_count": 56,
   "metadata": {},
   "outputs": [
    {
     "data": {
      "text/plain": [
       "((0.1, 0.5, 0.6, 1),\n",
       " (0.2, 0.8, 0.1, 1),\n",
       " (0.1, 0.5, 0.6, 1),\n",
       " (0.2, 0.8, 0.1, 1),\n",
       " (0.1, 0.5, 0.6, 1),\n",
       " (0.2, 0.8, 0.1, 1),\n",
       " (0.1, 0.5, 0.6, 1),\n",
       " (0.2, 0.8, 0.1, 1))"
      ]
     },
     "execution_count": 56,
     "metadata": {},
     "output_type": "execute_result"
    }
   ],
   "source": [
    "(my_tuple_1, my_tuple_2) * 4"
   ]
  },
  {
   "cell_type": "code",
   "execution_count": 57,
   "metadata": {},
   "outputs": [
    {
     "data": {
      "text/plain": [
       "array([[0.1, 0.5, 0.6, 1. ],\n",
       "       [0.2, 0.8, 0.1, 1. ]])"
      ]
     },
     "execution_count": 57,
     "metadata": {},
     "output_type": "execute_result"
    }
   ],
   "source": [
    "np.array([(my_tuple_1), (my_tuple_2)])"
   ]
  },
  {
   "cell_type": "code",
   "execution_count": 58,
   "metadata": {},
   "outputs": [
    {
     "ename": "SyntaxError",
     "evalue": "invalid syntax (<ipython-input-58-6db3e148d1e3>, line 2)",
     "output_type": "error",
     "traceback": [
      "\u001b[1;36m  File \u001b[1;32m\"<ipython-input-58-6db3e148d1e3>\"\u001b[1;36m, line \u001b[1;32m2\u001b[0m\n\u001b[1;33m    colors[]\u001b[0m\n\u001b[1;37m           ^\u001b[0m\n\u001b[1;31mSyntaxError\u001b[0m\u001b[1;31m:\u001b[0m invalid syntax\n"
     ]
    }
   ],
   "source": [
    "colors = np.zeros(32)\n",
    "colors[]"
   ]
  },
  {
   "cell_type": "code",
   "execution_count": 59,
   "metadata": {},
   "outputs": [
    {
     "data": {
      "text/plain": [
       "array([[0.1, 0.5, 0.6, 1. , 0.1, 0.5, 0.6, 1. , 0.1, 0.5, 0.6, 1. , 0.1,\n",
       "        0.5, 0.6, 1. , 0.1, 0.5, 0.6, 1. , 0.1, 0.5, 0.6, 1. , 0.1, 0.5,\n",
       "        0.6, 1. , 0.1, 0.5, 0.6, 1. , 0.1, 0.5, 0.6, 1. , 0.1, 0.5, 0.6,\n",
       "        1. , 0.1, 0.5, 0.6, 1. , 0.1, 0.5, 0.6, 1. , 0.1, 0.5, 0.6, 1. ,\n",
       "        0.1, 0.5, 0.6, 1. , 0.1, 0.5, 0.6, 1. , 0.1, 0.5, 0.6, 1. ],\n",
       "       [0.2, 0.8, 0.1, 1. , 0.2, 0.8, 0.1, 1. , 0.2, 0.8, 0.1, 1. , 0.2,\n",
       "        0.8, 0.1, 1. , 0.2, 0.8, 0.1, 1. , 0.2, 0.8, 0.1, 1. , 0.2, 0.8,\n",
       "        0.1, 1. , 0.2, 0.8, 0.1, 1. , 0.2, 0.8, 0.1, 1. , 0.2, 0.8, 0.1,\n",
       "        1. , 0.2, 0.8, 0.1, 1. , 0.2, 0.8, 0.1, 1. , 0.2, 0.8, 0.1, 1. ,\n",
       "        0.2, 0.8, 0.1, 1. , 0.2, 0.8, 0.1, 1. , 0.2, 0.8, 0.1, 1. ]])"
      ]
     },
     "execution_count": 59,
     "metadata": {},
     "output_type": "execute_result"
    }
   ],
   "source": [
    "colors = np.tile([(my_tuple_1), (my_tuple_2)], 16)\n",
    "colors"
   ]
  },
  {
   "cell_type": "code",
   "execution_count": null,
   "metadata": {},
   "outputs": [],
   "source": []
  },
  {
   "cell_type": "code",
   "execution_count": 60,
   "metadata": {},
   "outputs": [
    {
     "data": {
      "text/plain": [
       "array([[0.1, 0.5, 0.6, 1. ],\n",
       "       [0.1, 0.5, 0.6, 1. ],\n",
       "       [0.2, 0.8, 0.1, 1. ],\n",
       "       [0.2, 0.8, 0.1, 1. ]])"
      ]
     },
     "execution_count": 60,
     "metadata": {},
     "output_type": "execute_result"
    }
   ],
   "source": [
    "np.repeat([(my_tuple_1), my_tuple_2], 2, axis=0)"
   ]
  },
  {
   "cell_type": "code",
   "execution_count": 33,
   "metadata": {},
   "outputs": [
    {
     "data": {
      "text/plain": [
       "array([[  0, 128,  64,   1],\n",
       "       [  0, 128,  64,   1],\n",
       "       [  0, 128,  64,   1],\n",
       "       [  0, 128,  64,   1],\n",
       "       [  0, 128,  64,   1],\n",
       "       [  0, 128,  64,   1],\n",
       "       [  0, 128,  64,   1],\n",
       "       [  0, 128,  64,   1],\n",
       "       [  0, 128,  64,   1],\n",
       "       [  0, 128,  64,   1],\n",
       "       [  0, 128,  64,   1],\n",
       "       [  0, 128,  64,   1],\n",
       "       [  0, 128,  64,   1],\n",
       "       [  0, 128,  64,   1],\n",
       "       [  0, 128,  64,   1],\n",
       "       [  0, 128,  64,   1]])"
      ]
     },
     "execution_count": 33,
     "metadata": {},
     "output_type": "execute_result"
    }
   ],
   "source": [
    "colors=np.tile((0, 128, 64,1),(16,1))\n",
    "colors"
   ]
  },
  {
   "cell_type": "code",
   "execution_count": 34,
   "metadata": {},
   "outputs": [
    {
     "data": {
      "text/plain": [
       "192"
      ]
     },
     "execution_count": 34,
     "metadata": {},
     "output_type": "execute_result"
    }
   ],
   "source": [
    "colors = ([(0.04, 0.015, 0.02, 1.0)] * 6 + [(0.8, 0.5, 0.2, 1.0)] * 6) * 16\n",
    "len(colors)"
   ]
  },
  {
   "cell_type": "code",
   "execution_count": 35,
   "metadata": {
    "scrolled": false
   },
   "outputs": [],
   "source": [
    "def plot_time(startdate, enddate):\n",
    "    fig, ax = plt.subplots(figsize=(16,10))\n",
    "\n",
    "    y = df_30min.loc[str(startdate):str(enddate)].watt_hours\n",
    "\n",
    "    x30, y30 = repeat_values(df_30min.loc[str(startdate):str(enddate)].watt_hours)\n",
    "#     ax.plot(x30,y30, color='k', linewidth = 1)\n",
    "#     ax.fill_between(x30, y30, alpha=0.4, facecolor = 'grey')\n",
    "#     print(len(y))\n",
    "#     ax.bar(y.index, 2*y, width=pd.Timedelta(minutes=30)\n",
    "# #            , edgecolor=\"none\"\n",
    "#            , align='edge'\n",
    "#            , facecolor = \"none\"\n",
    "# #            , color=colors\n",
    "#            , alpha=0.75)\n",
    "\n",
    "    y = df_5min.loc[str(startdate):str(enddate)].watt_hours\n",
    "    x5, y5 = repeat_values(df_5min.loc[str(startdate):str(enddate)].watt_hours)\n",
    "#     ax.plot(x5, y5, color='b', linewidth = 1)\n",
    "    ax.bar(y.index, 12*y, width=pd.Timedelta(minutes=5)\n",
    "           , edgecolor=\"none\"\n",
    "           , align='edge'\n",
    "           , color=colors\n",
    "#            , facecolor=\"grey\"\n",
    "           , alpha=0.75)\n",
    "#     ax.fill_between(x5, y5, alpha=0.4, facecolor = 'b')\n",
    "\n",
    "    x1, y1 = repeat_values(df.loc[str(startdate):str(enddate)].watt_hours)\n",
    "    # ax.plot(x1, y1, color='r', linewidth = 1)\n",
    "\n",
    "\n",
    "\n",
    "    x, y = repeat_values(df.loc['2021-05-01':].watt_hours)\n",
    "    # ax.plot(x,y, linewidth = 1, color='green')\n",
    "    # ax.fill_between(x, y, alpha=0.4, facecolor = 'red')\n",
    "\n",
    "    # ax.fill_between(x, y, y>y30, alpha=0.4, facecolor = 'grey')\n",
    "\n",
    "\n",
    "    # ax.set_xticks(ts)\n",
    "    # ax.set_xticklabels(tl)\n",
    "\n",
    "    majorLoc = MinuteLocator(byminute=np.arange(0,60,30))\n",
    "    minorLoc = MinuteLocator(byminute=np.arange(0,60,5))\n",
    "    ax.xaxis.set_major_locator(majorLoc)\n",
    "    ax.xaxis.set_minor_locator(minorLoc)\n",
    "\n",
    "    # ax.xaxis.set_major_locator(MultipleLocator(6))\n",
    "    # ax.xaxis.set_minor_locator(MultipleLocator(1))\n",
    "    ax.xaxis.set_minor_formatter(NullFormatter())\n",
    "\n",
    "    # ax.yaxis.set_minor_locator(MultipleLocator(60))\n",
    "\n",
    "    # ax.yaxis.set_minor_formatter(NullFormatter())\n",
    "\n",
    "    ax.xaxis.set_major_formatter(DateFormatter('%H:%M'))\n",
    "    # ax.xaxis.set_minor_formatter(DateFormatter('%H:%M'))\n",
    "    ax.grid(b=True, which='minor', color='w', linewidth=0.5)\n",
    "\n",
    "    # period_to_time(period, interval=30)\n",
    "\n",
    "    ax.set_ylim(bottom=0)\n",
    "    # ax.autoscale(axis='x', tight=True)\n",
    "    plt.xticks(rotation = 90, ha='center');\n",
    "\n",
    "    # )ax.set_xlim(pd.Timestamp('2021-04-19 14:00'), pd.Timestamp('2021-04-19 22:00')\n",
    "    ax.set_xlim(startdate, enddate)\n",
    "    # ax.set_xlim(192,204+6*6)\n",
    "    \n",
    "    return fig"
   ]
  },
  {
   "cell_type": "code",
   "execution_count": 47,
   "metadata": {
    "scrolled": false
   },
   "outputs": [
    {
     "data": {
      "image/png": "[encoded data removed]",
      "text/plain": [
       "<Figure size 1152x720 with 1 Axes>"
      ]
     },
     "metadata": {},
     "output_type": "display_data"
    }
   ],
   "source": [
    "startdate = dt.datetime(2021,11,1,0)\n",
    "enddate = dt.datetime(2021,11,2,0)\n",
    "plot_time(startdate, enddate);"
   ]
  },
  {
   "cell_type": "code",
   "execution_count": 79,
   "metadata": {},
   "outputs": [
    {
     "data": {
      "text/html": [
       "<div>\n",
       "<style scoped>\n",
       "    .dataframe tbody tr th:only-of-type {\n",
       "        vertical-align: middle;\n",
       "    }\n",
       "\n",
       "    .dataframe tbody tr th {\n",
       "        vertical-align: top;\n",
       "    }\n",
       "\n",
       "    .dataframe thead th {\n",
       "        text-align: right;\n",
       "    }\n",
       "</style>\n",
       "<table border=\"1\" class=\"dataframe\">\n",
       "  <thead>\n",
       "    <tr style=\"text-align: right;\">\n",
       "      <th></th>\n",
       "      <th>watt_hours</th>\n",
       "      <th>cost_dollars</th>\n",
       "      <th>Period</th>\n",
       "      <th>Settlement_Date</th>\n",
       "    </tr>\n",
       "    <tr>\n",
       "      <th>datetime</th>\n",
       "      <th></th>\n",
       "      <th></th>\n",
       "      <th></th>\n",
       "      <th></th>\n",
       "    </tr>\n",
       "  </thead>\n",
       "  <tbody>\n",
       "    <tr>\n",
       "      <th>2021-04-15 14:35:00</th>\n",
       "      <td>23.0</td>\n",
       "      <td>0.007617</td>\n",
       "      <td>29</td>\n",
       "      <td>2021-04-15</td>\n",
       "    </tr>\n",
       "    <tr>\n",
       "      <th>2021-04-15 14:40:00</th>\n",
       "      <td>29.0</td>\n",
       "      <td>0.009988</td>\n",
       "      <td>29</td>\n",
       "      <td>2021-04-15</td>\n",
       "    </tr>\n",
       "    <tr>\n",
       "      <th>2021-04-15 14:45:00</th>\n",
       "      <td>167.0</td>\n",
       "      <td>0.044207</td>\n",
       "      <td>29</td>\n",
       "      <td>2021-04-15</td>\n",
       "    </tr>\n",
       "    <tr>\n",
       "      <th>2021-04-15 14:50:00</th>\n",
       "      <td>34.0</td>\n",
       "      <td>0.010921</td>\n",
       "      <td>29</td>\n",
       "      <td>2021-04-15</td>\n",
       "    </tr>\n",
       "    <tr>\n",
       "      <th>2021-04-15 14:55:00</th>\n",
       "      <td>27.0</td>\n",
       "      <td>0.009366</td>\n",
       "      <td>29</td>\n",
       "      <td>2021-04-15</td>\n",
       "    </tr>\n",
       "    <tr>\n",
       "      <th>...</th>\n",
       "      <td>...</td>\n",
       "      <td>...</td>\n",
       "      <td>...</td>\n",
       "      <td>...</td>\n",
       "    </tr>\n",
       "    <tr>\n",
       "      <th>2021-12-06 14:05:00</th>\n",
       "      <td>30.0</td>\n",
       "      <td>0.010299</td>\n",
       "      <td>28</td>\n",
       "      <td>2021-12-06</td>\n",
       "    </tr>\n",
       "    <tr>\n",
       "      <th>2021-12-06 14:10:00</th>\n",
       "      <td>23.0</td>\n",
       "      <td>0.008744</td>\n",
       "      <td>28</td>\n",
       "      <td>2021-12-06</td>\n",
       "    </tr>\n",
       "    <tr>\n",
       "      <th>2021-12-06 14:15:00</th>\n",
       "      <td>25.0</td>\n",
       "      <td>0.009055</td>\n",
       "      <td>28</td>\n",
       "      <td>2021-12-06</td>\n",
       "    </tr>\n",
       "    <tr>\n",
       "      <th>2021-12-06 14:20:00</th>\n",
       "      <td>110.0</td>\n",
       "      <td>0.030208</td>\n",
       "      <td>28</td>\n",
       "      <td>2021-12-06</td>\n",
       "    </tr>\n",
       "    <tr>\n",
       "      <th>2021-12-06 14:25:00</th>\n",
       "      <td>11.0</td>\n",
       "      <td>0.003808</td>\n",
       "      <td>28</td>\n",
       "      <td>2021-12-06</td>\n",
       "    </tr>\n",
       "  </tbody>\n",
       "</table>\n",
       "<p>67679 rows × 4 columns</p>\n",
       "</div>"
      ],
      "text/plain": [
       "                     watt_hours  cost_dollars  Period Settlement_Date\n",
       "datetime                                                             \n",
       "2021-04-15 14:35:00        23.0      0.007617      29      2021-04-15\n",
       "2021-04-15 14:40:00        29.0      0.009988      29      2021-04-15\n",
       "2021-04-15 14:45:00       167.0      0.044207      29      2021-04-15\n",
       "2021-04-15 14:50:00        34.0      0.010921      29      2021-04-15\n",
       "2021-04-15 14:55:00        27.0      0.009366      29      2021-04-15\n",
       "...                         ...           ...     ...             ...\n",
       "2021-12-06 14:05:00        30.0      0.010299      28      2021-12-06\n",
       "2021-12-06 14:10:00        23.0      0.008744      28      2021-12-06\n",
       "2021-12-06 14:15:00        25.0      0.009055      28      2021-12-06\n",
       "2021-12-06 14:20:00       110.0      0.030208      28      2021-12-06\n",
       "2021-12-06 14:25:00        11.0      0.003808      28      2021-12-06\n",
       "\n",
       "[67679 rows x 4 columns]"
      ]
     },
     "execution_count": 79,
     "metadata": {},
     "output_type": "execute_result"
    }
   ],
   "source": [
    "df_5min"
   ]
  },
  {
   "cell_type": "code",
   "execution_count": 66,
   "metadata": {
    "scrolled": true
   },
   "outputs": [
    {
     "ename": "NameError",
     "evalue": "name 'colorlist' is not defined",
     "output_type": "error",
     "traceback": [
      "\u001b[1;31m---------------------------------------------------------------------------\u001b[0m",
      "\u001b[1;31mNameError\u001b[0m                                 Traceback (most recent call last)",
      "\u001b[1;32m<ipython-input-66-90ea89e5b202>\u001b[0m in \u001b[0;36m<module>\u001b[1;34m\u001b[0m\n\u001b[1;32m----> 1\u001b[1;33m \u001b[0mcolorlist\u001b[0m\u001b[1;33m.\u001b[0m\u001b[0mshape\u001b[0m\u001b[1;33m\u001b[0m\u001b[1;33m\u001b[0m\u001b[0m\n\u001b[0m",
      "\u001b[1;31mNameError\u001b[0m: name 'colorlist' is not defined"
     ]
    }
   ],
   "source": [
    "colorlist.shape"
   ]
  },
  {
   "cell_type": "code",
   "execution_count": 37,
   "metadata": {
    "scrolled": false
   },
   "outputs": [
    {
     "ename": "ValueError",
     "evalue": "Invalid RGBA argument: array([[0.04, 0.015, 0.02, 1.0],\n       [0.8, 0.5, 0.2, 1.0],\n       [0.04, 0.015, 0.02, 1.0],\n       [0.8, 0.5, 0.2, 1.0],\n       [0.04, 0.015, 0.02, 1.0],\n       [0.8, 0.5, 0.2, 1.0],\n       [0.04, 0.015, 0.02, 1.0],\n       [0.8, 0.5, 0.2, 1.0],\n       [0.04, 0.015, 0.02, 1.0],\n       [0.8, 0.5, 0.2, 1.0],\n       [0.04, 0.015, 0.02, 1.0],\n       [0.8, 0.5, 0.2, 1.0],\n       [0.04, 0.015, 0.02, 1.0],\n       [0.8, 0.5, 0.2, 1.0],\n       [0.04, 0.015, 0.02, 1.0],\n       [0.8, 0.5, 0.2, 1.0],\n       [0.04, 0.015, 0.02, 1.0],\n       [0.8, 0.5, 0.2, 1.0],\n       [0.04, 0.015, 0.02, 1.0],\n       [0.8, 0.5, 0.2, 1.0],\n       [0.04, 0.015, 0.02, 1.0],\n       [0.8, 0.5, 0.2, 1.0],\n       [0.04, 0.015, 0.02, 1.0],\n       [0.8, 0.5, 0.2, 1.0],\n       [0.04, 0.015, 0.02, 1.0],\n       [0.8, 0.5, 0.2, 1.0],\n       [0.04, 0.015, 0.02, 1.0],\n       [0.8, 0.5, 0.2, 1.0],\n       [0.04, 0.015, 0.02, 1.0],\n       [0.8, 0.5, 0.2, 1.0],\n       [0.04, 0.015, 0.02, 1.0],\n       [0.8, 0.5, 0.2, 1.0]], dtype=object)",
     "output_type": "error",
     "traceback": [
      "\u001b[1;31m---------------------------------------------------------------------------\u001b[0m",
      "\u001b[1;31mValueError\u001b[0m                                Traceback (most recent call last)",
      "\u001b[1;32m<ipython-input-37-81d9a0e99b00>\u001b[0m in \u001b[0;36m<module>\u001b[1;34m\u001b[0m\n\u001b[0;32m      9\u001b[0m \u001b[0my\u001b[0m \u001b[1;33m=\u001b[0m \u001b[0mnp\u001b[0m\u001b[1;33m.\u001b[0m\u001b[0mones\u001b[0m\u001b[1;33m(\u001b[0m\u001b[1;36m32\u001b[0m\u001b[1;33m)\u001b[0m\u001b[1;33m\u001b[0m\u001b[1;33m\u001b[0m\u001b[0m\n\u001b[0;32m     10\u001b[0m \u001b[0mx\u001b[0m \u001b[1;33m=\u001b[0m \u001b[0mnp\u001b[0m\u001b[1;33m.\u001b[0m\u001b[0mlinspace\u001b[0m\u001b[1;33m(\u001b[0m\u001b[1;36m1\u001b[0m\u001b[1;33m,\u001b[0m\u001b[1;36m32\u001b[0m\u001b[1;33m,\u001b[0m\u001b[1;36m32\u001b[0m\u001b[1;33m)\u001b[0m\u001b[1;33m\u001b[0m\u001b[1;33m\u001b[0m\u001b[0m\n\u001b[1;32m---> 11\u001b[1;33m \u001b[0max\u001b[0m\u001b[1;33m.\u001b[0m\u001b[0mbar\u001b[0m\u001b[1;33m(\u001b[0m\u001b[0mx\u001b[0m\u001b[1;33m,\u001b[0m \u001b[0my\u001b[0m\u001b[1;33m,\u001b[0m \u001b[0mfacecolor\u001b[0m \u001b[1;33m=\u001b[0m \u001b[0mcolorlist\u001b[0m\u001b[1;33m)\u001b[0m\u001b[1;33m\u001b[0m\u001b[1;33m\u001b[0m\u001b[0m\n\u001b[0m",
      "\u001b[1;32mC:\\ProgramData\\Anaconda3\\lib\\site-packages\\matplotlib\\__init__.py\u001b[0m in \u001b[0;36minner\u001b[1;34m(ax, data, *args, **kwargs)\u001b[0m\n\u001b[0;32m   1587\u001b[0m     \u001b[1;32mdef\u001b[0m \u001b[0minner\u001b[0m\u001b[1;33m(\u001b[0m\u001b[0max\u001b[0m\u001b[1;33m,\u001b[0m \u001b[1;33m*\u001b[0m\u001b[0margs\u001b[0m\u001b[1;33m,\u001b[0m \u001b[0mdata\u001b[0m\u001b[1;33m=\u001b[0m\u001b[1;32mNone\u001b[0m\u001b[1;33m,\u001b[0m \u001b[1;33m**\u001b[0m\u001b[0mkwargs\u001b[0m\u001b[1;33m)\u001b[0m\u001b[1;33m:\u001b[0m\u001b[1;33m\u001b[0m\u001b[1;33m\u001b[0m\u001b[0m\n\u001b[0;32m   1588\u001b[0m         \u001b[1;32mif\u001b[0m \u001b[0mdata\u001b[0m \u001b[1;32mis\u001b[0m \u001b[1;32mNone\u001b[0m\u001b[1;33m:\u001b[0m\u001b[1;33m\u001b[0m\u001b[1;33m\u001b[0m\u001b[0m\n\u001b[1;32m-> 1589\u001b[1;33m             \u001b[1;32mreturn\u001b[0m \u001b[0mfunc\u001b[0m\u001b[1;33m(\u001b[0m\u001b[0max\u001b[0m\u001b[1;33m,\u001b[0m \u001b[1;33m*\u001b[0m\u001b[0mmap\u001b[0m\u001b[1;33m(\u001b[0m\u001b[0msanitize_sequence\u001b[0m\u001b[1;33m,\u001b[0m \u001b[0margs\u001b[0m\u001b[1;33m)\u001b[0m\u001b[1;33m,\u001b[0m \u001b[1;33m**\u001b[0m\u001b[0mkwargs\u001b[0m\u001b[1;33m)\u001b[0m\u001b[1;33m\u001b[0m\u001b[1;33m\u001b[0m\u001b[0m\n\u001b[0m\u001b[0;32m   1590\u001b[0m \u001b[1;33m\u001b[0m\u001b[0m\n\u001b[0;32m   1591\u001b[0m         \u001b[0mbound\u001b[0m \u001b[1;33m=\u001b[0m \u001b[0mnew_sig\u001b[0m\u001b[1;33m.\u001b[0m\u001b[0mbind\u001b[0m\u001b[1;33m(\u001b[0m\u001b[0max\u001b[0m\u001b[1;33m,\u001b[0m \u001b[1;33m*\u001b[0m\u001b[0margs\u001b[0m\u001b[1;33m,\u001b[0m \u001b[1;33m**\u001b[0m\u001b[0mkwargs\u001b[0m\u001b[1;33m)\u001b[0m\u001b[1;33m\u001b[0m\u001b[1;33m\u001b[0m\u001b[0m\n",
      "\u001b[1;32mC:\\ProgramData\\Anaconda3\\lib\\site-packages\\matplotlib\\axes\\_axes.py\u001b[0m in \u001b[0;36mbar\u001b[1;34m(self, x, height, width, bottom, align, **kwargs)\u001b[0m\n\u001b[0;32m   2430\u001b[0m                 \u001b[0mlabel\u001b[0m\u001b[1;33m=\u001b[0m\u001b[1;34m'_nolegend_'\u001b[0m\u001b[1;33m,\u001b[0m\u001b[1;33m\u001b[0m\u001b[1;33m\u001b[0m\u001b[0m\n\u001b[0;32m   2431\u001b[0m                 )\n\u001b[1;32m-> 2432\u001b[1;33m             \u001b[0mr\u001b[0m\u001b[1;33m.\u001b[0m\u001b[0mupdate\u001b[0m\u001b[1;33m(\u001b[0m\u001b[0mkwargs\u001b[0m\u001b[1;33m)\u001b[0m\u001b[1;33m\u001b[0m\u001b[1;33m\u001b[0m\u001b[0m\n\u001b[0m\u001b[0;32m   2433\u001b[0m             \u001b[0mr\u001b[0m\u001b[1;33m.\u001b[0m\u001b[0mget_path\u001b[0m\u001b[1;33m(\u001b[0m\u001b[1;33m)\u001b[0m\u001b[1;33m.\u001b[0m\u001b[0m_interpolation_steps\u001b[0m \u001b[1;33m=\u001b[0m \u001b[1;36m100\u001b[0m\u001b[1;33m\u001b[0m\u001b[1;33m\u001b[0m\u001b[0m\n\u001b[0;32m   2434\u001b[0m             \u001b[1;32mif\u001b[0m \u001b[0morientation\u001b[0m \u001b[1;33m==\u001b[0m \u001b[1;34m'vertical'\u001b[0m\u001b[1;33m:\u001b[0m\u001b[1;33m\u001b[0m\u001b[1;33m\u001b[0m\u001b[0m\n",
      "\u001b[1;32mC:\\ProgramData\\Anaconda3\\lib\\site-packages\\matplotlib\\artist.py\u001b[0m in \u001b[0;36mupdate\u001b[1;34m(self, props)\u001b[0m\n\u001b[0;32m    955\u001b[0m \u001b[1;33m\u001b[0m\u001b[0m\n\u001b[0;32m    956\u001b[0m         \u001b[1;32mwith\u001b[0m \u001b[0mcbook\u001b[0m\u001b[1;33m.\u001b[0m\u001b[0m_setattr_cm\u001b[0m\u001b[1;33m(\u001b[0m\u001b[0mself\u001b[0m\u001b[1;33m,\u001b[0m \u001b[0meventson\u001b[0m\u001b[1;33m=\u001b[0m\u001b[1;32mFalse\u001b[0m\u001b[1;33m)\u001b[0m\u001b[1;33m:\u001b[0m\u001b[1;33m\u001b[0m\u001b[1;33m\u001b[0m\u001b[0m\n\u001b[1;32m--> 957\u001b[1;33m             \u001b[0mret\u001b[0m \u001b[1;33m=\u001b[0m \u001b[1;33m[\u001b[0m\u001b[0m_update_property\u001b[0m\u001b[1;33m(\u001b[0m\u001b[0mself\u001b[0m\u001b[1;33m,\u001b[0m \u001b[0mk\u001b[0m\u001b[1;33m,\u001b[0m \u001b[0mv\u001b[0m\u001b[1;33m)\u001b[0m \u001b[1;32mfor\u001b[0m \u001b[0mk\u001b[0m\u001b[1;33m,\u001b[0m \u001b[0mv\u001b[0m \u001b[1;32min\u001b[0m \u001b[0mprops\u001b[0m\u001b[1;33m.\u001b[0m\u001b[0mitems\u001b[0m\u001b[1;33m(\u001b[0m\u001b[1;33m)\u001b[0m\u001b[1;33m]\u001b[0m\u001b[1;33m\u001b[0m\u001b[1;33m\u001b[0m\u001b[0m\n\u001b[0m\u001b[0;32m    958\u001b[0m \u001b[1;33m\u001b[0m\u001b[0m\n\u001b[0;32m    959\u001b[0m         \u001b[1;32mif\u001b[0m \u001b[0mlen\u001b[0m\u001b[1;33m(\u001b[0m\u001b[0mret\u001b[0m\u001b[1;33m)\u001b[0m\u001b[1;33m:\u001b[0m\u001b[1;33m\u001b[0m\u001b[1;33m\u001b[0m\u001b[0m\n",
      "\u001b[1;32mC:\\ProgramData\\Anaconda3\\lib\\site-packages\\matplotlib\\artist.py\u001b[0m in \u001b[0;36m<listcomp>\u001b[1;34m(.0)\u001b[0m\n\u001b[0;32m    955\u001b[0m \u001b[1;33m\u001b[0m\u001b[0m\n\u001b[0;32m    956\u001b[0m         \u001b[1;32mwith\u001b[0m \u001b[0mcbook\u001b[0m\u001b[1;33m.\u001b[0m\u001b[0m_setattr_cm\u001b[0m\u001b[1;33m(\u001b[0m\u001b[0mself\u001b[0m\u001b[1;33m,\u001b[0m \u001b[0meventson\u001b[0m\u001b[1;33m=\u001b[0m\u001b[1;32mFalse\u001b[0m\u001b[1;33m)\u001b[0m\u001b[1;33m:\u001b[0m\u001b[1;33m\u001b[0m\u001b[1;33m\u001b[0m\u001b[0m\n\u001b[1;32m--> 957\u001b[1;33m             \u001b[0mret\u001b[0m \u001b[1;33m=\u001b[0m \u001b[1;33m[\u001b[0m\u001b[0m_update_property\u001b[0m\u001b[1;33m(\u001b[0m\u001b[0mself\u001b[0m\u001b[1;33m,\u001b[0m \u001b[0mk\u001b[0m\u001b[1;33m,\u001b[0m \u001b[0mv\u001b[0m\u001b[1;33m)\u001b[0m \u001b[1;32mfor\u001b[0m \u001b[0mk\u001b[0m\u001b[1;33m,\u001b[0m \u001b[0mv\u001b[0m \u001b[1;32min\u001b[0m \u001b[0mprops\u001b[0m\u001b[1;33m.\u001b[0m\u001b[0mitems\u001b[0m\u001b[1;33m(\u001b[0m\u001b[1;33m)\u001b[0m\u001b[1;33m]\u001b[0m\u001b[1;33m\u001b[0m\u001b[1;33m\u001b[0m\u001b[0m\n\u001b[0m\u001b[0;32m    958\u001b[0m \u001b[1;33m\u001b[0m\u001b[0m\n\u001b[0;32m    959\u001b[0m         \u001b[1;32mif\u001b[0m \u001b[0mlen\u001b[0m\u001b[1;33m(\u001b[0m\u001b[0mret\u001b[0m\u001b[1;33m)\u001b[0m\u001b[1;33m:\u001b[0m\u001b[1;33m\u001b[0m\u001b[1;33m\u001b[0m\u001b[0m\n",
      "\u001b[1;32mC:\\ProgramData\\Anaconda3\\lib\\site-packages\\matplotlib\\artist.py\u001b[0m in \u001b[0;36m_update_property\u001b[1;34m(self, k, v)\u001b[0m\n\u001b[0;32m    952\u001b[0m                     raise AttributeError('{!r} object has no property {!r}'\n\u001b[0;32m    953\u001b[0m                                          .format(type(self).__name__, k))\n\u001b[1;32m--> 954\u001b[1;33m                 \u001b[1;32mreturn\u001b[0m \u001b[0mfunc\u001b[0m\u001b[1;33m(\u001b[0m\u001b[0mv\u001b[0m\u001b[1;33m)\u001b[0m\u001b[1;33m\u001b[0m\u001b[1;33m\u001b[0m\u001b[0m\n\u001b[0m\u001b[0;32m    955\u001b[0m \u001b[1;33m\u001b[0m\u001b[0m\n\u001b[0;32m    956\u001b[0m         \u001b[1;32mwith\u001b[0m \u001b[0mcbook\u001b[0m\u001b[1;33m.\u001b[0m\u001b[0m_setattr_cm\u001b[0m\u001b[1;33m(\u001b[0m\u001b[0mself\u001b[0m\u001b[1;33m,\u001b[0m \u001b[0meventson\u001b[0m\u001b[1;33m=\u001b[0m\u001b[1;32mFalse\u001b[0m\u001b[1;33m)\u001b[0m\u001b[1;33m:\u001b[0m\u001b[1;33m\u001b[0m\u001b[1;33m\u001b[0m\u001b[0m\n",
      "\u001b[1;32mC:\\ProgramData\\Anaconda3\\lib\\site-packages\\matplotlib\\patches.py\u001b[0m in \u001b[0;36mset_facecolor\u001b[1;34m(self, color)\u001b[0m\n\u001b[0;32m    317\u001b[0m         \"\"\"\n\u001b[0;32m    318\u001b[0m         \u001b[0mself\u001b[0m\u001b[1;33m.\u001b[0m\u001b[0m_original_facecolor\u001b[0m \u001b[1;33m=\u001b[0m \u001b[0mcolor\u001b[0m\u001b[1;33m\u001b[0m\u001b[1;33m\u001b[0m\u001b[0m\n\u001b[1;32m--> 319\u001b[1;33m         \u001b[0mself\u001b[0m\u001b[1;33m.\u001b[0m\u001b[0m_set_facecolor\u001b[0m\u001b[1;33m(\u001b[0m\u001b[0mcolor\u001b[0m\u001b[1;33m)\u001b[0m\u001b[1;33m\u001b[0m\u001b[1;33m\u001b[0m\u001b[0m\n\u001b[0m\u001b[0;32m    320\u001b[0m \u001b[1;33m\u001b[0m\u001b[0m\n\u001b[0;32m    321\u001b[0m     \u001b[1;32mdef\u001b[0m \u001b[0mset_color\u001b[0m\u001b[1;33m(\u001b[0m\u001b[0mself\u001b[0m\u001b[1;33m,\u001b[0m \u001b[0mc\u001b[0m\u001b[1;33m)\u001b[0m\u001b[1;33m:\u001b[0m\u001b[1;33m\u001b[0m\u001b[1;33m\u001b[0m\u001b[0m\n",
      "\u001b[1;32mC:\\ProgramData\\Anaconda3\\lib\\site-packages\\matplotlib\\patches.py\u001b[0m in \u001b[0;36m_set_facecolor\u001b[1;34m(self, color)\u001b[0m\n\u001b[0;32m    305\u001b[0m             \u001b[0mcolor\u001b[0m \u001b[1;33m=\u001b[0m \u001b[0mmpl\u001b[0m\u001b[1;33m.\u001b[0m\u001b[0mrcParams\u001b[0m\u001b[1;33m[\u001b[0m\u001b[1;34m'patch.facecolor'\u001b[0m\u001b[1;33m]\u001b[0m\u001b[1;33m\u001b[0m\u001b[1;33m\u001b[0m\u001b[0m\n\u001b[0;32m    306\u001b[0m         \u001b[0malpha\u001b[0m \u001b[1;33m=\u001b[0m \u001b[0mself\u001b[0m\u001b[1;33m.\u001b[0m\u001b[0m_alpha\u001b[0m \u001b[1;32mif\u001b[0m \u001b[0mself\u001b[0m\u001b[1;33m.\u001b[0m\u001b[0m_fill\u001b[0m \u001b[1;32melse\u001b[0m \u001b[1;36m0\u001b[0m\u001b[1;33m\u001b[0m\u001b[1;33m\u001b[0m\u001b[0m\n\u001b[1;32m--> 307\u001b[1;33m         \u001b[0mself\u001b[0m\u001b[1;33m.\u001b[0m\u001b[0m_facecolor\u001b[0m \u001b[1;33m=\u001b[0m \u001b[0mcolors\u001b[0m\u001b[1;33m.\u001b[0m\u001b[0mto_rgba\u001b[0m\u001b[1;33m(\u001b[0m\u001b[0mcolor\u001b[0m\u001b[1;33m,\u001b[0m \u001b[0malpha\u001b[0m\u001b[1;33m)\u001b[0m\u001b[1;33m\u001b[0m\u001b[1;33m\u001b[0m\u001b[0m\n\u001b[0m\u001b[0;32m    308\u001b[0m         \u001b[0mself\u001b[0m\u001b[1;33m.\u001b[0m\u001b[0mstale\u001b[0m \u001b[1;33m=\u001b[0m \u001b[1;32mTrue\u001b[0m\u001b[1;33m\u001b[0m\u001b[1;33m\u001b[0m\u001b[0m\n\u001b[0;32m    309\u001b[0m \u001b[1;33m\u001b[0m\u001b[0m\n",
      "\u001b[1;32mC:\\ProgramData\\Anaconda3\\lib\\site-packages\\matplotlib\\colors.py\u001b[0m in \u001b[0;36mto_rgba\u001b[1;34m(c, alpha)\u001b[0m\n\u001b[0;32m    175\u001b[0m         \u001b[0mrgba\u001b[0m \u001b[1;33m=\u001b[0m \u001b[1;32mNone\u001b[0m\u001b[1;33m\u001b[0m\u001b[1;33m\u001b[0m\u001b[0m\n\u001b[0;32m    176\u001b[0m     \u001b[1;32mif\u001b[0m \u001b[0mrgba\u001b[0m \u001b[1;32mis\u001b[0m \u001b[1;32mNone\u001b[0m\u001b[1;33m:\u001b[0m  \u001b[1;31m# Suppress exception chaining of cache lookup failure.\u001b[0m\u001b[1;33m\u001b[0m\u001b[1;33m\u001b[0m\u001b[0m\n\u001b[1;32m--> 177\u001b[1;33m         \u001b[0mrgba\u001b[0m \u001b[1;33m=\u001b[0m \u001b[0m_to_rgba_no_colorcycle\u001b[0m\u001b[1;33m(\u001b[0m\u001b[0mc\u001b[0m\u001b[1;33m,\u001b[0m \u001b[0malpha\u001b[0m\u001b[1;33m)\u001b[0m\u001b[1;33m\u001b[0m\u001b[1;33m\u001b[0m\u001b[0m\n\u001b[0m\u001b[0;32m    178\u001b[0m         \u001b[1;32mtry\u001b[0m\u001b[1;33m:\u001b[0m\u001b[1;33m\u001b[0m\u001b[1;33m\u001b[0m\u001b[0m\n\u001b[0;32m    179\u001b[0m             \u001b[0m_colors_full_map\u001b[0m\u001b[1;33m.\u001b[0m\u001b[0mcache\u001b[0m\u001b[1;33m[\u001b[0m\u001b[0mc\u001b[0m\u001b[1;33m,\u001b[0m \u001b[0malpha\u001b[0m\u001b[1;33m]\u001b[0m \u001b[1;33m=\u001b[0m \u001b[0mrgba\u001b[0m\u001b[1;33m\u001b[0m\u001b[1;33m\u001b[0m\u001b[0m\n",
      "\u001b[1;32mC:\\ProgramData\\Anaconda3\\lib\\site-packages\\matplotlib\\colors.py\u001b[0m in \u001b[0;36m_to_rgba_no_colorcycle\u001b[1;34m(c, alpha)\u001b[0m\n\u001b[0;32m    236\u001b[0m         \u001b[1;31m# float)` and `np.array(...).astype(float)` all convert \"0.5\" to 0.5.\u001b[0m\u001b[1;33m\u001b[0m\u001b[1;33m\u001b[0m\u001b[1;33m\u001b[0m\u001b[0m\n\u001b[0;32m    237\u001b[0m         \u001b[1;31m# Test dimensionality to reject single floats.\u001b[0m\u001b[1;33m\u001b[0m\u001b[1;33m\u001b[0m\u001b[1;33m\u001b[0m\u001b[0m\n\u001b[1;32m--> 238\u001b[1;33m         \u001b[1;32mraise\u001b[0m \u001b[0mValueError\u001b[0m\u001b[1;33m(\u001b[0m\u001b[1;34m\"Invalid RGBA argument: {!r}\"\u001b[0m\u001b[1;33m.\u001b[0m\u001b[0mformat\u001b[0m\u001b[1;33m(\u001b[0m\u001b[0morig_c\u001b[0m\u001b[1;33m)\u001b[0m\u001b[1;33m)\u001b[0m\u001b[1;33m\u001b[0m\u001b[1;33m\u001b[0m\u001b[0m\n\u001b[0m\u001b[0;32m    239\u001b[0m     \u001b[1;31m# Return a tuple to prevent the cached value from being modified.\u001b[0m\u001b[1;33m\u001b[0m\u001b[1;33m\u001b[0m\u001b[1;33m\u001b[0m\u001b[0m\n\u001b[0;32m    240\u001b[0m     \u001b[0mc\u001b[0m \u001b[1;33m=\u001b[0m \u001b[0mtuple\u001b[0m\u001b[1;33m(\u001b[0m\u001b[0mc\u001b[0m\u001b[1;33m.\u001b[0m\u001b[0mastype\u001b[0m\u001b[1;33m(\u001b[0m\u001b[0mfloat\u001b[0m\u001b[1;33m)\u001b[0m\u001b[1;33m)\u001b[0m\u001b[1;33m\u001b[0m\u001b[1;33m\u001b[0m\u001b[0m\n",
      "\u001b[1;31mValueError\u001b[0m: Invalid RGBA argument: array([[0.04, 0.015, 0.02, 1.0],\n       [0.8, 0.5, 0.2, 1.0],\n       [0.04, 0.015, 0.02, 1.0],\n       [0.8, 0.5, 0.2, 1.0],\n       [0.04, 0.015, 0.02, 1.0],\n       [0.8, 0.5, 0.2, 1.0],\n       [0.04, 0.015, 0.02, 1.0],\n       [0.8, 0.5, 0.2, 1.0],\n       [0.04, 0.015, 0.02, 1.0],\n       [0.8, 0.5, 0.2, 1.0],\n       [0.04, 0.015, 0.02, 1.0],\n       [0.8, 0.5, 0.2, 1.0],\n       [0.04, 0.015, 0.02, 1.0],\n       [0.8, 0.5, 0.2, 1.0],\n       [0.04, 0.015, 0.02, 1.0],\n       [0.8, 0.5, 0.2, 1.0],\n       [0.04, 0.015, 0.02, 1.0],\n       [0.8, 0.5, 0.2, 1.0],\n       [0.04, 0.015, 0.02, 1.0],\n       [0.8, 0.5, 0.2, 1.0],\n       [0.04, 0.015, 0.02, 1.0],\n       [0.8, 0.5, 0.2, 1.0],\n       [0.04, 0.015, 0.02, 1.0],\n       [0.8, 0.5, 0.2, 1.0],\n       [0.04, 0.015, 0.02, 1.0],\n       [0.8, 0.5, 0.2, 1.0],\n       [0.04, 0.015, 0.02, 1.0],\n       [0.8, 0.5, 0.2, 1.0],\n       [0.04, 0.015, 0.02, 1.0],\n       [0.8, 0.5, 0.2, 1.0],\n       [0.04, 0.015, 0.02, 1.0],\n       [0.8, 0.5, 0.2, 1.0]], dtype=object)"
     ]
    },
    {
     "data": {
      "image/png": "[encoded data removed]",
      "text/plain": [
       "<Figure size 432x288 with 1 Axes>"
      ]
     },
     "metadata": {
      "needs_background": "light"
     },
     "output_type": "display_data"
    }
   ],
   "source": [
    "import numpy as np\n",
    "import matplotlib.pyplot as plt\n",
    "\n",
    "colorlist = np.array(\n",
    "    ([(0.04, 0.015, 0.02, 1.0)] * 1 + [(0.8, 0.5, 0.2, 1.0)] * 1) * 16, dtype=object\n",
    ")\n",
    "\n",
    "fig, ax = plt.subplots()\n",
    "y = np.ones(32)\n",
    "x = np.linspace(1,32,32)\n",
    "ax.bar(x, y, facecolor = colorlist)"
   ]
  },
  {
   "cell_type": "code",
   "execution_count": 68,
   "metadata": {},
   "outputs": [
    {
     "name": "stdout",
     "output_type": "stream",
     "text": [
      "0 0\n",
      "1 0\n",
      "2 0\n",
      "3 0\n",
      "4 0\n",
      "5 0\n",
      "6 1\n",
      "7 1\n",
      "8 1\n",
      "9 1\n",
      "10 1\n",
      "11 1\n",
      "12 0\n",
      "13 0\n",
      "14 0\n",
      "15 0\n",
      "16 0\n",
      "17 0\n",
      "18 1\n",
      "19 1\n",
      "20 1\n",
      "21 1\n",
      "22 1\n",
      "23 1\n",
      "24 0\n",
      "25 0\n",
      "26 0\n",
      "27 0\n",
      "28 0\n",
      "29 0\n",
      "30 1\n",
      "31 1\n",
      "32 1\n",
      "33 1\n",
      "34 1\n",
      "35 1\n",
      "36 0\n",
      "37 0\n",
      "38 0\n",
      "39 0\n",
      "40 0\n",
      "41 0\n",
      "42 1\n",
      "43 1\n",
      "44 1\n",
      "45 1\n",
      "46 1\n",
      "47 1\n"
     ]
    }
   ],
   "source": [
    "def myfunc(i, n=6):\n",
    "    return int(i / n % 2)\n",
    "\n",
    "for i in range(48):\n",
    "    print(i, myfunc(i, 6))"
   ]
  },
  {
   "cell_type": "code",
   "execution_count": 51,
   "metadata": {},
   "outputs": [
    {
     "data": {
      "image/png": "[encoded data removed]",
      "text/plain": [
       "<Figure size 1152x720 with 1 Axes>"
      ]
     },
     "metadata": {},
     "output_type": "display_data"
    }
   ],
   "source": [
    "startdate = dt.datetime(2021,9,6,16)\n",
    "enddate = dt.datetime(2021,9,6,19)\n",
    "plot_time(startdate, enddate);"
   ]
  },
  {
   "cell_type": "code",
   "execution_count": 81,
   "metadata": {},
   "outputs": [
    {
     "data": {
      "image/png": "[encoded data removed]",
      "text/plain": [
       "<Figure size 1152x720 with 1 Axes>"
      ]
     },
     "metadata": {
      "needs_background": "light"
     },
     "output_type": "display_data"
    }
   ],
   "source": [
    "startdate = dt.datetime(2021,8,14,7)\n",
    "enddate = dt.datetime(2021,8,14,22,30)\n",
    "plot_time(startdate, enddate);"
   ]
  },
  {
   "cell_type": "markdown",
   "metadata": {},
   "source": [
    "## Area Charts"
   ]
  },
  {
   "cell_type": "code",
   "execution_count": 100,
   "metadata": {},
   "outputs": [
    {
     "data": {
      "text/html": [
       "<div>\n",
       "<style scoped>\n",
       "    .dataframe tbody tr th:only-of-type {\n",
       "        vertical-align: middle;\n",
       "    }\n",
       "\n",
       "    .dataframe tbody tr th {\n",
       "        vertical-align: top;\n",
       "    }\n",
       "\n",
       "    .dataframe thead th {\n",
       "        text-align: right;\n",
       "    }\n",
       "</style>\n",
       "<table border=\"1\" class=\"dataframe\">\n",
       "  <thead>\n",
       "    <tr style=\"text-align: right;\">\n",
       "      <th></th>\n",
       "      <th>watt_hours</th>\n",
       "    </tr>\n",
       "    <tr>\n",
       "      <th>datetime</th>\n",
       "      <th></th>\n",
       "    </tr>\n",
       "  </thead>\n",
       "  <tbody>\n",
       "    <tr>\n",
       "      <th>2021-04-15 14:30:00</th>\n",
       "      <td>280.0</td>\n",
       "    </tr>\n",
       "    <tr>\n",
       "      <th>2021-04-15 15:00:00</th>\n",
       "      <td>186.0</td>\n",
       "    </tr>\n",
       "    <tr>\n",
       "      <th>2021-04-15 15:30:00</th>\n",
       "      <td>183.0</td>\n",
       "    </tr>\n",
       "    <tr>\n",
       "      <th>2021-04-15 16:00:00</th>\n",
       "      <td>188.0</td>\n",
       "    </tr>\n",
       "    <tr>\n",
       "      <th>2021-04-15 16:30:00</th>\n",
       "      <td>210.0</td>\n",
       "    </tr>\n",
       "    <tr>\n",
       "      <th>...</th>\n",
       "      <td>...</td>\n",
       "    </tr>\n",
       "    <tr>\n",
       "      <th>2022-03-21 10:00:00</th>\n",
       "      <td>118.0</td>\n",
       "    </tr>\n",
       "    <tr>\n",
       "      <th>2022-03-21 10:30:00</th>\n",
       "      <td>700.0</td>\n",
       "    </tr>\n",
       "    <tr>\n",
       "      <th>2022-03-21 11:00:00</th>\n",
       "      <td>579.0</td>\n",
       "    </tr>\n",
       "    <tr>\n",
       "      <th>2022-03-21 11:30:00</th>\n",
       "      <td>155.0</td>\n",
       "    </tr>\n",
       "    <tr>\n",
       "      <th>2022-03-21 12:00:00</th>\n",
       "      <td>70.0</td>\n",
       "    </tr>\n",
       "  </tbody>\n",
       "</table>\n",
       "<p>16316 rows × 1 columns</p>\n",
       "</div>"
      ],
      "text/plain": [
       "                     watt_hours\n",
       "datetime                       \n",
       "2021-04-15 14:30:00       280.0\n",
       "2021-04-15 15:00:00       186.0\n",
       "2021-04-15 15:30:00       183.0\n",
       "2021-04-15 16:00:00       188.0\n",
       "2021-04-15 16:30:00       210.0\n",
       "...                         ...\n",
       "2022-03-21 10:00:00       118.0\n",
       "2022-03-21 10:30:00       700.0\n",
       "2022-03-21 11:00:00       579.0\n",
       "2022-03-21 11:30:00       155.0\n",
       "2022-03-21 12:00:00        70.0\n",
       "\n",
       "[16316 rows x 1 columns]"
      ]
     },
     "execution_count": 100,
     "metadata": {},
     "output_type": "execute_result"
    }
   ],
   "source": [
    "df_30min"
   ]
  },
  {
   "cell_type": "code",
   "execution_count": 104,
   "metadata": {},
   "outputs": [],
   "source": [
    "def plot_profile(df):\n",
    "#     percs = [0, 5, 25, 50, 75, 95, 100]\n",
    "    percs = [0, 10, 20, 30, 40, 50, 60, 70, 80, 90, 100]\n",
    "    perclist = []\n",
    "    for perc in percs:\n",
    "        a = df.quantile(perc/100.)\n",
    "        perclist.append(a.values)\n",
    "    \n",
    "    \n",
    "    return perclist\n",
    "\n",
    "p = plot_profile(df_30min_daily)"
   ]
  },
  {
   "cell_type": "code",
   "execution_count": 105,
   "metadata": {},
   "outputs": [
    {
     "name": "stdout",
     "output_type": "stream",
     "text": [
      "[ 2  4  6  8 10 12 14 16 18 20 22 24 26 28 30 32 34 36 38 40 42 44 46 48]\n",
      "['01:00', '02:00', '03:00', '04:00', '05:00', '06:00', '07:00', '08:00', '09:00', '10:00', '11:00', '12:00', '13:00', '14:00', '15:00', '16:00', '17:00', '18:00', '19:00', '20:00', '21:00', '22:00', '23:00', '00:00']\n"
     ]
    }
   ],
   "source": [
    "ts = np.arange(1, 48, step=2)+1\n",
    "def period_to_time(period, interval=30):\n",
    "    mod = 60 // interval\n",
    "    return dt.time(((period+0) //mod)% 24,((period+0) % mod)*interval).strftime(\"%H:%M\")\n",
    "\n",
    "# ts = np.arange(0, 48, step=6)+6\n",
    "# ts = np.arange(0, 48, step=6)+2\n",
    "\n",
    "# ts = np.arange(0, 289, step=6)\n",
    "tl = [period_to_time(t, 30) for t in ts]\n",
    "print(ts)\n",
    "print(tl)"
   ]
  },
  {
   "cell_type": "code",
   "execution_count": 110,
   "metadata": {},
   "outputs": [
    {
     "data": {
      "text/plain": [
       "5"
      ]
     },
     "execution_count": 110,
     "metadata": {},
     "output_type": "execute_result"
    }
   ],
   "source": [
    "colorlist = [[0.005,0.05,.05],[0.2, 0.2, 0.2],[0.4, 0.4, 0.4],[0.6, 0.6, 0.6],[0.7, 0.7, 0.7]]\n",
    "len(colorlist)"
   ]
  },
  {
   "cell_type": "code",
   "execution_count": 111,
   "metadata": {
    "scrolled": false
   },
   "outputs": [
    {
     "data": {
      "text/plain": [
       "(0.0, 47.0)"
      ]
     },
     "execution_count": 111,
     "metadata": {},
     "output_type": "execute_result"
    },
    {
     "data": {
      "image/png": "[encoded data removed]",
      "text/plain": [
       "<Figure size 1152x864 with 1 Axes>"
      ]
     },
     "metadata": {},
     "output_type": "display_data"
    }
   ],
   "source": [
    "fig, ax = plt.subplots(figsize=(16,12))\n",
    "\n",
    "x = np.repeat(range(48+1),2)[1:-1]\n",
    "\n",
    "# Plot mean\n",
    "y = dfx.mean()\n",
    "# (p[0].repeat(2))\n",
    "line0, = ax.plot(x, y.values.repeat(2))\n",
    "\n",
    "# Plot Median\n",
    "y = p[5].repeat(2)\n",
    "line3, = ax.plot(x, y, color = 'k', lw=0.5)\n",
    "\n",
    "\n",
    "# Plot shaded area\n",
    "x = np.concatenate((x, x[::-1]))\n",
    "x\n",
    "\n",
    "\n",
    "# 0th percentile\n",
    "for i in range(len(p)-1):\n",
    "    j =abs(int(5.5-(i+1)))\n",
    "    y = np.concatenate((p[i].repeat(2), p[i+1].repeat(2)[::-1]))\n",
    "    line00, = ax.fill(x, y, alpha = 0.25, facecolor = colorlist[j], edgecolor='none', lw=0.5)\n",
    "\n",
    "# y = np.concatenate((p[1].repeat(2), p[2].repeat(2)[::-1]))\n",
    "# line10, = ax.fill(x, y, alpha = 0.25, facecolor = [0.6, 0.6, 0.6], lw=0.5)\n",
    "\n",
    "# y = np.concatenate((p[2].repeat(2), p[3].repeat(2)[::-1]))\n",
    "# line20, = ax.fill(x, y, alpha = 0.25, facecolor = [0.5, 0.5, 0.5], lw=0.5)\n",
    "\n",
    "# y = np.concatenate((p[3].repeat(2), p[4].repeat(2)[::-1]))\n",
    "# line30, = ax.fill(x, y, alpha = 0.25, facecolor = [0.4, 0.4, 0.4], lw=0.5)\n",
    "\n",
    "# y = np.concatenate((p[4].repeat(2), p[5].repeat(2)[::-1]))\n",
    "# line40, = ax.fill(x, y, alpha = 0.25, facecolor = [0.3, 0.3, 0.3], lw=0.5)\n",
    "\n",
    "# y = np.concatenate((p[5].repeat(2), p[6].repeat(2)[::-1]))\n",
    "# line8, = ax.fill(x, y, alpha = 0.25, facecolor = [0.75, 0.75, 0.75], lw=0.5)\n",
    "\n",
    "# y = np.concatenate((p[6].repeat(2), p[7].repeat(2)[::-1]))\n",
    "# line9, = ax.fill(x, y, alpha = 0.25, facecolor = [0.75, 0.75, 0.75], lw=0.5)\n",
    "\n",
    "# y = np.concatenate((p[7].repeat(2), p[8].repeat(2)[::-1]))\n",
    "# line10, = ax.fill(x, y, alpha = 0.25, facecolor = [0.75, 0.75, 0.75], lw=0.5)\n",
    "\n",
    "# ax.legend((line0, line1, line2, line3, line4, line5, line6, line7, line8), ('Mean','Max', 'Rolling Peak Day','Median', '50-75th per', '75-95th per', '95th-Max per'))\n",
    "\n",
    "# ax.grid('On')\n",
    "ax.set_xlim([1,48])\n",
    "# ax.set_ylim(bottom=0)\n",
    "# ax.set_ylim([0,1])\n",
    "ax.set_ylabel('kWh')\n",
    "ax.set_xlabel('Period')\n",
    "\n",
    "\n",
    "# for t in nt:\n",
    "#     ax.axvspan(t[0], t[1], alpha=0.1, facecolor = '0.65', edgecolor = '0.65')\n",
    "\n",
    "# ax.axvline(34, color='r',linestyle = ':')\n",
    "# ax.axvline(42, color='r',linestyle = ':')\n",
    "\n",
    "\n",
    "# mv = dplot['Average'].iloc[14:44].mean()\n",
    "# xs = np.arange(14,46)\n",
    "# ys = np.ones(32)*mv\n",
    "# ax.plot(xs,ys)\n",
    "\n",
    "# djm.plot(ax=ax, colormap='spring')\n",
    "\n",
    "# drm.plot(ax=ax, colormap='binary')\n",
    "\n",
    "ax.set_xticks(ts);\n",
    "ax.set_xticklabels([period_to_time(t) for t in ts])\n",
    "ax.xaxis.grid('On')\n",
    "ax.set_xlim([0,47])\n",
    "# print mv\n",
    "# ax.axhline(mv)\n",
    "\n",
    "# plot_profile(dfx)"
   ]
  },
  {
   "cell_type": "code",
   "execution_count": 76,
   "metadata": {
    "scrolled": false
   },
   "outputs": [
    {
     "name": "stderr",
     "output_type": "stream",
     "text": [
      "C:\\ProgramData\\Anaconda3\\lib\\site-packages\\matplotlib\\cbook\\__init__.py:1402: FutureWarning: Support for multi-dimensional indexing (e.g. `obj[:, None]`) is deprecated and will be removed in a future version.  Convert to a numpy array before indexing instead.\n",
      "  x[:, None]\n"
     ]
    },
    {
     "ename": "ValueError",
     "evalue": "x and y must have same first dimension, but have shapes (96,) and (48,)",
     "output_type": "error",
     "traceback": [
      "\u001b[1;31m---------------------------------------------------------------------------\u001b[0m",
      "\u001b[1;31mValueError\u001b[0m                                Traceback (most recent call last)",
      "\u001b[1;32m<ipython-input-76-ef065db212a1>\u001b[0m in \u001b[0;36m<module>\u001b[1;34m\u001b[0m\n\u001b[0;32m     12\u001b[0m \u001b[1;31m# Plot mean\u001b[0m\u001b[1;33m\u001b[0m\u001b[1;33m\u001b[0m\u001b[1;33m\u001b[0m\u001b[0m\n\u001b[0;32m     13\u001b[0m \u001b[0my\u001b[0m \u001b[1;33m=\u001b[0m \u001b[0mdfx\u001b[0m\u001b[1;33m.\u001b[0m\u001b[0mmean\u001b[0m\u001b[1;33m(\u001b[0m\u001b[1;33m)\u001b[0m\u001b[1;33m\u001b[0m\u001b[1;33m\u001b[0m\u001b[0m\n\u001b[1;32m---> 14\u001b[1;33m \u001b[0mline0\u001b[0m\u001b[1;33m,\u001b[0m \u001b[1;33m=\u001b[0m \u001b[0max\u001b[0m\u001b[1;33m.\u001b[0m\u001b[0mplot\u001b[0m\u001b[1;33m(\u001b[0m\u001b[0mx\u001b[0m\u001b[1;33m,\u001b[0m \u001b[0my\u001b[0m\u001b[1;33m)\u001b[0m\u001b[1;33m\u001b[0m\u001b[1;33m\u001b[0m\u001b[0m\n\u001b[0m\u001b[0;32m     15\u001b[0m \u001b[1;33m\u001b[0m\u001b[0m\n\u001b[0;32m     16\u001b[0m \u001b[1;33m\u001b[0m\u001b[0m\n",
      "\u001b[1;32mC:\\ProgramData\\Anaconda3\\lib\\site-packages\\matplotlib\\axes\\_axes.py\u001b[0m in \u001b[0;36mplot\u001b[1;34m(self, scalex, scaley, data, *args, **kwargs)\u001b[0m\n\u001b[0;32m   1664\u001b[0m         \"\"\"\n\u001b[0;32m   1665\u001b[0m         \u001b[0mkwargs\u001b[0m \u001b[1;33m=\u001b[0m \u001b[0mcbook\u001b[0m\u001b[1;33m.\u001b[0m\u001b[0mnormalize_kwargs\u001b[0m\u001b[1;33m(\u001b[0m\u001b[0mkwargs\u001b[0m\u001b[1;33m,\u001b[0m \u001b[0mmlines\u001b[0m\u001b[1;33m.\u001b[0m\u001b[0mLine2D\u001b[0m\u001b[1;33m.\u001b[0m\u001b[0m_alias_map\u001b[0m\u001b[1;33m)\u001b[0m\u001b[1;33m\u001b[0m\u001b[1;33m\u001b[0m\u001b[0m\n\u001b[1;32m-> 1666\u001b[1;33m         \u001b[0mlines\u001b[0m \u001b[1;33m=\u001b[0m \u001b[1;33m[\u001b[0m\u001b[1;33m*\u001b[0m\u001b[0mself\u001b[0m\u001b[1;33m.\u001b[0m\u001b[0m_get_lines\u001b[0m\u001b[1;33m(\u001b[0m\u001b[1;33m*\u001b[0m\u001b[0margs\u001b[0m\u001b[1;33m,\u001b[0m \u001b[0mdata\u001b[0m\u001b[1;33m=\u001b[0m\u001b[0mdata\u001b[0m\u001b[1;33m,\u001b[0m \u001b[1;33m**\u001b[0m\u001b[0mkwargs\u001b[0m\u001b[1;33m)\u001b[0m\u001b[1;33m]\u001b[0m\u001b[1;33m\u001b[0m\u001b[1;33m\u001b[0m\u001b[0m\n\u001b[0m\u001b[0;32m   1667\u001b[0m         \u001b[1;32mfor\u001b[0m \u001b[0mline\u001b[0m \u001b[1;32min\u001b[0m \u001b[0mlines\u001b[0m\u001b[1;33m:\u001b[0m\u001b[1;33m\u001b[0m\u001b[1;33m\u001b[0m\u001b[0m\n\u001b[0;32m   1668\u001b[0m             \u001b[0mself\u001b[0m\u001b[1;33m.\u001b[0m\u001b[0madd_line\u001b[0m\u001b[1;33m(\u001b[0m\u001b[0mline\u001b[0m\u001b[1;33m)\u001b[0m\u001b[1;33m\u001b[0m\u001b[1;33m\u001b[0m\u001b[0m\n",
      "\u001b[1;32mC:\\ProgramData\\Anaconda3\\lib\\site-packages\\matplotlib\\axes\\_base.py\u001b[0m in \u001b[0;36m__call__\u001b[1;34m(self, *args, **kwargs)\u001b[0m\n\u001b[0;32m    223\u001b[0m                 \u001b[0mthis\u001b[0m \u001b[1;33m+=\u001b[0m \u001b[0margs\u001b[0m\u001b[1;33m[\u001b[0m\u001b[1;36m0\u001b[0m\u001b[1;33m]\u001b[0m\u001b[1;33m,\u001b[0m\u001b[1;33m\u001b[0m\u001b[1;33m\u001b[0m\u001b[0m\n\u001b[0;32m    224\u001b[0m                 \u001b[0margs\u001b[0m \u001b[1;33m=\u001b[0m \u001b[0margs\u001b[0m\u001b[1;33m[\u001b[0m\u001b[1;36m1\u001b[0m\u001b[1;33m:\u001b[0m\u001b[1;33m]\u001b[0m\u001b[1;33m\u001b[0m\u001b[1;33m\u001b[0m\u001b[0m\n\u001b[1;32m--> 225\u001b[1;33m             \u001b[1;32myield\u001b[0m \u001b[1;32mfrom\u001b[0m \u001b[0mself\u001b[0m\u001b[1;33m.\u001b[0m\u001b[0m_plot_args\u001b[0m\u001b[1;33m(\u001b[0m\u001b[0mthis\u001b[0m\u001b[1;33m,\u001b[0m \u001b[0mkwargs\u001b[0m\u001b[1;33m)\u001b[0m\u001b[1;33m\u001b[0m\u001b[1;33m\u001b[0m\u001b[0m\n\u001b[0m\u001b[0;32m    226\u001b[0m \u001b[1;33m\u001b[0m\u001b[0m\n\u001b[0;32m    227\u001b[0m     \u001b[1;32mdef\u001b[0m \u001b[0mget_next_color\u001b[0m\u001b[1;33m(\u001b[0m\u001b[0mself\u001b[0m\u001b[1;33m)\u001b[0m\u001b[1;33m:\u001b[0m\u001b[1;33m\u001b[0m\u001b[1;33m\u001b[0m\u001b[0m\n",
      "\u001b[1;32mC:\\ProgramData\\Anaconda3\\lib\\site-packages\\matplotlib\\axes\\_base.py\u001b[0m in \u001b[0;36m_plot_args\u001b[1;34m(self, tup, kwargs)\u001b[0m\n\u001b[0;32m    389\u001b[0m             \u001b[0mx\u001b[0m\u001b[1;33m,\u001b[0m \u001b[0my\u001b[0m \u001b[1;33m=\u001b[0m \u001b[0mindex_of\u001b[0m\u001b[1;33m(\u001b[0m\u001b[0mtup\u001b[0m\u001b[1;33m[\u001b[0m\u001b[1;33m-\u001b[0m\u001b[1;36m1\u001b[0m\u001b[1;33m]\u001b[0m\u001b[1;33m)\u001b[0m\u001b[1;33m\u001b[0m\u001b[1;33m\u001b[0m\u001b[0m\n\u001b[0;32m    390\u001b[0m \u001b[1;33m\u001b[0m\u001b[0m\n\u001b[1;32m--> 391\u001b[1;33m         \u001b[0mx\u001b[0m\u001b[1;33m,\u001b[0m \u001b[0my\u001b[0m \u001b[1;33m=\u001b[0m \u001b[0mself\u001b[0m\u001b[1;33m.\u001b[0m\u001b[0m_xy_from_xy\u001b[0m\u001b[1;33m(\u001b[0m\u001b[0mx\u001b[0m\u001b[1;33m,\u001b[0m \u001b[0my\u001b[0m\u001b[1;33m)\u001b[0m\u001b[1;33m\u001b[0m\u001b[1;33m\u001b[0m\u001b[0m\n\u001b[0m\u001b[0;32m    392\u001b[0m \u001b[1;33m\u001b[0m\u001b[0m\n\u001b[0;32m    393\u001b[0m         \u001b[1;32mif\u001b[0m \u001b[0mself\u001b[0m\u001b[1;33m.\u001b[0m\u001b[0mcommand\u001b[0m \u001b[1;33m==\u001b[0m \u001b[1;34m'plot'\u001b[0m\u001b[1;33m:\u001b[0m\u001b[1;33m\u001b[0m\u001b[1;33m\u001b[0m\u001b[0m\n",
      "\u001b[1;32mC:\\ProgramData\\Anaconda3\\lib\\site-packages\\matplotlib\\axes\\_base.py\u001b[0m in \u001b[0;36m_xy_from_xy\u001b[1;34m(self, x, y)\u001b[0m\n\u001b[0;32m    268\u001b[0m         \u001b[1;32mif\u001b[0m \u001b[0mx\u001b[0m\u001b[1;33m.\u001b[0m\u001b[0mshape\u001b[0m\u001b[1;33m[\u001b[0m\u001b[1;36m0\u001b[0m\u001b[1;33m]\u001b[0m \u001b[1;33m!=\u001b[0m \u001b[0my\u001b[0m\u001b[1;33m.\u001b[0m\u001b[0mshape\u001b[0m\u001b[1;33m[\u001b[0m\u001b[1;36m0\u001b[0m\u001b[1;33m]\u001b[0m\u001b[1;33m:\u001b[0m\u001b[1;33m\u001b[0m\u001b[1;33m\u001b[0m\u001b[0m\n\u001b[0;32m    269\u001b[0m             raise ValueError(\"x and y must have same first dimension, but \"\n\u001b[1;32m--> 270\u001b[1;33m                              \"have shapes {} and {}\".format(x.shape, y.shape))\n\u001b[0m\u001b[0;32m    271\u001b[0m         \u001b[1;32mif\u001b[0m \u001b[0mx\u001b[0m\u001b[1;33m.\u001b[0m\u001b[0mndim\u001b[0m \u001b[1;33m>\u001b[0m \u001b[1;36m2\u001b[0m \u001b[1;32mor\u001b[0m \u001b[0my\u001b[0m\u001b[1;33m.\u001b[0m\u001b[0mndim\u001b[0m \u001b[1;33m>\u001b[0m \u001b[1;36m2\u001b[0m\u001b[1;33m:\u001b[0m\u001b[1;33m\u001b[0m\u001b[1;33m\u001b[0m\u001b[0m\n\u001b[0;32m    272\u001b[0m             raise ValueError(\"x and y can be no greater than 2-D, but have \"\n",
      "\u001b[1;31mValueError\u001b[0m: x and y must have same first dimension, but have shapes (96,) and (48,)"
     ]
    },
    {
     "data": {
      "image/png": "[encoded data removed]",
      "text/plain": [
       "<Figure size 1152x864 with 1 Axes>"
      ]
     },
     "metadata": {
      "needs_background": "light"
     },
     "output_type": "display_data"
    }
   ],
   "source": [
    "fig, ax = plt.subplots(figsize=(16,12))\n",
    "\n",
    "# def plot_profile(ax, dfx, month, daytype):\n",
    "\n",
    "x = np.arange(48) + 1\n",
    "\n",
    "x = np.repeat(range(48+1),2)[1:-1]\n",
    "# x = dplot.index\n",
    "\n",
    "# dcf.T.plot(ax = ax, legend=None, colormap='Purples')\n",
    "\n",
    "# Plot mean\n",
    "y = dfx.mean()\n",
    "line0, = ax.plot(x, y)\n",
    "\n",
    "\n",
    "# # Plot Max\n",
    "# y = dplot['Maximum']\n",
    "# line1, = ax.plot(x, y)\n",
    "\n",
    "# # Plot Rolling 7.5hh avg\n",
    "# y = dplot['RollingCons']\n",
    "# line2, = ax.plot(x, y)\n",
    "\n",
    "# Plot Median\n",
    "y = p[3]\n",
    "line3, = ax.plot(x, y, color = [0.5,0.5,0.5])\n",
    "\n",
    "\n",
    "# Plot shaded area\n",
    "x = np.concatenate((x, x[::-1]))\n",
    "x\n",
    "\n",
    "\n",
    "# 0th percentile\n",
    "y = np.concatenate((p[0], p[1][::-1]))\n",
    "line4, = ax.fill(x, y, alpha = 0.25, facecolor = [0.75, 0.75, 0.75], lw=0.5)\n",
    "\n",
    "y = np.concatenate((p[1], p[2][::-1]))\n",
    "line4, = ax.fill(x, y, alpha = 0.25, facecolor = [0.5, 0.5, 0.5], lw=0.5)\n",
    "\n",
    "y = np.concatenate((p[2], p[3][::-1]))\n",
    "line5, = ax.fill(x, y, alpha = 0.25, facecolor = [0.25, 0.25, 0.25], lw=0.5)\n",
    "\n",
    "y = np.concatenate((p[3], p[4][::-1]))\n",
    "line6, = ax.fill(x, y, alpha = 0.25, facecolor = [0.25, 0.25, 0.25], lw=0.5)\n",
    "\n",
    "y = np.concatenate((p[4], p[5][::-1]))\n",
    "line7, = ax.fill(x, y, alpha = 0.25, facecolor = [0.5, 0.5, 0.5], lw=0.5)\n",
    "\n",
    "y = np.concatenate((p[5], p[6][::-1]))\n",
    "line8, = ax.fill(x, y, alpha = 0.25, facecolor = [0.75, 0.75, 0.75], lw=0.5)\n",
    "\n",
    "# ax.legend((line0, line1, line2, line3, line4, line5, line6, line7, line8), ('Mean','Max', 'Rolling Peak Day','Median', '50-75th per', '75-95th per', '95th-Max per'))\n",
    "\n",
    "# ax.grid('On')\n",
    "ax.set_xlim([1,48])\n",
    "# ax.set_ylim(bottom=0)\n",
    "# ax.set_ylim([0,1])\n",
    "ax.set_ylabel('kWh')\n",
    "ax.set_xlabel('Period')\n",
    "\n",
    "\n",
    "# for t in nt:\n",
    "#     ax.axvspan(t[0], t[1], alpha=0.1, facecolor = '0.65', edgecolor = '0.65')\n",
    "\n",
    "# ax.axvline(34, color='r',linestyle = ':')\n",
    "# ax.axvline(42, color='r',linestyle = ':')\n",
    "\n",
    "\n",
    "# mv = dplot['Average'].iloc[14:44].mean()\n",
    "# xs = np.arange(14,46)\n",
    "# ys = np.ones(32)*mv\n",
    "# ax.plot(xs,ys)\n",
    "\n",
    "# djm.plot(ax=ax, colormap='spring')\n",
    "\n",
    "# drm.plot(ax=ax, colormap='binary')\n",
    "\n",
    "# ax.set_xticks(ts)\n",
    "# ax.set_xticklabels([period_to_time(t) for t in ts])\n",
    "# ax.xaxis.grid('On')\n",
    "\n",
    "# print mv\n",
    "# ax.axhline(mv)\n",
    "\n",
    "# plot_profile(dfx)"
   ]
  },
  {
   "cell_type": "code",
   "execution_count": 25,
   "metadata": {
    "scrolled": false
   },
   "outputs": [
    {
     "data": {
      "image/png": "[encoded data removed]",
      "text/plain": [
       "<Figure size 1152x864 with 1 Axes>"
      ]
     },
     "metadata": {
      "needs_background": "light"
     },
     "output_type": "display_data"
    }
   ],
   "source": [
    "from matplotlib.dates import MinuteLocator, DateFormatter\n",
    "from matplotlib.ticker import (MultipleLocator, AutoMinorLocator, NullFormatter)\n",
    "\n",
    "fig, ax = plt.subplots(figsize=(16,12))\n",
    "\n",
    "plot_area(df_30min.loc['2021-05-01':].watt_hours)\n",
    "# x30, y30 = repeat_values(df_30min.loc['2021-05-01':].watt_hours)\n",
    "# ax.plot(x30,y30, color='k', linewidth = 1)\n",
    "# ax.fill_between(x, y, alpha=0.4, facecolor = 'grey')\n",
    "\n",
    "# x5, y5 = repeat_values(df_5min.loc['2021-05-01':].watt_hours)\n",
    "# ax.plot(xl, y5, color='b', linewidth = 1)\n",
    "\n",
    "# x5, y5 = repeat_values(df_5min.loc['2021-05-01':].watt_hours)\n",
    "# ax.plot(xl, y5, color='r', linewidth = 1)\n",
    "\n",
    "\n",
    "\n",
    "x, y = repeat_values(df.loc['2021-05-01':].watt_hours)\n",
    "# ax.plot(x,y, linewidth = 1, color='green')\n",
    "# ax.fill_between(x, y, alpha=0.4, facecolor = 'red')\n",
    "\n",
    "# ax.fill_between(x, y, y>y30, alpha=0.4, facecolor = 'grey')\n",
    "\n",
    "\n",
    "ax.set_xticks(ts)\n",
    "ax.set_xticklabels(tl)\n",
    "\n",
    "# majorLoc = MinuteLocator(byminute=np.arange(0,60,30))\n",
    "# minorLoc = MinuteLocator(byminute=np.arange(0,60,5))\n",
    "# ax.xaxis.set_major_locator(majorLoc)\n",
    "# ax.xaxis.set_minor_locator(minorLoc)\n",
    "\n",
    "# ax.xaxis.set_major_locator(MultipleLocator(6))\n",
    "ax.xaxis.set_minor_locator(MultipleLocator(1))\n",
    "ax.xaxis.set_minor_formatter(NullFormatter())\n",
    "\n",
    "ax.yaxis.set_minor_locator(MultipleLocator(60))\n",
    "\n",
    "ax.yaxis.set_minor_formatter(NullFormatter())\n",
    "\n",
    "# ax.xaxis.set_major_formatter(DateFormatter('%H:%M'))\n",
    "# ax.xaxis.set_minor_formatter(DateFormatter('%H:%M'))\n",
    "ax.grid(b=True, which='minor', color='w', linewidth=0.5)\n",
    "\n",
    "period_to_time(period, interval=30)\n",
    "\n",
    "ax.set_ylim(bottom=0)\n",
    "ax.autoscale(axis='x', tight=True)\n",
    "plt.xticks(rotation = 90, ha='center');\n",
    "\n",
    "# )ax.set_xlim(pd.Timestamp('2021-04-19 14:00'), pd.Timestamp('2021-04-19 22:00')\n",
    "# ax.set_xlim(192,204+6*6)"
   ]
  },
  {
   "cell_type": "code",
   "execution_count": 27,
   "metadata": {},
   "outputs": [
    {
     "data": {
      "text/html": [
       "<div>\n",
       "<style scoped>\n",
       "    .dataframe tbody tr th:only-of-type {\n",
       "        vertical-align: middle;\n",
       "    }\n",
       "\n",
       "    .dataframe tbody tr th {\n",
       "        vertical-align: top;\n",
       "    }\n",
       "\n",
       "    .dataframe thead th {\n",
       "        text-align: right;\n",
       "    }\n",
       "</style>\n",
       "<table border=\"1\" class=\"dataframe\">\n",
       "  <thead>\n",
       "    <tr style=\"text-align: right;\">\n",
       "      <th></th>\n",
       "      <th>watt_hours</th>\n",
       "      <th>cost_dollars</th>\n",
       "      <th>is_peak</th>\n",
       "    </tr>\n",
       "    <tr>\n",
       "      <th>datetime</th>\n",
       "      <th></th>\n",
       "      <th></th>\n",
       "      <th></th>\n",
       "    </tr>\n",
       "  </thead>\n",
       "  <tbody>\n",
       "    <tr>\n",
       "      <th>2021-04-19 17:00:00</th>\n",
       "      <td>40</td>\n",
       "      <td>0.012165</td>\n",
       "      <td>False</td>\n",
       "    </tr>\n",
       "    <tr>\n",
       "      <th>2021-04-19 17:05:00</th>\n",
       "      <td>41</td>\n",
       "      <td>0.012165</td>\n",
       "      <td>False</td>\n",
       "    </tr>\n",
       "    <tr>\n",
       "      <th>2021-04-19 17:10:00</th>\n",
       "      <td>115</td>\n",
       "      <td>0.030830</td>\n",
       "      <td>False</td>\n",
       "    </tr>\n",
       "    <tr>\n",
       "      <th>2021-04-19 17:15:00</th>\n",
       "      <td>86</td>\n",
       "      <td>0.023675</td>\n",
       "      <td>False</td>\n",
       "    </tr>\n",
       "    <tr>\n",
       "      <th>2021-04-19 17:20:00</th>\n",
       "      <td>43</td>\n",
       "      <td>0.012788</td>\n",
       "      <td>False</td>\n",
       "    </tr>\n",
       "    <tr>\n",
       "      <th>2021-04-19 17:25:00</th>\n",
       "      <td>298</td>\n",
       "      <td>0.076559</td>\n",
       "      <td>False</td>\n",
       "    </tr>\n",
       "  </tbody>\n",
       "</table>\n",
       "</div>"
      ],
      "text/plain": [
       "                     watt_hours  cost_dollars  is_peak\n",
       "datetime                                              \n",
       "2021-04-19 17:00:00          40      0.012165    False\n",
       "2021-04-19 17:05:00          41      0.012165    False\n",
       "2021-04-19 17:10:00         115      0.030830    False\n",
       "2021-04-19 17:15:00          86      0.023675    False\n",
       "2021-04-19 17:20:00          43      0.012788    False\n",
       "2021-04-19 17:25:00         298      0.076559    False"
      ]
     },
     "execution_count": 27,
     "metadata": {},
     "output_type": "execute_result"
    }
   ],
   "source": [
    "df_5min['2021-04-19 17:00':'2021-04-19 17:25']"
   ]
  },
  {
   "cell_type": "raw",
   "metadata": {},
   "source": [
    "df_30min.loc['2021-04-18'].watt_hours.values"
   ]
  },
  {
   "cell_type": "code",
   "execution_count": 28,
   "metadata": {},
   "outputs": [
    {
     "name": "stdout",
     "output_type": "stream",
     "text": [
      "2021-04-19T00:00:00.000000000\n"
     ]
    }
   ],
   "source": [
    "x = df_30min.loc['2021-04-18'].index.values\n",
    "# x = x.repeat(2)[1:]\n",
    "print(x[-1]+ np.timedelta64(30, 'm'))"
   ]
  },
  {
   "cell_type": "code",
   "execution_count": 29,
   "metadata": {},
   "outputs": [
    {
     "name": "stdout",
     "output_type": "stream",
     "text": [
      "48\n",
      "96\n"
     ]
    }
   ],
   "source": [
    "data_ary = df_30min.loc['2021-04-18'].watt_hours.values\n",
    "print(len(data_ary))\n",
    "y = data_ary.repeat(2)\n",
    "print(len(y))"
   ]
  },
  {
   "cell_type": "code",
   "execution_count": 19,
   "metadata": {},
   "outputs": [
    {
     "data": {
      "text/html": [
       "<div>\n",
       "<style scoped>\n",
       "    .dataframe tbody tr th:only-of-type {\n",
       "        vertical-align: middle;\n",
       "    }\n",
       "\n",
       "    .dataframe tbody tr th {\n",
       "        vertical-align: top;\n",
       "    }\n",
       "\n",
       "    .dataframe thead th {\n",
       "        text-align: right;\n",
       "    }\n",
       "</style>\n",
       "<table border=\"1\" class=\"dataframe\">\n",
       "  <thead>\n",
       "    <tr style=\"text-align: right;\">\n",
       "      <th></th>\n",
       "      <th>watt_hours</th>\n",
       "      <th>cost_dollars</th>\n",
       "    </tr>\n",
       "    <tr>\n",
       "      <th>datetime</th>\n",
       "      <th></th>\n",
       "      <th></th>\n",
       "    </tr>\n",
       "  </thead>\n",
       "  <tbody>\n",
       "    <tr>\n",
       "      <th>2021-04-15 14:30:00</th>\n",
       "      <td>280.0</td>\n",
       "      <td>0.082098</td>\n",
       "    </tr>\n",
       "    <tr>\n",
       "      <th>2021-04-15 15:00:00</th>\n",
       "      <td>186.0</td>\n",
       "      <td>0.060549</td>\n",
       "    </tr>\n",
       "    <tr>\n",
       "      <th>2021-04-15 15:30:00</th>\n",
       "      <td>183.0</td>\n",
       "      <td>0.059927</td>\n",
       "    </tr>\n",
       "    <tr>\n",
       "      <th>2021-04-15 16:00:00</th>\n",
       "      <td>188.0</td>\n",
       "      <td>0.061794</td>\n",
       "    </tr>\n",
       "    <tr>\n",
       "      <th>2021-04-15 16:30:00</th>\n",
       "      <td>210.0</td>\n",
       "      <td>0.066149</td>\n",
       "    </tr>\n",
       "    <tr>\n",
       "      <th>...</th>\n",
       "      <td>...</td>\n",
       "      <td>...</td>\n",
       "    </tr>\n",
       "    <tr>\n",
       "      <th>2021-09-07 13:30:00</th>\n",
       "      <td>349.0</td>\n",
       "      <td>0.101923</td>\n",
       "    </tr>\n",
       "    <tr>\n",
       "      <th>2021-09-07 14:00:00</th>\n",
       "      <td>135.0</td>\n",
       "      <td>0.047795</td>\n",
       "    </tr>\n",
       "    <tr>\n",
       "      <th>2021-09-07 14:30:00</th>\n",
       "      <td>616.0</td>\n",
       "      <td>0.167561</td>\n",
       "    </tr>\n",
       "    <tr>\n",
       "      <th>2021-09-07 15:00:00</th>\n",
       "      <td>283.0</td>\n",
       "      <td>0.084814</td>\n",
       "    </tr>\n",
       "    <tr>\n",
       "      <th>2021-09-07 15:30:00</th>\n",
       "      <td>57.0</td>\n",
       "      <td>0.018849</td>\n",
       "    </tr>\n",
       "  </tbody>\n",
       "</table>\n",
       "<p>6963 rows × 2 columns</p>\n",
       "</div>"
      ],
      "text/plain": [
       "                     watt_hours  cost_dollars\n",
       "datetime                                     \n",
       "2021-04-15 14:30:00       280.0      0.082098\n",
       "2021-04-15 15:00:00       186.0      0.060549\n",
       "2021-04-15 15:30:00       183.0      0.059927\n",
       "2021-04-15 16:00:00       188.0      0.061794\n",
       "2021-04-15 16:30:00       210.0      0.066149\n",
       "...                         ...           ...\n",
       "2021-09-07 13:30:00       349.0      0.101923\n",
       "2021-09-07 14:00:00       135.0      0.047795\n",
       "2021-09-07 14:30:00       616.0      0.167561\n",
       "2021-09-07 15:00:00       283.0      0.084814\n",
       "2021-09-07 15:30:00        57.0      0.018849\n",
       "\n",
       "[6963 rows x 2 columns]"
      ]
     },
     "execution_count": 19,
     "metadata": {},
     "output_type": "execute_result"
    }
   ],
   "source": [
    "def transpose_df(df):\n",
    "    dff = df.copy()\n",
    "    dff['Interval'] = df.index"
   ]
  },
  {
   "cell_type": "code",
   "execution_count": 11,
   "metadata": {},
   "outputs": [
    {
     "data": {
      "text/html": [
       "<div>\n",
       "<style scoped>\n",
       "    .dataframe tbody tr th:only-of-type {\n",
       "        vertical-align: middle;\n",
       "    }\n",
       "\n",
       "    .dataframe tbody tr th {\n",
       "        vertical-align: top;\n",
       "    }\n",
       "\n",
       "    .dataframe thead th {\n",
       "        text-align: right;\n",
       "    }\n",
       "</style>\n",
       "<table border=\"1\" class=\"dataframe\">\n",
       "  <thead>\n",
       "    <tr style=\"text-align: right;\">\n",
       "      <th></th>\n",
       "      <th>watt_hours</th>\n",
       "      <th>cost_dollars</th>\n",
       "    </tr>\n",
       "    <tr>\n",
       "      <th>datetime</th>\n",
       "      <th></th>\n",
       "      <th></th>\n",
       "    </tr>\n",
       "  </thead>\n",
       "  <tbody>\n",
       "    <tr>\n",
       "      <th>2021-04-15 14:30:00</th>\n",
       "      <td>280.0</td>\n",
       "      <td>0.082098</td>\n",
       "    </tr>\n",
       "    <tr>\n",
       "      <th>2021-04-15 15:00:00</th>\n",
       "      <td>186.0</td>\n",
       "      <td>0.060549</td>\n",
       "    </tr>\n",
       "    <tr>\n",
       "      <th>2021-04-15 15:30:00</th>\n",
       "      <td>183.0</td>\n",
       "      <td>0.059927</td>\n",
       "    </tr>\n",
       "    <tr>\n",
       "      <th>2021-04-15 16:00:00</th>\n",
       "      <td>188.0</td>\n",
       "      <td>0.061794</td>\n",
       "    </tr>\n",
       "    <tr>\n",
       "      <th>2021-04-15 16:30:00</th>\n",
       "      <td>210.0</td>\n",
       "      <td>0.066149</td>\n",
       "    </tr>\n",
       "    <tr>\n",
       "      <th>...</th>\n",
       "      <td>...</td>\n",
       "      <td>...</td>\n",
       "    </tr>\n",
       "    <tr>\n",
       "      <th>2021-09-07 13:30:00</th>\n",
       "      <td>349.0</td>\n",
       "      <td>0.101923</td>\n",
       "    </tr>\n",
       "    <tr>\n",
       "      <th>2021-09-07 14:00:00</th>\n",
       "      <td>135.0</td>\n",
       "      <td>0.047795</td>\n",
       "    </tr>\n",
       "    <tr>\n",
       "      <th>2021-09-07 14:30:00</th>\n",
       "      <td>616.0</td>\n",
       "      <td>0.167561</td>\n",
       "    </tr>\n",
       "    <tr>\n",
       "      <th>2021-09-07 15:00:00</th>\n",
       "      <td>283.0</td>\n",
       "      <td>0.084814</td>\n",
       "    </tr>\n",
       "    <tr>\n",
       "      <th>2021-09-07 15:30:00</th>\n",
       "      <td>57.0</td>\n",
       "      <td>0.018849</td>\n",
       "    </tr>\n",
       "  </tbody>\n",
       "</table>\n",
       "<p>6963 rows × 2 columns</p>\n",
       "</div>"
      ],
      "text/plain": [
       "                     watt_hours  cost_dollars\n",
       "datetime                                     \n",
       "2021-04-15 14:30:00       280.0      0.082098\n",
       "2021-04-15 15:00:00       186.0      0.060549\n",
       "2021-04-15 15:30:00       183.0      0.059927\n",
       "2021-04-15 16:00:00       188.0      0.061794\n",
       "2021-04-15 16:30:00       210.0      0.066149\n",
       "...                         ...           ...\n",
       "2021-09-07 13:30:00       349.0      0.101923\n",
       "2021-09-07 14:00:00       135.0      0.047795\n",
       "2021-09-07 14:30:00       616.0      0.167561\n",
       "2021-09-07 15:00:00       283.0      0.084814\n",
       "2021-09-07 15:30:00        57.0      0.018849\n",
       "\n",
       "[6963 rows x 2 columns]"
      ]
     },
     "execution_count": 11,
     "metadata": {},
     "output_type": "execute_result"
    }
   ],
   "source": [
    "df_30min"
   ]
  },
  {
   "cell_type": "code",
   "execution_count": 80,
   "metadata": {},
   "outputs": [],
   "source": [
    "ts = np.arange(0, 48, step=6)+6\n",
    "ts = np.arange(0, 48, step=6)+2\n",
    "\n",
    "ts = np.arange(0, 48, step=6)+2\n",
    "def period_to_time(period):\n",
    "    return dt.time((period //2) % 24,(period % 2)*30).strftime(\"%H:%M\")\n",
    "tl = [period_to_time(t) for t in ts]\n",
    "\n",
    "# (47 / 2)"
   ]
  },
  {
   "cell_type": "code",
   "execution_count": 34,
   "metadata": {},
   "outputs": [
    {
     "data": {
      "text/plain": [
       "30"
      ]
     },
     "execution_count": 34,
     "metadata": {},
     "output_type": "execute_result"
    }
   ],
   "source": [
    "period = 5\n",
    "(period //2) % 24\n",
    "(period % 2)*30"
   ]
  },
  {
   "cell_type": "code",
   "execution_count": 35,
   "metadata": {},
   "outputs": [
    {
     "data": {
      "text/plain": [
       "['01:00', '04:00', '07:00', '10:00', '13:00', '16:00', '19:00', '22:00']"
      ]
     },
     "execution_count": 35,
     "metadata": {},
     "output_type": "execute_result"
    }
   ],
   "source": [
    "def period_to_time(period):\n",
    "    return dt.time((period //2) % 24,(period % 2)*30).strftime(\"%H:%M\")\n",
    "\n",
    "[period_to_time(t) for t in ts]"
   ]
  },
  {
   "cell_type": "code",
   "execution_count": 38,
   "metadata": {},
   "outputs": [
    {
     "data": {
      "text/html": [
       "<div>\n",
       "<style scoped>\n",
       "    .dataframe tbody tr th:only-of-type {\n",
       "        vertical-align: middle;\n",
       "    }\n",
       "\n",
       "    .dataframe tbody tr th {\n",
       "        vertical-align: top;\n",
       "    }\n",
       "\n",
       "    .dataframe thead th {\n",
       "        text-align: right;\n",
       "    }\n",
       "</style>\n",
       "<table border=\"1\" class=\"dataframe\">\n",
       "  <thead>\n",
       "    <tr style=\"text-align: right;\">\n",
       "      <th></th>\n",
       "      <th>1</th>\n",
       "      <th>2</th>\n",
       "      <th>3</th>\n",
       "      <th>4</th>\n",
       "      <th>5</th>\n",
       "      <th>6</th>\n",
       "      <th>7</th>\n",
       "      <th>8</th>\n",
       "      <th>9</th>\n",
       "      <th>10</th>\n",
       "      <th>...</th>\n",
       "      <th>39</th>\n",
       "      <th>40</th>\n",
       "      <th>41</th>\n",
       "      <th>42</th>\n",
       "      <th>43</th>\n",
       "      <th>44</th>\n",
       "      <th>45</th>\n",
       "      <th>46</th>\n",
       "      <th>47</th>\n",
       "      <th>48</th>\n",
       "    </tr>\n",
       "    <tr>\n",
       "      <th>DATE</th>\n",
       "      <th></th>\n",
       "      <th></th>\n",
       "      <th></th>\n",
       "      <th></th>\n",
       "      <th></th>\n",
       "      <th></th>\n",
       "      <th></th>\n",
       "      <th></th>\n",
       "      <th></th>\n",
       "      <th></th>\n",
       "      <th></th>\n",
       "      <th></th>\n",
       "      <th></th>\n",
       "      <th></th>\n",
       "      <th></th>\n",
       "      <th></th>\n",
       "      <th></th>\n",
       "      <th></th>\n",
       "      <th></th>\n",
       "      <th></th>\n",
       "      <th></th>\n",
       "    </tr>\n",
       "  </thead>\n",
       "  <tbody>\n",
       "    <tr>\n",
       "      <th>2021-02-21</th>\n",
       "      <td>0.100</td>\n",
       "      <td>0.088</td>\n",
       "      <td>0.100</td>\n",
       "      <td>0.088</td>\n",
       "      <td>0.100</td>\n",
       "      <td>0.100</td>\n",
       "      <td>0.100</td>\n",
       "      <td>0.088</td>\n",
       "      <td>0.100</td>\n",
       "      <td>0.088</td>\n",
       "      <td>...</td>\n",
       "      <td>0.213</td>\n",
       "      <td>0.175</td>\n",
       "      <td>0.163</td>\n",
       "      <td>0.175</td>\n",
       "      <td>0.113</td>\n",
       "      <td>0.088</td>\n",
       "      <td>0.088</td>\n",
       "      <td>0.075</td>\n",
       "      <td>0.088</td>\n",
       "      <td>0.075</td>\n",
       "    </tr>\n",
       "    <tr>\n",
       "      <th>2021-02-22</th>\n",
       "      <td>0.075</td>\n",
       "      <td>0.088</td>\n",
       "      <td>0.088</td>\n",
       "      <td>0.075</td>\n",
       "      <td>0.075</td>\n",
       "      <td>0.075</td>\n",
       "      <td>0.088</td>\n",
       "      <td>0.088</td>\n",
       "      <td>0.063</td>\n",
       "      <td>0.075</td>\n",
       "      <td>...</td>\n",
       "      <td>0.163</td>\n",
       "      <td>0.163</td>\n",
       "      <td>0.163</td>\n",
       "      <td>0.150</td>\n",
       "      <td>0.113</td>\n",
       "      <td>0.088</td>\n",
       "      <td>0.075</td>\n",
       "      <td>0.075</td>\n",
       "      <td>0.088</td>\n",
       "      <td>0.088</td>\n",
       "    </tr>\n",
       "    <tr>\n",
       "      <th>2021-02-23</th>\n",
       "      <td>0.088</td>\n",
       "      <td>0.075</td>\n",
       "      <td>0.075</td>\n",
       "      <td>0.088</td>\n",
       "      <td>0.088</td>\n",
       "      <td>0.088</td>\n",
       "      <td>0.075</td>\n",
       "      <td>0.075</td>\n",
       "      <td>0.075</td>\n",
       "      <td>0.088</td>\n",
       "      <td>...</td>\n",
       "      <td>0.175</td>\n",
       "      <td>0.138</td>\n",
       "      <td>0.138</td>\n",
       "      <td>0.125</td>\n",
       "      <td>0.113</td>\n",
       "      <td>0.088</td>\n",
       "      <td>0.075</td>\n",
       "      <td>0.075</td>\n",
       "      <td>0.100</td>\n",
       "      <td>0.088</td>\n",
       "    </tr>\n",
       "    <tr>\n",
       "      <th>2021-02-24</th>\n",
       "      <td>0.075</td>\n",
       "      <td>0.075</td>\n",
       "      <td>0.088</td>\n",
       "      <td>0.088</td>\n",
       "      <td>0.088</td>\n",
       "      <td>0.063</td>\n",
       "      <td>0.088</td>\n",
       "      <td>0.088</td>\n",
       "      <td>0.075</td>\n",
       "      <td>0.150</td>\n",
       "      <td>...</td>\n",
       "      <td>0.138</td>\n",
       "      <td>0.150</td>\n",
       "      <td>0.125</td>\n",
       "      <td>0.125</td>\n",
       "      <td>0.088</td>\n",
       "      <td>0.088</td>\n",
       "      <td>0.088</td>\n",
       "      <td>0.088</td>\n",
       "      <td>0.075</td>\n",
       "      <td>0.125</td>\n",
       "    </tr>\n",
       "    <tr>\n",
       "      <th>2021-02-25</th>\n",
       "      <td>0.125</td>\n",
       "      <td>0.113</td>\n",
       "      <td>0.075</td>\n",
       "      <td>0.075</td>\n",
       "      <td>0.100</td>\n",
       "      <td>0.088</td>\n",
       "      <td>0.075</td>\n",
       "      <td>0.075</td>\n",
       "      <td>0.075</td>\n",
       "      <td>0.088</td>\n",
       "      <td>...</td>\n",
       "      <td>0.138</td>\n",
       "      <td>0.150</td>\n",
       "      <td>0.138</td>\n",
       "      <td>0.125</td>\n",
       "      <td>0.075</td>\n",
       "      <td>0.088</td>\n",
       "      <td>0.088</td>\n",
       "      <td>0.088</td>\n",
       "      <td>0.063</td>\n",
       "      <td>0.150</td>\n",
       "    </tr>\n",
       "    <tr>\n",
       "      <th>...</th>\n",
       "      <td>...</td>\n",
       "      <td>...</td>\n",
       "      <td>...</td>\n",
       "      <td>...</td>\n",
       "      <td>...</td>\n",
       "      <td>...</td>\n",
       "      <td>...</td>\n",
       "      <td>...</td>\n",
       "      <td>...</td>\n",
       "      <td>...</td>\n",
       "      <td>...</td>\n",
       "      <td>...</td>\n",
       "      <td>...</td>\n",
       "      <td>...</td>\n",
       "      <td>...</td>\n",
       "      <td>...</td>\n",
       "      <td>...</td>\n",
       "      <td>...</td>\n",
       "      <td>...</td>\n",
       "      <td>...</td>\n",
       "      <td>...</td>\n",
       "    </tr>\n",
       "    <tr>\n",
       "      <th>2021-03-19</th>\n",
       "      <td>0.088</td>\n",
       "      <td>0.100</td>\n",
       "      <td>0.100</td>\n",
       "      <td>0.100</td>\n",
       "      <td>0.088</td>\n",
       "      <td>0.088</td>\n",
       "      <td>0.100</td>\n",
       "      <td>0.100</td>\n",
       "      <td>0.088</td>\n",
       "      <td>0.088</td>\n",
       "      <td>...</td>\n",
       "      <td>0.225</td>\n",
       "      <td>0.213</td>\n",
       "      <td>0.188</td>\n",
       "      <td>0.188</td>\n",
       "      <td>0.138</td>\n",
       "      <td>0.125</td>\n",
       "      <td>0.100</td>\n",
       "      <td>0.100</td>\n",
       "      <td>0.100</td>\n",
       "      <td>0.100</td>\n",
       "    </tr>\n",
       "    <tr>\n",
       "      <th>2021-03-20</th>\n",
       "      <td>0.088</td>\n",
       "      <td>0.100</td>\n",
       "      <td>0.113</td>\n",
       "      <td>0.088</td>\n",
       "      <td>0.100</td>\n",
       "      <td>0.088</td>\n",
       "      <td>0.088</td>\n",
       "      <td>0.088</td>\n",
       "      <td>0.088</td>\n",
       "      <td>0.088</td>\n",
       "      <td>...</td>\n",
       "      <td>0.200</td>\n",
       "      <td>0.150</td>\n",
       "      <td>0.138</td>\n",
       "      <td>0.125</td>\n",
       "      <td>0.113</td>\n",
       "      <td>0.100</td>\n",
       "      <td>0.088</td>\n",
       "      <td>0.075</td>\n",
       "      <td>0.075</td>\n",
       "      <td>0.088</td>\n",
       "    </tr>\n",
       "    <tr>\n",
       "      <th>2021-03-21</th>\n",
       "      <td>0.088</td>\n",
       "      <td>0.088</td>\n",
       "      <td>0.075</td>\n",
       "      <td>0.075</td>\n",
       "      <td>0.075</td>\n",
       "      <td>0.088</td>\n",
       "      <td>0.088</td>\n",
       "      <td>0.075</td>\n",
       "      <td>0.075</td>\n",
       "      <td>0.088</td>\n",
       "      <td>...</td>\n",
       "      <td>0.263</td>\n",
       "      <td>0.188</td>\n",
       "      <td>0.175</td>\n",
       "      <td>0.450</td>\n",
       "      <td>0.288</td>\n",
       "      <td>0.263</td>\n",
       "      <td>0.288</td>\n",
       "      <td>0.100</td>\n",
       "      <td>0.088</td>\n",
       "      <td>0.075</td>\n",
       "    </tr>\n",
       "    <tr>\n",
       "      <th>2021-03-22</th>\n",
       "      <td>0.075</td>\n",
       "      <td>0.088</td>\n",
       "      <td>0.088</td>\n",
       "      <td>0.088</td>\n",
       "      <td>0.075</td>\n",
       "      <td>0.075</td>\n",
       "      <td>0.075</td>\n",
       "      <td>0.088</td>\n",
       "      <td>0.088</td>\n",
       "      <td>0.075</td>\n",
       "      <td>...</td>\n",
       "      <td>0.175</td>\n",
       "      <td>0.163</td>\n",
       "      <td>0.163</td>\n",
       "      <td>0.125</td>\n",
       "      <td>0.113</td>\n",
       "      <td>0.088</td>\n",
       "      <td>0.088</td>\n",
       "      <td>0.075</td>\n",
       "      <td>0.088</td>\n",
       "      <td>0.088</td>\n",
       "    </tr>\n",
       "    <tr>\n",
       "      <th>2021-03-23</th>\n",
       "      <td>0.088</td>\n",
       "      <td>0.088</td>\n",
       "      <td>0.075</td>\n",
       "      <td>0.075</td>\n",
       "      <td>0.088</td>\n",
       "      <td>0.088</td>\n",
       "      <td>0.088</td>\n",
       "      <td>0.088</td>\n",
       "      <td>0.075</td>\n",
       "      <td>0.075</td>\n",
       "      <td>...</td>\n",
       "      <td>0.150</td>\n",
       "      <td>0.188</td>\n",
       "      <td>0.500</td>\n",
       "      <td>0.300</td>\n",
       "      <td>0.138</td>\n",
       "      <td>0.463</td>\n",
       "      <td>0.088</td>\n",
       "      <td>0.075</td>\n",
       "      <td>0.100</td>\n",
       "      <td>0.088</td>\n",
       "    </tr>\n",
       "  </tbody>\n",
       "</table>\n",
       "<p>31 rows × 48 columns</p>\n",
       "</div>"
      ],
      "text/plain": [
       "               1      2      3      4      5      6      7      8      9   \\\n",
       "DATE                                                                        \n",
       "2021-02-21  0.100  0.088  0.100  0.088  0.100  0.100  0.100  0.088  0.100   \n",
       "2021-02-22  0.075  0.088  0.088  0.075  0.075  0.075  0.088  0.088  0.063   \n",
       "2021-02-23  0.088  0.075  0.075  0.088  0.088  0.088  0.075  0.075  0.075   \n",
       "2021-02-24  0.075  0.075  0.088  0.088  0.088  0.063  0.088  0.088  0.075   \n",
       "2021-02-25  0.125  0.113  0.075  0.075  0.100  0.088  0.075  0.075  0.075   \n",
       "...           ...    ...    ...    ...    ...    ...    ...    ...    ...   \n",
       "2021-03-19  0.088  0.100  0.100  0.100  0.088  0.088  0.100  0.100  0.088   \n",
       "2021-03-20  0.088  0.100  0.113  0.088  0.100  0.088  0.088  0.088  0.088   \n",
       "2021-03-21  0.088  0.088  0.075  0.075  0.075  0.088  0.088  0.075  0.075   \n",
       "2021-03-22  0.075  0.088  0.088  0.088  0.075  0.075  0.075  0.088  0.088   \n",
       "2021-03-23  0.088  0.088  0.075  0.075  0.088  0.088  0.088  0.088  0.075   \n",
       "\n",
       "               10  ...       39     40     41     42     43     44     45  \\\n",
       "DATE               ...                                                      \n",
       "2021-02-21  0.088  ...    0.213  0.175  0.163  0.175  0.113  0.088  0.088   \n",
       "2021-02-22  0.075  ...    0.163  0.163  0.163  0.150  0.113  0.088  0.075   \n",
       "2021-02-23  0.088  ...    0.175  0.138  0.138  0.125  0.113  0.088  0.075   \n",
       "2021-02-24  0.150  ...    0.138  0.150  0.125  0.125  0.088  0.088  0.088   \n",
       "2021-02-25  0.088  ...    0.138  0.150  0.138  0.125  0.075  0.088  0.088   \n",
       "...           ...  ...      ...    ...    ...    ...    ...    ...    ...   \n",
       "2021-03-19  0.088  ...    0.225  0.213  0.188  0.188  0.138  0.125  0.100   \n",
       "2021-03-20  0.088  ...    0.200  0.150  0.138  0.125  0.113  0.100  0.088   \n",
       "2021-03-21  0.088  ...    0.263  0.188  0.175  0.450  0.288  0.263  0.288   \n",
       "2021-03-22  0.075  ...    0.175  0.163  0.163  0.125  0.113  0.088  0.088   \n",
       "2021-03-23  0.075  ...    0.150  0.188  0.500  0.300  0.138  0.463  0.088   \n",
       "\n",
       "               46     47     48  \n",
       "DATE                             \n",
       "2021-02-21  0.075  0.088  0.075  \n",
       "2021-02-22  0.075  0.088  0.088  \n",
       "2021-02-23  0.075  0.100  0.088  \n",
       "2021-02-24  0.088  0.075  0.125  \n",
       "2021-02-25  0.088  0.063  0.150  \n",
       "...           ...    ...    ...  \n",
       "2021-03-19  0.100  0.100  0.100  \n",
       "2021-03-20  0.075  0.075  0.088  \n",
       "2021-03-21  0.100  0.088  0.075  \n",
       "2021-03-22  0.075  0.088  0.088  \n",
       "2021-03-23  0.075  0.100  0.088  \n",
       "\n",
       "[31 rows x 48 columns]"
      ]
     },
     "execution_count": 38,
     "metadata": {},
     "output_type": "execute_result"
    }
   ],
   "source": [
    "df[-31:]"
   ]
  },
  {
   "cell_type": "code",
   "execution_count": 43,
   "metadata": {},
   "outputs": [
    {
     "data": {
      "text/html": [
       "<div>\n",
       "<style scoped>\n",
       "    .dataframe tbody tr th:only-of-type {\n",
       "        vertical-align: middle;\n",
       "    }\n",
       "\n",
       "    .dataframe tbody tr th {\n",
       "        vertical-align: top;\n",
       "    }\n",
       "\n",
       "    .dataframe thead th {\n",
       "        text-align: right;\n",
       "    }\n",
       "</style>\n",
       "<table border=\"1\" class=\"dataframe\">\n",
       "  <thead>\n",
       "    <tr style=\"text-align: right;\">\n",
       "      <th></th>\n",
       "      <th>1</th>\n",
       "      <th>2</th>\n",
       "      <th>3</th>\n",
       "      <th>4</th>\n",
       "      <th>5</th>\n",
       "      <th>6</th>\n",
       "      <th>7</th>\n",
       "      <th>8</th>\n",
       "      <th>9</th>\n",
       "      <th>10</th>\n",
       "      <th>...</th>\n",
       "      <th>39</th>\n",
       "      <th>40</th>\n",
       "      <th>41</th>\n",
       "      <th>42</th>\n",
       "      <th>43</th>\n",
       "      <th>44</th>\n",
       "      <th>45</th>\n",
       "      <th>46</th>\n",
       "      <th>47</th>\n",
       "      <th>48</th>\n",
       "    </tr>\n",
       "    <tr>\n",
       "      <th>DATE</th>\n",
       "      <th></th>\n",
       "      <th></th>\n",
       "      <th></th>\n",
       "      <th></th>\n",
       "      <th></th>\n",
       "      <th></th>\n",
       "      <th></th>\n",
       "      <th></th>\n",
       "      <th></th>\n",
       "      <th></th>\n",
       "      <th></th>\n",
       "      <th></th>\n",
       "      <th></th>\n",
       "      <th></th>\n",
       "      <th></th>\n",
       "      <th></th>\n",
       "      <th></th>\n",
       "      <th></th>\n",
       "      <th></th>\n",
       "      <th></th>\n",
       "      <th></th>\n",
       "    </tr>\n",
       "  </thead>\n",
       "  <tbody>\n",
       "    <tr>\n",
       "      <th>2021-01-29</th>\n",
       "      <td>0.088</td>\n",
       "      <td>0.100</td>\n",
       "      <td>0.100</td>\n",
       "      <td>0.100</td>\n",
       "      <td>0.088</td>\n",
       "      <td>0.088</td>\n",
       "      <td>0.100</td>\n",
       "      <td>0.100</td>\n",
       "      <td>0.100</td>\n",
       "      <td>0.088</td>\n",
       "      <td>...</td>\n",
       "      <td>0.225</td>\n",
       "      <td>0.213</td>\n",
       "      <td>0.213</td>\n",
       "      <td>0.175</td>\n",
       "      <td>0.113</td>\n",
       "      <td>0.113</td>\n",
       "      <td>0.100</td>\n",
       "      <td>0.100</td>\n",
       "      <td>0.088</td>\n",
       "      <td>0.088</td>\n",
       "    </tr>\n",
       "    <tr>\n",
       "      <th>2020-05-12</th>\n",
       "      <td>0.075</td>\n",
       "      <td>0.063</td>\n",
       "      <td>0.075</td>\n",
       "      <td>0.075</td>\n",
       "      <td>0.075</td>\n",
       "      <td>0.063</td>\n",
       "      <td>0.075</td>\n",
       "      <td>0.088</td>\n",
       "      <td>0.063</td>\n",
       "      <td>0.063</td>\n",
       "      <td>...</td>\n",
       "      <td>0.375</td>\n",
       "      <td>0.275</td>\n",
       "      <td>0.613</td>\n",
       "      <td>0.238</td>\n",
       "      <td>0.238</td>\n",
       "      <td>0.213</td>\n",
       "      <td>0.100</td>\n",
       "      <td>0.075</td>\n",
       "      <td>0.075</td>\n",
       "      <td>0.075</td>\n",
       "    </tr>\n",
       "    <tr>\n",
       "      <th>2019-09-15</th>\n",
       "      <td>0.075</td>\n",
       "      <td>0.075</td>\n",
       "      <td>0.063</td>\n",
       "      <td>0.063</td>\n",
       "      <td>0.063</td>\n",
       "      <td>0.075</td>\n",
       "      <td>0.063</td>\n",
       "      <td>0.063</td>\n",
       "      <td>0.075</td>\n",
       "      <td>0.063</td>\n",
       "      <td>...</td>\n",
       "      <td>0.150</td>\n",
       "      <td>0.150</td>\n",
       "      <td>0.200</td>\n",
       "      <td>0.175</td>\n",
       "      <td>0.163</td>\n",
       "      <td>0.150</td>\n",
       "      <td>0.113</td>\n",
       "      <td>0.100</td>\n",
       "      <td>0.100</td>\n",
       "      <td>0.100</td>\n",
       "    </tr>\n",
       "  </tbody>\n",
       "</table>\n",
       "<p>3 rows × 48 columns</p>\n",
       "</div>"
      ],
      "text/plain": [
       "               1      2      3      4      5      6      7      8      9   \\\n",
       "DATE                                                                        \n",
       "2021-01-29  0.088  0.100  0.100  0.100  0.088  0.088  0.100  0.100  0.100   \n",
       "2020-05-12  0.075  0.063  0.075  0.075  0.075  0.063  0.075  0.088  0.063   \n",
       "2019-09-15  0.075  0.075  0.063  0.063  0.063  0.075  0.063  0.063  0.075   \n",
       "\n",
       "               10  ...       39     40     41     42     43     44     45  \\\n",
       "DATE               ...                                                      \n",
       "2021-01-29  0.088  ...    0.225  0.213  0.213  0.175  0.113  0.113  0.100   \n",
       "2020-05-12  0.063  ...    0.375  0.275  0.613  0.238  0.238  0.213  0.100   \n",
       "2019-09-15  0.063  ...    0.150  0.150  0.200  0.175  0.163  0.150  0.113   \n",
       "\n",
       "               46     47     48  \n",
       "DATE                             \n",
       "2021-01-29  0.100  0.088  0.088  \n",
       "2020-05-12  0.075  0.075  0.075  \n",
       "2019-09-15  0.100  0.100  0.100  \n",
       "\n",
       "[3 rows x 48 columns]"
      ]
     },
     "execution_count": 43,
     "metadata": {},
     "output_type": "execute_result"
    }
   ],
   "source": [
    "df.sample(3)"
   ]
  },
  {
   "cell_type": "code",
   "execution_count": 73,
   "metadata": {
    "scrolled": false
   },
   "outputs": [
    {
     "data": {
      "image/png": "[encoded data removed]",
      "text/plain": [
       "<Figure size 1152x864 with 1 Axes>"
      ]
     },
     "metadata": {
      "needs_background": "light"
     },
     "output_type": "display_data"
    }
   ],
   "source": [
    "def create_distplot(df):\n",
    "    fig, ax = plt.subplots(figsize=(16,12))\n",
    "\n",
    "    p = plot_profile(df)\n",
    "    x = np.arange(48) + 1\n",
    "\n",
    "    # Plot mean\n",
    "    line0, = ax.plot(x, df.mean())  \n",
    "#     ax.plot(x, df.sample(3).T)\n",
    "    \n",
    "    # Plot Median\n",
    "    line3, = ax.plot(x, p[3], color = [0.5,0.5,0.5])\n",
    "\n",
    "    # Plot shaded area\n",
    "    x = np.concatenate((x, x[::-1]))\n",
    "\n",
    "    # 0th percentile\n",
    "    y = np.concatenate((p[0], p[1][::-1]))\n",
    "    line4, = ax.fill(x, y, alpha = 0.25, facecolor = [0.75, 0.75, 0.75], lw=0.5)\n",
    "\n",
    "    y = np.concatenate((p[1], p[2][::-1]))\n",
    "    line4, = ax.fill(x, y, alpha = 0.25, facecolor = [0.5, 0.5, 0.5], lw=0.5)\n",
    "\n",
    "    y = np.concatenate((p[2], p[3][::-1]))\n",
    "    line5, = ax.fill(x, y, alpha = 0.25, facecolor = [0.25, 0.25, 0.25], lw=0.5)\n",
    "\n",
    "    y = np.concatenate((p[3], p[4][::-1]))\n",
    "    line6, = ax.fill(x, y, alpha = 0.25, facecolor = [0.25, 0.25, 0.25], lw=0.5)\n",
    "\n",
    "    y = np.concatenate((p[4], p[5][::-1]))\n",
    "    line7, = ax.fill(x, y, alpha = 0.25, facecolor = [0.5, 0.5, 0.5], lw=0.5)\n",
    "\n",
    "    y = np.concatenate((p[5], p[6][::-1]))\n",
    "    line8, = ax.fill(x, y, alpha = 0.25, facecolor = [0.75, 0.75, 0.75], lw=0.5)\n",
    "\n",
    "    # ax.legend((line0, line1, line2, line3, line4, line5, line6, line7, line8), ('Mean','Max', 'Rolling Peak Day','Median', '50-75th per', '75-95th per', '95th-Max per'))\n",
    "\n",
    "    # ax.grid('On')\n",
    "    ax.set_xlim([1,48])\n",
    "    # ax.set_ylim(bottom=0)\n",
    "    # ax.set_ylim([0,1])\n",
    "    ax.set_ylabel('kWh')\n",
    "    ax.set_xlabel('Period')\n",
    "\n",
    "\n",
    "    # for t in nt:\n",
    "    #     ax.axvspan(t[0], t[1], alpha=0.1, facecolor = '0.65', edgecolor = '0.65')\n",
    "\n",
    "    # ax.axvline(34, color='r',linestyle = ':')\n",
    "    # ax.axvline(42, color='r',linestyle = ':')\n",
    "\n",
    "\n",
    "    # mv = dplot['Average'].iloc[14:44].mean()\n",
    "    # xs = np.arange(14,46)\n",
    "    # ys = np.ones(32)*mv\n",
    "    # ax.plot(xs,ys)\n",
    "\n",
    "    # djm.plot(ax=ax, colormap='spring')\n",
    "\n",
    "    # drm.plot(ax=ax, colormap='binary')\n",
    "\n",
    "    ax.set_xticks(ts)\n",
    "    ax.set_xticklabels([period_to_time(t) for t in ts])\n",
    "    ax.xaxis.grid('On')\n",
    "\n",
    "    # print mv\n",
    "    # ax.axhline(mv)\n",
    "\n",
    "create_distplot(df[-31:])"
   ]
  },
  {
   "cell_type": "code",
   "execution_count": null,
   "metadata": {},
   "outputs": [],
   "source": [
    "\n",
    "# FROM https://stackoverflow.com/questions/53071379/using-percentiles-of-a-timeseries-to-set-colour-gradient-in-pythons-matplotlib\n",
    "n = 11\n",
    "colormap = cm.Blues\n",
    "percentiles = np.linspace(0,100,n)\n",
    "\n",
    "SDist = np.zeros((48,n))\n",
    "for i in range(n):\n",
    "    for t in range(48):\n",
    "        SDist[t, i] = np.percentile(df.iloc[:,t], percentiles[i])\n",
    "        \n",
    "half = int((n-1)/2)\n",
    "\n",
    "\n",
    "fig, ax = plt.subplots(figsize=(16,12))\n",
    "\n",
    "ax.plot(range(48), df.mean(axis=0), color='k')\n",
    "ax.plot(range(48), SDist[:,half], color='g')\n",
    "\n",
    "for i in range(half):\n",
    "    ax.fill_between(range(48), SDist[:,i], SDist[:,-(i+1)], color=colormap(i/half), alpha = 0.5)\n",
    "    \n",
    "# ax.set_ylim([0, 0.5])"
   ]
  },
  {
   "cell_type": "code",
   "execution_count": null,
   "metadata": {},
   "outputs": [],
   "source": [
    "period_to_time(16)\n",
    "period_to_time(34)"
   ]
  },
  {
   "cell_type": "code",
   "execution_count": null,
   "metadata": {},
   "outputs": [],
   "source": [
    "period = 6\n",
    "(period //2) % 24,(period % 2)*30"
   ]
  },
  {
   "cell_type": "code",
   "execution_count": null,
   "metadata": {},
   "outputs": [],
   "source": [
    "fig = plt.Figure(figsize=(16,10))\n",
    "x = df.columns\n",
    "# y1=df.loc['2018-06-29']\n",
    "# y2=df.loc['2018-06-30']\n",
    "# y3=df.loc['2018-07-01']\n",
    "\n",
    "y1=df.loc['2021-03-20']\n",
    "y2=df.loc['2021-03-21']\n",
    "y3=df.loc['2021-03-22']\n",
    "\n",
    "ax1 = plt.subplot(3,1,1)\n",
    "ax1.bar(x, y1)\n",
    "\n",
    "ax2 = plt.subplot(3,1,2)\n",
    "ax2.bar(x, y2)\n",
    "\n",
    "ax3 = plt.subplot(3,1,3)\n",
    "ax3.bar(x, y3)"
   ]
  },
  {
   "cell_type": "code",
   "execution_count": null,
   "metadata": {},
   "outputs": [],
   "source": [
    "df.sample(1).values\n",
    "# df.loc['2021-03-10']"
   ]
  },
  {
   "cell_type": "code",
   "execution_count": null,
   "metadata": {},
   "outputs": [],
   "source": [
    "startdate = dt.date(2021,5,1)\n",
    "enddate = dt.date(2021,5,30)\n",
    "\n",
    "\n",
    "def plot_month(ax, df):\n",
    "\n",
    "    for i, (name, row) in enumerate(df.iterrows()):\n",
    "        d = '1'#pd.to_datetime(name[3]).strftime('%d')\n",
    "#         t = row['MaxTemp']   \n",
    "        color = 'grey'        \n",
    "        ax.plot(row, color = color, linewidth = 0.5, alpha = 0.2)\n",
    "\n",
    "    avg = df.mean(axis=0)\n",
    "    ax.plot(avg, 'k', linewidth = 2)\n",
    "    ax.set_xticks(ts)\n",
    "    ax.set_xticklabels(tl)\n",
    "    ax.xaxis.grid('On')\n",
    "#     ax.legend(loc='best', facecolor='k', framealpha=0.2, edgecolor ='k', frameon=True)\n",
    "    ax.set_xlim([0,47])\n",
    "    \n",
    "    return avg\n",
    "\n",
    "fig, ax = plt.subplots(figsize=(12,8))\n",
    "plot_month(ax, df.loc[str(startdate):str(enddate)]);\n",
    "# y1=df.loc['2021-03-10']\n",
    "# y2=df.loc['2021-03-22']\n",
    "# y3=df.loc['2021-03-23']\n",
    "y1 = df.loc[str(startdate):str(enddate)].sample(1)\n",
    "ax.plot(y1.T, 'r')\n",
    "ax.set_xlim([1,47])\n",
    "ax.set_ylabel('Energy (kWh per half hour)')"
   ]
  },
  {
   "cell_type": "code",
   "execution_count": null,
   "metadata": {},
   "outputs": [],
   "source": [
    "def plot_hm(df):\n",
    "    ytl = df.index.strftime('%a %d-%b')\n",
    "#     cmap = sns.color_palette(\"YlOrRd\",100)\n",
    "    cmap = sns.color_palette(\"rocket_r\", 40)\n",
    "    labels = df.applymap(lambda v: '{:3.1f}'.format(v) if v > 1.0 else \"\")\n",
    "    sns.heatmap(df, cmap=cmap, yticklabels=ytl, linewidth=0.01\n",
    "               ,linecolor=\"grey\"\n",
    "#                ,annot = labels, annot_kws={'fontsize':10}, fmt = ''\n",
    "               )#, vmin=0, vmax=3.5)\n",
    "    axes = fig.gca()\n",
    "#     axes.yaxis.grid(False)\n",
    "    axes.set_xticks(ts);\n",
    "    axes.set_xticklabels([period_to_time(t) for t in ts]);"
   ]
  },
  {
   "cell_type": "code",
   "execution_count": null,
   "metadata": {
    "scrolled": false
   },
   "outputs": [],
   "source": [
    "fig, ax = plt.subplots()\n",
    "fig.set_size_inches(16, 12)\n",
    "plot_hm(df[(df.index >='2021-01-01') & (df.index <'2021-04-01')])"
   ]
  },
  {
   "cell_type": "code",
   "execution_count": null,
   "metadata": {},
   "outputs": [],
   "source": [
    "fig, ax = plt.subplots()\n",
    "fig.set_size_inches(16, 12)\n",
    "plot_hm(df[(df.index >='2020-01-01') & (df.index <'2020-02-01')])"
   ]
  },
  {
   "cell_type": "code",
   "execution_count": null,
   "metadata": {
    "scrolled": true
   },
   "outputs": [],
   "source": [
    "df.sum().sum()\n",
    "dcf.sum().sum()"
   ]
  },
  {
   "cell_type": "code",
   "execution_count": null,
   "metadata": {},
   "outputs": [],
   "source": [
    "fig, ax = plt.subplots(figsize=(16,10))\n",
    "x = df.columns\n",
    "\n",
    "# y1=df.loc['2018-06-29']\n",
    "# y2=df.loc['2018-06-30']\n",
    "# y3=df.loc['2018-07-13']\n",
    "\n",
    "# y1=df.loc['2018-12-24']\n",
    "# y2=df.loc['2018-12-26']\n",
    "# y3=df.loc['2018-12-01']\n",
    "\n",
    "y1=df.loc['2021-03-21']\n",
    "# y2=df.loc['2021-03-22']\n",
    "# y3=df.loc['2021-03-23']\n",
    "\n",
    "\n",
    "\n",
    "ax.plot(x, y1)\n",
    "# ax.plot(x, y2)\n",
    "# ax.plot(x, y3)\n",
    "ax.plot(x, df.loc['2021-03-01':'2021-03-31'].mean(axis=0), 'k')\n",
    "# ax.bar(x, [y1, y2, y3])\n",
    "print(x)"
   ]
  },
  {
   "cell_type": "code",
   "execution_count": null,
   "metadata": {
    "scrolled": true
   },
   "outputs": [],
   "source": [
    "df[df.index >'2021-01-07'].applymap(lambda v: '{:3.1f}'.format(v) if v > 0.2 else \"\")"
   ]
  },
  {
   "cell_type": "code",
   "execution_count": null,
   "metadata": {},
   "outputs": [],
   "source": [
    "df.mean().plot(legend = 'Cropley')\n",
    "# df.max().plot(legend = 'Cropley')\n",
    "# df.std().plot()\n",
    "dcf.mean().plot()\n",
    "ax = plt.gca()\n",
    "ax.legend(['C','E'])\n",
    "# ax.plot(df.loc['2019-06-28'])"
   ]
  },
  {
   "cell_type": "code",
   "execution_count": null,
   "metadata": {},
   "outputs": [],
   "source": [
    "df.T.plot(legend=False)"
   ]
  },
  {
   "cell_type": "markdown",
   "metadata": {},
   "source": [
    "## Daily"
   ]
  },
  {
   "cell_type": "code",
   "execution_count": null,
   "metadata": {},
   "outputs": [],
   "source": [
    "df_daily = df.sum(axis=1).to_frame('Cons')\n",
    "dcf_daily = dcf.sum(axis=1).to_frame('Cons')"
   ]
  },
  {
   "cell_type": "code",
   "execution_count": null,
   "metadata": {
    "scrolled": false
   },
   "outputs": [],
   "source": [
    "bins = np.arange(0,25,0.5)\n",
    "bins = np.linspace(0,20,50);\n",
    "df_daily.plot(kind='hist', bins=bins, normed = True)\n",
    "dcf_daily.plot(kind='hist', bins=bins, normed = True)"
   ]
  },
  {
   "cell_type": "code",
   "execution_count": null,
   "metadata": {
    "scrolled": false
   },
   "outputs": [],
   "source": [
    "x1 = df_daily['Cons']\n",
    "bins = np.linspace(0,20,50);\n",
    "fix, ax = plt.subplots(figsize=(10,5));\n",
    "\n",
    "ax.hist(x1, bins, histtype='stepfilled', alpha=0.5, normed=True);\n",
    "\n",
    "x2 = dcf_daily['Cons']\n",
    "ax.hist(x2, bins, histtype='stepfilled', alpha=0.5, normed=True);"
   ]
  },
  {
   "cell_type": "code",
   "execution_count": null,
   "metadata": {},
   "outputs": [],
   "source": [
    "df_daily.sort_values(by='Cons', ascending=False)"
   ]
  },
  {
   "cell_type": "code",
   "execution_count": null,
   "metadata": {},
   "outputs": [],
   "source": [
    "ax = df_daily.plot()\n",
    "ax2 = dcf_daily.plot()\n",
    "ax3 = df_daily.rolling(365).sum().plot()\n",
    "dcf_daily.rolling(365).sum().plot(ax =ax3)\n",
    "ax3.set_ylim(bottom = 0)"
   ]
  },
  {
   "cell_type": "code",
   "execution_count": null,
   "metadata": {},
   "outputs": [],
   "source": [
    "fig, ax = plt.subplots()\n",
    "df_daily.groupby(df_daily.index.month).mean().plot(ax=ax, kind='bar')\n",
    "# dcf_daily.groupby(dcf_daily.index.month).sum().plot(ax=ax, kind='bar')\n",
    "ax.set_ylim(bottom=0)"
   ]
  },
  {
   "cell_type": "code",
   "execution_count": null,
   "metadata": {},
   "outputs": [],
   "source": [
    "df_daily.groupby(df_daily.index.month).mean().sum()"
   ]
  },
  {
   "cell_type": "code",
   "execution_count": null,
   "metadata": {},
   "outputs": [],
   "source": [
    "fig, ax = plt.subplots()\n",
    "df_daily[df_daily.index.year == 2020].groupby(df_daily[df_daily.index.year == 2020].index.month).sum().plot(ax=ax, kind='bar')\n",
    "# df_daily[df_daily.index.year == 2021].groupby(df_daily[df_daily.index.year == 2021].index.month).sum().plot(ax=ax, kind='bar')\n",
    "# df_daily[df_daily.index.year == 2019].groupby(df_daily[df_daily.index.year == 2019].index.month).sum().plot(ax=ax, kind='bar')"
   ]
  },
  {
   "cell_type": "code",
   "execution_count": null,
   "metadata": {},
   "outputs": [],
   "source": []
  },
  {
   "cell_type": "markdown",
   "metadata": {},
   "source": [
    "# Older Stuff"
   ]
  },
  {
   "cell_type": "code",
   "execution_count": null,
   "metadata": {},
   "outputs": [],
   "source": [
    "header = ['RecordIndicator','IntervalDate']+['IntervalValue%02d'% (x+1) for x in range(48)]+['QualityMethod','ReasonCode','ReasonDescription','UpdateDateTime','MSATSLoadDateTime']"
   ]
  },
  {
   "cell_type": "code",
   "execution_count": null,
   "metadata": {
    "scrolled": false
   },
   "outputs": [],
   "source": [
    "filename = '62038160906_20150814_20170814_lastrowremoved.txt'\n",
    "if os.path.isfile(filename):\n",
    "#     dateparse = lambda dates: [pd.datetime.strptime(d, '%d/%m/%Y %H:%M:%S') for d in dates]\n",
    "    dateparse = lambda dates: [pd.datetime.strptime(d, '%Y%m%d') for d in dates]\n",
    "    \n",
    "    df = pd.read_csv(filename, \n",
    "                       names=header, \n",
    "                       skiprows=2, \n",
    "                       parse_dates=[1], \n",
    "                       date_parser=dateparse)\n",
    "    print \"loaded \", filename, \" successfully\"\n",
    "else:\n",
    "    print \"File \", filename, \" not found\"\n",
    "df.dropna(axis=1, how = 'all', inplace=True)\n",
    "df.drop(['RecordIndicator'],1, inplace=True)\n",
    "df = df[['IntervalDate','QualityMethod','UpdateDateTime']+['IntervalValue%02d' % (x+1) for x in range(48)]]\n",
    "df.set_index('IntervalDate', inplace=True)\n",
    "# data.index = data['IntervalDate']\n",
    "# del data['IntervalDate']\n",
    "df"
   ]
  },
  {
   "cell_type": "code",
   "execution_count": null,
   "metadata": {},
   "outputs": [],
   "source": [
    "df.reset_index()"
   ]
  },
  {
   "cell_type": "code",
   "execution_count": null,
   "metadata": {
    "scrolled": false
   },
   "outputs": [],
   "source": [
    "df_hh = pd.melt(df.reset_index(), id_vars=['IntervalDate','QualityMethod'], \n",
    "        value_vars=['IntervalValue%02d' % (x+1) for x in range(48)],\n",
    "       var_name = 'Interval', value_name = 'ReadValue')\n",
    "df_hh['Interval'] = df_hh['Interval'].str[13:].astype(int)\n",
    "df_hh['IntervalDate'] = df_hh.apply(lambda row: row.IntervalDate + pd.Timedelta(minutes = 30*(row.Interval-1)), axis=1)\n",
    "df_hh = df_hh.set_index(['IntervalDate'])\n",
    "# df_hh.drop('Interval')\n",
    "df_hh.sort_index(inplace=True)\n",
    "df_hh"
   ]
  },
  {
   "cell_type": "code",
   "execution_count": null,
   "metadata": {},
   "outputs": [],
   "source": [
    "df_hh.plot(y = 'ReadValue')"
   ]
  },
  {
   "cell_type": "code",
   "execution_count": null,
   "metadata": {
    "scrolled": true
   },
   "outputs": [],
   "source": [
    "df[df.index.dayofweek == 6]"
   ]
  },
  {
   "cell_type": "code",
   "execution_count": null,
   "metadata": {
    "scrolled": true
   },
   "outputs": [],
   "source": [
    "#data['weekday'] = data.index.weekday\n",
    "df['weekday'] = data['weekday'].apply(lambda x: 1 if x < 5 else 0)\n",
    "data"
   ]
  },
  {
   "cell_type": "code",
   "execution_count": null,
   "metadata": {},
   "outputs": [],
   "source": []
  },
  {
   "cell_type": "code",
   "execution_count": null,
   "metadata": {},
   "outputs": [],
   "source": []
  },
  {
   "cell_type": "code",
   "execution_count": null,
   "metadata": {},
   "outputs": [],
   "source": [
    "dataf = {'date': ['2014-05-01 18:47:05.069722', '2014-05-01 18:47:05.119994', '2014-05-02 18:47:05.178768', '2014-05-02 18:47:05.230071', '2014-05-02 18:47:05.230071', '2014-05-02 18:47:05.280592', '2014-05-03 18:47:05.332662', '2014-05-03 18:47:05.385109', '2014-05-04 18:47:05.436523', '2014-05-04 18:47:05.486877'],\n",
    "        'battle_deaths': [34, 25, 26, 15, 15, 14, 26, 25, 62, 41]}\n",
    "df = pd.DataFrame(dataf, columns = ['date', 'battle_deaths'])\n",
    "print(df)"
   ]
  },
  {
   "cell_type": "code",
   "execution_count": null,
   "metadata": {},
   "outputs": [],
   "source": [
    "df['date'] = pd.to_datetime(df['date'])"
   ]
  },
  {
   "cell_type": "code",
   "execution_count": null,
   "metadata": {},
   "outputs": [],
   "source": [
    "df.index = df['date']\n",
    "del df['date']\n",
    "df"
   ]
  },
  {
   "cell_type": "code",
   "execution_count": null,
   "metadata": {},
   "outputs": [],
   "source": [
    "df['weekday'] = df.index.weekday"
   ]
  },
  {
   "cell_type": "code",
   "execution_count": null,
   "metadata": {
    "scrolled": true
   },
   "outputs": [],
   "source": [
    "df['weekday'].apply(lambda x: 1 if x < 5 else 0)"
   ]
  },
  {
   "cell_type": "code",
   "execution_count": null,
   "metadata": {},
   "outputs": [],
   "source": []
  },
  {
   "cell_type": "markdown",
   "metadata": {},
   "source": [
    "### Get Public Holidays"
   ]
  },
  {
   "cell_type": "code",
   "execution_count": 12,
   "metadata": {},
   "outputs": [],
   "source": [
    "from pandas.tseries.holiday import Holiday, EasterMonday, GoodFriday, AbstractHolidayCalendar, next_monday, MO, next_workday, nearest_workday\n",
    "from pandas.tseries.offsets import DateOffset, CustomBusinessDay\n",
    "from datetime import datetime\n",
    "def after_nearest_workday(dt):\n",
    "    \"\"\"\n",
    "    returns next workday after nearest workday\n",
    "    needed for Boxing day or multiple holidays in a series\n",
    "    got this from https://stackoverflow.com/questions/30485984/pandas-time-series-holiday-rule-offset\n",
    "    \"\"\"\n",
    "    return next_workday(nearest_workday(dt))"
   ]
  },
  {
   "cell_type": "code",
   "execution_count": null,
   "metadata": {},
   "outputs": [],
   "source": [
    "AFLGrandFinal2016 = Holiday('Friday Before Grand Final Day 2016', year = 2016, month=9, day = 30)"
   ]
  },
  {
   "cell_type": "code",
   "execution_count": 15,
   "metadata": {},
   "outputs": [],
   "source": [
    "class VicCalendar(AbstractHolidayCalendar):\n",
    "    rules = [\n",
    "        Holiday('New Year\\'s day', month = 1, day = 1, observance=next_monday),\n",
    "        Holiday('Australia Day', month = 1, day = 26, observance=next_monday),\n",
    "        Holiday('Labour Day', month = 3, day =1, offset = DateOffset(weekday=MO(2))),\n",
    "        EasterMonday,\n",
    "        GoodFriday,\n",
    "        Holiday('Friday Before Grand Final Day 2015', year = 2015, month=10, day = 2),\n",
    "        Holiday('Friday Before Grand Final Day 2016', year = 2016, month=9, day = 30),\n",
    "        Holiday('Friday Before Grand Final Day 2017', year = 2017, month=9, day = 29),\n",
    "        Holiday('ANZAC Day', month = 1, day = 25, observance=next_monday),\n",
    "        Holiday('Queen\\'s Birthday', month = 6, day =1, offset = DateOffset(weekday=MO(2))),\n",
    "        Holiday('Melbourne Cup Day', month = 11, day =1, offset = DateOffset(weekday=MO(1))),\n",
    "        Holiday('Christmas Day', month = 12, day =25, observance=next_monday),\n",
    "        Holiday('Boxing Day', month = 12, day =26, observance=after_nearest_workday)\n",
    "    ]"
   ]
  },
  {
   "cell_type": "code",
   "execution_count": 18,
   "metadata": {},
   "outputs": [
    {
     "data": {
      "text/plain": [
       "DatetimeIndex(['2020-12-25', '2020-12-28', '2021-01-01', '2021-01-25',\n",
       "               '2021-01-26'],\n",
       "              dtype='datetime64[ns]', freq=None)"
      ]
     },
     "execution_count": 18,
     "metadata": {},
     "output_type": "execute_result"
    }
   ],
   "source": [
    "cal = VicCalendar()\n",
    "vicholidays = VicCalendar().holidays(datetime(2020,12,1),datetime(2021,1,31))\n",
    "# cal.holidays(datetime(2016,1,1),datetime(2016,12,31))\n",
    "vicholidays"
   ]
  },
  {
   "cell_type": "code",
   "execution_count": null,
   "metadata": {},
   "outputs": [],
   "source": [
    "weekend_and_holiday_offset - CustomBusinessDay(calendar=VicCalendar())"
   ]
  },
  {
   "cell_type": "code",
   "execution_count": null,
   "metadata": {},
   "outputs": [],
   "source": []
  },
  {
   "cell_type": "code",
   "execution_count": null,
   "metadata": {},
   "outputs": [],
   "source": [
    "df[df.index.isin(vicholidays) ==True]"
   ]
  },
  {
   "cell_type": "code",
   "execution_count": null,
   "metadata": {},
   "outputs": [],
   "source": []
  },
  {
   "cell_type": "code",
   "execution_count": null,
   "metadata": {
    "scrolled": true
   },
   "outputs": [],
   "source": [
    "df['daily'] = df.iloc[:,3:51].sum(axis =1)"
   ]
  },
  {
   "cell_type": "code",
   "execution_count": null,
   "metadata": {
    "scrolled": true
   },
   "outputs": [],
   "source": [
    "df"
   ]
  },
  {
   "cell_type": "code",
   "execution_count": null,
   "metadata": {},
   "outputs": [],
   "source": [
    "df.plot(y='daily')"
   ]
  },
  {
   "cell_type": "code",
   "execution_count": null,
   "metadata": {},
   "outputs": [],
   "source": []
  },
  {
   "cell_type": "code",
   "execution_count": null,
   "metadata": {
    "scrolled": true
   },
   "outputs": [],
   "source": [
    "df = pd.melt(df, id_vars=['IntervalDate','QualityMethod'], \n",
    "        value_vars=['IntervalValue%02d' % (x+1) for x in range(48)],\n",
    "       var_name = 'Interval', value_name = 'Read')\n",
    "\n"
   ]
  },
  {
   "cell_type": "code",
   "execution_count": null,
   "metadata": {},
   "outputs": [],
   "source": [
    "df"
   ]
  },
  {
   "cell_type": "code",
   "execution_count": null,
   "metadata": {},
   "outputs": [],
   "source": []
  },
  {
   "cell_type": "code",
   "execution_count": null,
   "metadata": {},
   "outputs": [],
   "source": []
  },
  {
   "cell_type": "code",
   "execution_count": null,
   "metadata": {
    "scrolled": true
   },
   "outputs": [],
   "source": [
    "data.sort_values(['IntervalDate','Interval'])"
   ]
  },
  {
   "cell_type": "code",
   "execution_count": null,
   "metadata": {},
   "outputs": [],
   "source": [
    "data['Interval'] = data['Interval'].str.extract('(\\d+)').astype(int)"
   ]
  },
  {
   "cell_type": "code",
   "execution_count": null,
   "metadata": {
    "scrolled": true
   },
   "outputs": [],
   "source": [
    "ts = pd.DatetimeIndex(data.IntervalDate + data.Interval*pd.to_timedelta(30, unit='T'))\n",
    "data['HHDateTime'] = ts\n",
    "# data2['Month'] = ts.month\n",
    "# data2.head()\n",
    "data"
   ]
  },
  {
   "cell_type": "code",
   "execution_count": null,
   "metadata": {},
   "outputs": [],
   "source": [
    "data.plot(x='HHDateTime',y='Read')"
   ]
  },
  {
   "cell_type": "code",
   "execution_count": null,
   "metadata": {},
   "outputs": [],
   "source": [
    "data.groupby(['IntervalDate']).max().plot()"
   ]
  },
  {
   "cell_type": "code",
   "execution_count": null,
   "metadata": {
    "scrolled": true
   },
   "outputs": [],
   "source": [
    "dates = pd.DatetimeIndex(data['IntervalDate'])\n",
    "dates.month\n",
    "data['Month'] = dates.month"
   ]
  },
  {
   "cell_type": "code",
   "execution_count": null,
   "metadata": {},
   "outputs": [],
   "source": [
    "data.groupby(['Month']).max()"
   ]
  },
  {
   "cell_type": "code",
   "execution_count": null,
   "metadata": {},
   "outputs": [],
   "source": []
  }
 ],
 "metadata": {
  "anaconda-cloud": {},
  "kernelspec": {
   "display_name": "Python 3",
   "language": "python",
   "name": "python3"
  },
  "language_info": {
   "codemirror_mode": {
    "name": "ipython",
    "version": 3
   },
   "file_extension": ".py",
   "mimetype": "text/x-python",
   "name": "python",
   "nbconvert_exporter": "python",
   "pygments_lexer": "ipython3",
   "version": "3.7.3"
  }
 },
 "nbformat": 4,
 "nbformat_minor": 2
}
